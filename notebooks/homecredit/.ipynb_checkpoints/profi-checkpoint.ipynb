{
 "cells": [
  {
   "cell_type": "code",
   "execution_count": 40,
   "metadata": {
    "collapsed": true
   },
   "outputs": [],
   "source": [
    "import pandas as pd\n",
    "import datetime as dt\n",
    "import numpy as np"
   ]
  },
  {
   "cell_type": "code",
   "execution_count": 43,
   "metadata": {
    "collapsed": true
   },
   "outputs": [],
   "source": [
    "IN_PATH = '/Users/anokhin/Desktop/sample_mail_ok_vk_profi_raw_1120.tsv'\n",
    "OUT_PATH_ = 'leto.jss'"
   ]
  },
  {
   "cell_type": "code",
   "execution_count": 44,
   "metadata": {
    "collapsed": false
   },
   "outputs": [
    {
     "name": "stdout",
     "output_type": "stream",
     "text": [
      "2015-07-01 00:00:00\n"
     ]
    },
    {
     "data": {
      "text/html": [
       "<div>\n",
       "<table border=\"1\" class=\"dataframe\">\n",
       "  <thead>\n",
       "    <tr style=\"text-align: right;\">\n",
       "      <th></th>\n",
       "      <th>cuid</th>\n",
       "      <th>emails</th>\n",
       "      <th>okids</th>\n",
       "      <th>retro_dt</th>\n",
       "    </tr>\n",
       "  </thead>\n",
       "  <tbody>\n",
       "    <tr>\n",
       "      <th>0</th>\n",
       "      <td>10797857</td>\n",
       "      <td>q9lcDr+Srm3EMP81ht6daiIR8Jkh5HsV,q9lcDr+Srm26n...</td>\n",
       "      <td>445331687393,542038808728</td>\n",
       "      <td>2015-07-01</td>\n",
       "    </tr>\n",
       "    <tr>\n",
       "      <th>1</th>\n",
       "      <td>10797884</td>\n",
       "      <td>NaN</td>\n",
       "      <td>544109868796</td>\n",
       "      <td>2015-07-01</td>\n",
       "    </tr>\n",
       "    <tr>\n",
       "      <th>2</th>\n",
       "      <td>10797904</td>\n",
       "      <td>NaN</td>\n",
       "      <td>554548702286,560635318864</td>\n",
       "      <td>2015-07-01</td>\n",
       "    </tr>\n",
       "    <tr>\n",
       "      <th>3</th>\n",
       "      <td>10797938</td>\n",
       "      <td>WcyXDe0IWr6/9452uQ5k6Xe7znBm6rrEiCX4zeAEXtc=,z...</td>\n",
       "      <td>561111793333,479973243872</td>\n",
       "      <td>2015-07-01</td>\n",
       "    </tr>\n",
       "    <tr>\n",
       "      <th>4</th>\n",
       "      <td>10797996</td>\n",
       "      <td>NaN</td>\n",
       "      <td>573630336770,564347554975</td>\n",
       "      <td>2015-07-01</td>\n",
       "    </tr>\n",
       "  </tbody>\n",
       "</table>\n",
       "</div>"
      ],
      "text/plain": [
       "       cuid                                             emails  \\\n",
       "0  10797857  q9lcDr+Srm3EMP81ht6daiIR8Jkh5HsV,q9lcDr+Srm26n...   \n",
       "1  10797884                                                NaN   \n",
       "2  10797904                                                NaN   \n",
       "3  10797938  WcyXDe0IWr6/9452uQ5k6Xe7znBm6rrEiCX4zeAEXtc=,z...   \n",
       "4  10797996                                                NaN   \n",
       "\n",
       "                       okids   retro_dt  \n",
       "0  445331687393,542038808728 2015-07-01  \n",
       "1               544109868796 2015-07-01  \n",
       "2  554548702286,560635318864 2015-07-01  \n",
       "3  561111793333,479973243872 2015-07-01  \n",
       "4  573630336770,564347554975 2015-07-01  "
      ]
     },
     "execution_count": 44,
     "metadata": {},
     "output_type": "execute_result"
    }
   ],
   "source": [
    "ts_parser = lambda ts: dt.datetime.strptime(ts, \"%Y%m%d\")\n",
    "df1 = pd.read_csv(\n",
    "    IN_PATH, sep=\"\\t\", \n",
    "    header=None, names=['cuid', 'emails', 'okids', 'retro_dt'],\n",
    "    converters={'retro_dt': ts_parser},\n",
    "    dtype={\"okids\": str}\n",
    ")\n",
    "print df1[\"retro_dt\"].min()\n",
    "df1.head()"
   ]
  },
  {
   "cell_type": "code",
   "execution_count": 45,
   "metadata": {
    "collapsed": true
   },
   "outputs": [],
   "source": [
    "USER_PATTERN = '{\"vid\":\"%s\",\"okid\":%s,\"email\":%s,\"vkid\":null,\"category\":{\"int\":%d},\"start\":{\"long\":%d},\"end\":{\"long\":%d}}'\n",
    "STRING_PATTERN = '{\"string\":\"%s\"}'\n",
    "MONTH_SECONDS = 31 * 24 * 60 * 60"
   ]
  },
  {
   "cell_type": "code",
   "execution_count": 46,
   "metadata": {
    "collapsed": false
   },
   "outputs": [],
   "source": [
    "with open(OUT_PATH, \"w\") as out_file:\n",
    "    for i, row in df1.iterrows():\n",
    "        end_ts = int(row[\"retro_dt\"].strftime(\"%s\"))\n",
    "        start_ts = end_ts - MONTH_SECONDS        \n",
    "        \n",
    "        emails = row[\"emails\"].split(\",\") if pd.notnull(row[\"emails\"]) else [\"\"]\n",
    "        okids = row[\"okids\"].split(\",\") if pd.notnull(row[\"okids\"]) else [\"\"]\n",
    "        \n",
    "        for email in emails:\n",
    "            for okid in okids:\n",
    "                em = STRING_PATTERN % email if email else \"null\"\n",
    "                ok = STRING_PATTERN % okid if okid else \"null\"\n",
    "                print >> out_file, USER_PATTERN % (\"\", ok, em, 1, start_ts, end_ts)"
   ]
  },
  {
   "cell_type": "code",
   "execution_count": 47,
   "metadata": {
    "collapsed": false
   },
   "outputs": [],
   "source": [
    "USER_PATTERN = '{\"vid\":\"%s\",\"okid\":%s,\"email\":%s,\"vkid\":null,\"category\":{\"int\":%d},\"start\":{\"long\":%d},\"end\":{\"long\":%d}}'\n",
    "with open(\"active_emails.jss\", \"w\") as out_file:\n",
    "    with open(\"active_emails\") as ae:\n",
    "        for line in ae:\n",
    "            print >> out_file, USER_PATTERN % (\"\", \"null\", STRING_PATTERN % line.strip(), 2, 1435708800, 1446336000)"
   ]
  },
  {
   "cell_type": "code",
   "execution_count": null,
   "metadata": {
    "collapsed": true
   },
   "outputs": [],
   "source": []
  }
 ],
 "metadata": {
  "kernelspec": {
   "display_name": "Python 2",
   "language": "python",
   "name": "python2"
  },
  "language_info": {
   "codemirror_mode": {
    "name": "ipython",
    "version": 2
   },
   "file_extension": ".py",
   "mimetype": "text/x-python",
   "name": "python",
   "nbconvert_exporter": "python",
   "pygments_lexer": "ipython2",
   "version": "2.7.9"
  }
 },
 "nbformat": 4,
 "nbformat_minor": 0
}
