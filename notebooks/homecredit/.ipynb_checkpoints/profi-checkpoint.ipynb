{
 "cells": [
  {
   "cell_type": "code",
   "execution_count": 39,
   "metadata": {
    "collapsed": false
   },
   "outputs": [
    {
     "name": "stdout",
     "output_type": "stream",
     "text": [
      "Populating the interactive namespace from numpy and matplotlib\n"
     ]
    }
   ],
   "source": [
    "import pandas as pd\n",
    "import datetime as dt\n",
    "import numpy as np\n",
    "\n",
    "import pylab as pl\n",
    "import seaborn as sns\n",
    "import datetime as dt\n",
    "\n",
    "%pylab inline"
   ]
  },
  {
   "cell_type": "code",
   "execution_count": 45,
   "metadata": {
    "collapsed": true
   },
   "outputs": [],
   "source": [
    "IN_PATH = '/Users/anokhin/Desktop/profi_ckat_matched'\n",
    "SAMPLE_PATH = '/Users/anokhin/Desktop/profi_ckat_sample'\n",
    "LOC_PATH = '/Users/anokhin/Desktop/mailru_km_orders_data_clean_NEW.xlsx'"
   ]
  },
  {
   "cell_type": "code",
   "execution_count": 46,
   "metadata": {
    "collapsed": false,
    "scrolled": true
   },
   "outputs": [
    {
     "data": {
      "text/html": [
       "<div>\n",
       "<table border=\"1\" class=\"dataframe\">\n",
       "  <thead>\n",
       "    <tr style=\"text-align: right;\">\n",
       "      <th></th>\n",
       "      <th>klient_id</th>\n",
       "      <th>mb</th>\n",
       "      <th>emails</th>\n",
       "      <th>okids</th>\n",
       "      <th>vkids</th>\n",
       "      <th>age</th>\n",
       "      <th>gender</th>\n",
       "      <th>retro_dt</th>\n",
       "    </tr>\n",
       "  </thead>\n",
       "  <tbody>\n",
       "    <tr>\n",
       "      <th>0</th>\n",
       "      <td>beau=1000487</td>\n",
       "      <td>0</td>\n",
       "      <td>NaN</td>\n",
       "      <td>NaN</td>\n",
       "      <td>219933780</td>\n",
       "      <td>0.500000</td>\n",
       "      <td>0</td>\n",
       "      <td>2015-05-18</td>\n",
       "    </tr>\n",
       "    <tr>\n",
       "      <th>1</th>\n",
       "      <td>beau=1000560</td>\n",
       "      <td>3</td>\n",
       "      <td>NaN</td>\n",
       "      <td>519958602210</td>\n",
       "      <td>190613242</td>\n",
       "      <td>0.660178</td>\n",
       "      <td>0</td>\n",
       "      <td>2015-10-20</td>\n",
       "    </tr>\n",
       "    <tr>\n",
       "      <th>2</th>\n",
       "      <td>beau=1000560</td>\n",
       "      <td>0</td>\n",
       "      <td>X2V+XsytIeOY1xOsN7CCvvFhfUbIPc55</td>\n",
       "      <td>NaN</td>\n",
       "      <td>NaN</td>\n",
       "      <td>0.660178</td>\n",
       "      <td>0</td>\n",
       "      <td>2015-10-20</td>\n",
       "    </tr>\n",
       "    <tr>\n",
       "      <th>3</th>\n",
       "      <td>beau=1000982</td>\n",
       "      <td>3</td>\n",
       "      <td>rHMWdqV/aetBXSei8YqlI+TVEQ6hCvVL,2ELOi1eCH/CqZ...</td>\n",
       "      <td>58949664152</td>\n",
       "      <td>3272478</td>\n",
       "      <td>0.695453</td>\n",
       "      <td>0</td>\n",
       "      <td>2015-06-04</td>\n",
       "    </tr>\n",
       "    <tr>\n",
       "      <th>4</th>\n",
       "      <td>beau=1000982</td>\n",
       "      <td>0</td>\n",
       "      <td>GLN3hTnOyKMszF1+n0AMxoFZ5jAGYw5E,+HIaTnxgt0oM+...</td>\n",
       "      <td>NaN</td>\n",
       "      <td>NaN</td>\n",
       "      <td>0.695453</td>\n",
       "      <td>0</td>\n",
       "      <td>2015-06-04</td>\n",
       "    </tr>\n",
       "  </tbody>\n",
       "</table>\n",
       "</div>"
      ],
      "text/plain": [
       "      klient_id  mb                                             emails  \\\n",
       "0  beau=1000487   0                                                NaN   \n",
       "1  beau=1000560   3                                                NaN   \n",
       "2  beau=1000560   0                   X2V+XsytIeOY1xOsN7CCvvFhfUbIPc55   \n",
       "3  beau=1000982   3  rHMWdqV/aetBXSei8YqlI+TVEQ6hCvVL,2ELOi1eCH/CqZ...   \n",
       "4  beau=1000982   0  GLN3hTnOyKMszF1+n0AMxoFZ5jAGYw5E,+HIaTnxgt0oM+...   \n",
       "\n",
       "          okids      vkids       age  gender   retro_dt  \n",
       "0           NaN  219933780  0.500000       0 2015-05-18  \n",
       "1  519958602210  190613242  0.660178       0 2015-10-20  \n",
       "2           NaN        NaN  0.660178       0 2015-10-20  \n",
       "3   58949664152    3272478  0.695453       0 2015-06-04  \n",
       "4           NaN        NaN  0.695453       0 2015-06-04  "
      ]
     },
     "execution_count": 46,
     "metadata": {},
     "output_type": "execute_result"
    }
   ],
   "source": [
    "ts_parser = lambda ts: dt.datetime.strptime(ts, \"%Y%m%d\")\n",
    "df1 = pd.read_csv(\n",
    "    IN_PATH, sep=\"\\t\", \n",
    "    header=None, names=['klient_id', 'mb', 'emails', 'okids', 'vkids', 'age', 'gender', 'retro_dt'],\n",
    "    converters={'retro_dt': ts_parser},\n",
    "    dtype={\"okids\": str, \"vkids\": str}\n",
    ")\n",
    "\n",
    "df1.head()"
   ]
  },
  {
   "cell_type": "code",
   "execution_count": 47,
   "metadata": {
    "collapsed": false
   },
   "outputs": [
    {
     "data": {
      "text/html": [
       "<div>\n",
       "<table border=\"1\" class=\"dataframe\">\n",
       "  <thead>\n",
       "    <tr style=\"text-align: right;\">\n",
       "      <th></th>\n",
       "      <th>klient_id</th>\n",
       "      <th>phone</th>\n",
       "      <th>birth_dt</th>\n",
       "      <th>klient_gender</th>\n",
       "      <th>retro_dt</th>\n",
       "      <th>ckat</th>\n",
       "      <th>email</th>\n",
       "    </tr>\n",
       "  </thead>\n",
       "  <tbody>\n",
       "    <tr>\n",
       "      <th>0</th>\n",
       "      <td>medi=1197904</td>\n",
       "      <td>9651956276</td>\n",
       "      <td>XNA</td>\n",
       "      <td>0</td>\n",
       "      <td>2015-01-01</td>\n",
       "      <td>3</td>\n",
       "      <td>XNA</td>\n",
       "    </tr>\n",
       "    <tr>\n",
       "      <th>1</th>\n",
       "      <td>medi=1742854</td>\n",
       "      <td>9104461011</td>\n",
       "      <td>XNA</td>\n",
       "      <td>0</td>\n",
       "      <td>2015-01-01</td>\n",
       "      <td>2</td>\n",
       "      <td>XNA</td>\n",
       "    </tr>\n",
       "    <tr>\n",
       "      <th>2</th>\n",
       "      <td>medi=1995689</td>\n",
       "      <td>9262705909</td>\n",
       "      <td>XNA</td>\n",
       "      <td>1</td>\n",
       "      <td>2015-01-01</td>\n",
       "      <td>4</td>\n",
       "      <td>XNA</td>\n",
       "    </tr>\n",
       "    <tr>\n",
       "      <th>3</th>\n",
       "      <td>medi=2004118</td>\n",
       "      <td>9253780732</td>\n",
       "      <td>XNA</td>\n",
       "      <td>0</td>\n",
       "      <td>2015-01-01</td>\n",
       "      <td>3</td>\n",
       "      <td>XNA</td>\n",
       "    </tr>\n",
       "    <tr>\n",
       "      <th>4</th>\n",
       "      <td>medi=2226403</td>\n",
       "      <td>9150914705</td>\n",
       "      <td>XNA</td>\n",
       "      <td>0</td>\n",
       "      <td>2015-01-01</td>\n",
       "      <td>2</td>\n",
       "      <td>XNA</td>\n",
       "    </tr>\n",
       "  </tbody>\n",
       "</table>\n",
       "</div>"
      ],
      "text/plain": [
       "      klient_id       phone birth_dt klient_gender   retro_dt  ckat email\n",
       "0  medi=1197904  9651956276      XNA             0 2015-01-01     3   XNA\n",
       "1  medi=1742854  9104461011      XNA             0 2015-01-01     2   XNA\n",
       "2  medi=1995689  9262705909      XNA             1 2015-01-01     4   XNA\n",
       "3  medi=2004118  9253780732      XNA             0 2015-01-01     3   XNA\n",
       "4  medi=2226403  9150914705      XNA             0 2015-01-01     2   XNA"
      ]
     },
     "execution_count": 47,
     "metadata": {},
     "output_type": "execute_result"
    }
   ],
   "source": [
    "ts_parser = lambda ts: dt.datetime.strptime(ts, \"%Y%m%d\")\n",
    "df_ckat = pd.read_csv(\n",
    "    SAMPLE_PATH, sep=\"\\t\", \n",
    "    header=0, names=['klient_id', 'phone', 'birth_dt', 'klient_gender', 'retro_dt', 'ckat', 'email'],\n",
    "    converters={'retro_dt': ts_parser},\n",
    "    dtype={\"okids\": str, \"vkids\": str}\n",
    ")\n",
    "\n",
    "df_ckat.head()"
   ]
  },
  {
   "cell_type": "code",
   "execution_count": 65,
   "metadata": {
    "collapsed": false
   },
   "outputs": [
    {
     "name": "stdout",
     "output_type": "stream",
     "text": [
      "[u'\\u0423 \\u043c\\u0430\\u0441\\u0442\\u0435\\u0440\\u0430']\n",
      "1\n",
      "[u'\\u0423 \\u043c\\u0430\\u0441\\u0442\\u0435\\u0440\\u0430']\n",
      "1\n",
      "[u'\\u0423 \\u043c\\u0430\\u0441\\u0442\\u0435\\u0440\\u0430']\n"
     ]
    },
    {
     "ename": "TypeError",
     "evalue": "'Series' objects are mutable, thus they cannot be hashed",
     "output_type": "error",
     "traceback": [
      "\u001b[0;31m---------------------------------------------------------------------------\u001b[0m",
      "\u001b[0;31mTypeError\u001b[0m                                 Traceback (most recent call last)",
      "\u001b[0;32m<ipython-input-65-155eb0c853bf>\u001b[0m in \u001b[0;36m<module>\u001b[0;34m()\u001b[0m\n\u001b[1;32m      9\u001b[0m \u001b[0;32mprint\u001b[0m \u001b[0mlocation\u001b[0m\u001b[0;34m(\u001b[0m\u001b[0;34m\"beau=2289090\"\u001b[0m\u001b[0;34m)\u001b[0m\u001b[0;34m\u001b[0m\u001b[0m\n\u001b[1;32m     10\u001b[0m \u001b[0;32mprint\u001b[0m \u001b[0mlocation\u001b[0m\u001b[0;34m(\u001b[0m\u001b[0;34m\"beau=1001541\"\u001b[0m\u001b[0;34m)\u001b[0m\u001b[0;34m\u001b[0m\u001b[0m\n\u001b[0;32m---> 11\u001b[0;31m \u001b[0;32mprint\u001b[0m \u001b[0mlocation\u001b[0m\u001b[0;34m(\u001b[0m\u001b[0;34m\"beau=1636650\"\u001b[0m\u001b[0;34m)\u001b[0m\u001b[0;34m\u001b[0m\u001b[0m\n\u001b[0m\u001b[1;32m     12\u001b[0m \u001b[0;32mprint\u001b[0m \u001b[0mlocation\u001b[0m\u001b[0;34m(\u001b[0m\u001b[0;34m\"beau=1001404\"\u001b[0m\u001b[0;34m)\u001b[0m\u001b[0;34m\u001b[0m\u001b[0m\n\u001b[1;32m     13\u001b[0m \u001b[0;34m\u001b[0m\u001b[0m\n",
      "\u001b[0;32m<ipython-input-65-155eb0c853bf>\u001b[0m in \u001b[0;36mlocation\u001b[0;34m(klient_id)\u001b[0m\n\u001b[1;32m      5\u001b[0m     \u001b[0mkid\u001b[0m \u001b[0;34m=\u001b[0m \u001b[0mklient_id\u001b[0m\u001b[0;34m.\u001b[0m\u001b[0mstrip\u001b[0m\u001b[0;34m(\u001b[0m\u001b[0;34m\"beau=\"\u001b[0m\u001b[0;34m)\u001b[0m\u001b[0;34m\u001b[0m\u001b[0m\n\u001b[1;32m      6\u001b[0m     \u001b[0;32mprint\u001b[0m \u001b[0mnp\u001b[0m\u001b[0;34m.\u001b[0m\u001b[0munique\u001b[0m\u001b[0;34m(\u001b[0m\u001b[0mdf_loc\u001b[0m\u001b[0;34m.\u001b[0m\u001b[0mloc\u001b[0m\u001b[0;34m[\u001b[0m\u001b[0mint\u001b[0m\u001b[0;34m(\u001b[0m\u001b[0mkid\u001b[0m\u001b[0;34m)\u001b[0m\u001b[0;34m]\u001b[0m\u001b[0;34m[\u001b[0m\u001b[0;34m\"location\"\u001b[0m\u001b[0;34m]\u001b[0m\u001b[0;34m)\u001b[0m\u001b[0;34m\u001b[0m\u001b[0m\n\u001b[0;32m----> 7\u001b[0;31m     \u001b[0;32mreturn\u001b[0m \u001b[0mmapping\u001b[0m\u001b[0;34m[\u001b[0m\u001b[0mdf_loc\u001b[0m\u001b[0;34m.\u001b[0m\u001b[0mloc\u001b[0m\u001b[0;34m[\u001b[0m\u001b[0mint\u001b[0m\u001b[0;34m(\u001b[0m\u001b[0mkid\u001b[0m\u001b[0;34m)\u001b[0m\u001b[0;34m]\u001b[0m\u001b[0;34m[\u001b[0m\u001b[0;34m\"location\"\u001b[0m\u001b[0;34m]\u001b[0m\u001b[0;34m]\u001b[0m\u001b[0;34m\u001b[0m\u001b[0m\n\u001b[0m\u001b[1;32m      8\u001b[0m \u001b[0;34m\u001b[0m\u001b[0m\n\u001b[1;32m      9\u001b[0m \u001b[0;32mprint\u001b[0m \u001b[0mlocation\u001b[0m\u001b[0;34m(\u001b[0m\u001b[0;34m\"beau=2289090\"\u001b[0m\u001b[0;34m)\u001b[0m\u001b[0;34m\u001b[0m\u001b[0m\n",
      "\u001b[0;32m/usr/local/lib/python2.7/site-packages/pandas/core/generic.pyc\u001b[0m in \u001b[0;36m__hash__\u001b[0;34m(self)\u001b[0m\n\u001b[1;32m    678\u001b[0m     \u001b[0;32mdef\u001b[0m \u001b[0m__hash__\u001b[0m\u001b[0;34m(\u001b[0m\u001b[0mself\u001b[0m\u001b[0;34m)\u001b[0m\u001b[0;34m:\u001b[0m\u001b[0;34m\u001b[0m\u001b[0m\n\u001b[1;32m    679\u001b[0m         raise TypeError('{0!r} objects are mutable, thus they cannot be'\n\u001b[0;32m--> 680\u001b[0;31m                         ' hashed'.format(self.__class__.__name__))\n\u001b[0m\u001b[1;32m    681\u001b[0m \u001b[0;34m\u001b[0m\u001b[0m\n\u001b[1;32m    682\u001b[0m     \u001b[0;32mdef\u001b[0m \u001b[0m__iter__\u001b[0m\u001b[0;34m(\u001b[0m\u001b[0mself\u001b[0m\u001b[0;34m)\u001b[0m\u001b[0;34m:\u001b[0m\u001b[0;34m\u001b[0m\u001b[0m\n",
      "\u001b[0;31mTypeError\u001b[0m: 'Series' objects are mutable, thus they cannot be hashed"
     ]
    }
   ],
   "source": [
    "df_loc = pd.ExcelFile(LOC_PATH).parse(0).set_index(\"klient_id\")\n",
    "\n",
    "def location(klient_id):\n",
    "    mapping = {u\"У мастера\": 1, u\"У клиента\": 2, u\"Не принципиально\": 3}\n",
    "    kid = klient_id.strip(\"beau=\")\n",
    "    locs = np.unique(df_loc.loc[int(kid)][\"location\"])\n",
    "    if len(locs) != 1:\n",
    "        return None\n",
    "    else:\n",
    "        return mapping[locs[0]]   \n",
    "\n",
    "print location(\"beau=2289090\")\n",
    "print location(\"beau=1001541\")\n",
    "print location(\"beau=1636650\")\n",
    "print location(\"beau=1001404\")\n",
    "\n",
    "df_loc.head()"
   ]
  },
  {
   "cell_type": "code",
   "execution_count": 15,
   "metadata": {
    "collapsed": false
   },
   "outputs": [
    {
     "data": {
      "text/html": [
       "<div>\n",
       "<table border=\"1\" class=\"dataframe\">\n",
       "  <thead>\n",
       "    <tr style=\"text-align: right;\">\n",
       "      <th></th>\n",
       "      <th>klient_id</th>\n",
       "      <th>mb</th>\n",
       "      <th>emails</th>\n",
       "      <th>okids</th>\n",
       "      <th>vkids</th>\n",
       "      <th>age</th>\n",
       "      <th>gender</th>\n",
       "      <th>retro_dt</th>\n",
       "      <th>phone</th>\n",
       "      <th>birth_dt</th>\n",
       "      <th>klient_gender</th>\n",
       "      <th>ckat</th>\n",
       "      <th>email</th>\n",
       "    </tr>\n",
       "  </thead>\n",
       "  <tbody>\n",
       "    <tr>\n",
       "      <th>1</th>\n",
       "      <td>beau=1000560</td>\n",
       "      <td>3</td>\n",
       "      <td>NaN</td>\n",
       "      <td>519958602210</td>\n",
       "      <td>190613242</td>\n",
       "      <td>0.660178</td>\n",
       "      <td>0</td>\n",
       "      <td>2015-10-20</td>\n",
       "      <td>9167389282</td>\n",
       "      <td>XNA</td>\n",
       "      <td>0</td>\n",
       "      <td>2</td>\n",
       "      <td>XNA</td>\n",
       "    </tr>\n",
       "    <tr>\n",
       "      <th>3</th>\n",
       "      <td>beau=1000982</td>\n",
       "      <td>3</td>\n",
       "      <td>rHMWdqV/aetBXSei8YqlI+TVEQ6hCvVL,2ELOi1eCH/CqZ...</td>\n",
       "      <td>58949664152</td>\n",
       "      <td>3272478</td>\n",
       "      <td>0.695453</td>\n",
       "      <td>0</td>\n",
       "      <td>2015-06-04</td>\n",
       "      <td>9037614667</td>\n",
       "      <td>XNA</td>\n",
       "      <td>0</td>\n",
       "      <td>1</td>\n",
       "      <td>XNA</td>\n",
       "    </tr>\n",
       "    <tr>\n",
       "      <th>6</th>\n",
       "      <td>beau=1001404</td>\n",
       "      <td>3</td>\n",
       "      <td>NaN</td>\n",
       "      <td>412876980,531716672876</td>\n",
       "      <td>112225908</td>\n",
       "      <td>0.327820</td>\n",
       "      <td>0</td>\n",
       "      <td>2015-07-19</td>\n",
       "      <td>9161585062</td>\n",
       "      <td>XNA</td>\n",
       "      <td>0</td>\n",
       "      <td>0</td>\n",
       "      <td>XNA</td>\n",
       "    </tr>\n",
       "    <tr>\n",
       "      <th>7</th>\n",
       "      <td>beau=1001541</td>\n",
       "      <td>3</td>\n",
       "      <td>NaN</td>\n",
       "      <td>NaN</td>\n",
       "      <td>2666347</td>\n",
       "      <td>0.278908</td>\n",
       "      <td>0</td>\n",
       "      <td>2015-11-23</td>\n",
       "      <td>9255208486</td>\n",
       "      <td>XNA</td>\n",
       "      <td>0</td>\n",
       "      <td>1</td>\n",
       "      <td>XNA</td>\n",
       "    </tr>\n",
       "    <tr>\n",
       "      <th>8</th>\n",
       "      <td>beau=1001559</td>\n",
       "      <td>3</td>\n",
       "      <td>NaN</td>\n",
       "      <td>450574967666</td>\n",
       "      <td>NaN</td>\n",
       "      <td>0.580796</td>\n",
       "      <td>0</td>\n",
       "      <td>2015-09-16</td>\n",
       "      <td>9169120362</td>\n",
       "      <td>XNA</td>\n",
       "      <td>0</td>\n",
       "      <td>0</td>\n",
       "      <td>XNA</td>\n",
       "    </tr>\n",
       "  </tbody>\n",
       "</table>\n",
       "</div>"
      ],
      "text/plain": [
       "      klient_id  mb                                             emails  \\\n",
       "1  beau=1000560   3                                                NaN   \n",
       "3  beau=1000982   3  rHMWdqV/aetBXSei8YqlI+TVEQ6hCvVL,2ELOi1eCH/CqZ...   \n",
       "6  beau=1001404   3                                                NaN   \n",
       "7  beau=1001541   3                                                NaN   \n",
       "8  beau=1001559   3                                                NaN   \n",
       "\n",
       "                    okids      vkids       age  gender   retro_dt       phone  \\\n",
       "1            519958602210  190613242  0.660178       0 2015-10-20  9167389282   \n",
       "3             58949664152    3272478  0.695453       0 2015-06-04  9037614667   \n",
       "6  412876980,531716672876  112225908  0.327820       0 2015-07-19  9161585062   \n",
       "7                     NaN    2666347  0.278908       0 2015-11-23  9255208486   \n",
       "8            450574967666        NaN  0.580796       0 2015-09-16  9169120362   \n",
       "\n",
       "  birth_dt klient_gender  ckat email  \n",
       "1      XNA             0     2   XNA  \n",
       "3      XNA             0     1   XNA  \n",
       "6      XNA             0     0   XNA  \n",
       "7      XNA             0     1   XNA  \n",
       "8      XNA             0     0   XNA  "
      ]
     },
     "execution_count": 15,
     "metadata": {},
     "output_type": "execute_result"
    }
   ],
   "source": [
    "df = pd.merge(df1, df_ckat, how='inner', on=['klient_id', 'retro_dt'])\n",
    "df_m = df[df.mb == 3]\n",
    "df_m.head()"
   ]
  },
  {
   "cell_type": "code",
   "execution_count": 27,
   "metadata": {
    "collapsed": false
   },
   "outputs": [
    {
     "name": "stdout",
     "output_type": "stream",
     "text": [
      "Found data MEDI=(34347, 13), BEAU=(31906, 13)\n"
     ]
    }
   ],
   "source": [
    "df_medi = df_m[df_m.klient_id.map(lambda i: i.startswith(\"medi=\"))].copy()\n",
    "df_beau = df_m[df_m.klient_id.map(lambda i: i.startswith(\"beau=\"))].copy()\n",
    "print \"Found data MEDI=%s, BEAU=%s\" % (df_medi.shape, df_beau.shape)"
   ]
  },
  {
   "cell_type": "code",
   "execution_count": 28,
   "metadata": {
    "collapsed": false
   },
   "outputs": [
    {
     "data": {
      "image/png": "[encoded data removed]",
      "text/plain": [
       "<matplotlib.figure.Figure at 0x110748f90>"
      ]
     },
     "metadata": {},
     "output_type": "display_data"
    }
   ],
   "source": [
    "pl.figure(figsize=(12, 6))\n",
    "\n",
    "df_medi.retro_dt.hist(bins=14, label=\"medics\", alpha=0.5)\n",
    "df_beau.retro_dt.hist(bins=14, label=\"doctors\", alpha=0.5)\n",
    "pl.title(\"Retro date\")\n",
    "pl.legend()\n",
    "\n",
    "pl.show()"
   ]
  },
  {
   "cell_type": "markdown",
   "metadata": {},
   "source": [
    "## Медики!"
   ]
  },
  {
   "cell_type": "code",
   "execution_count": 29,
   "metadata": {
    "collapsed": false
   },
   "outputs": [
    {
     "data": {
      "text/html": [
       "<div>\n",
       "<table border=\"1\" class=\"dataframe\">\n",
       "  <thead>\n",
       "    <tr style=\"text-align: right;\">\n",
       "      <th></th>\n",
       "      <th>klient_id</th>\n",
       "    </tr>\n",
       "    <tr>\n",
       "      <th>ckat</th>\n",
       "      <th></th>\n",
       "    </tr>\n",
       "  </thead>\n",
       "  <tbody>\n",
       "    <tr>\n",
       "      <th>0</th>\n",
       "      <td>6526</td>\n",
       "    </tr>\n",
       "    <tr>\n",
       "      <th>1</th>\n",
       "      <td>1067</td>\n",
       "    </tr>\n",
       "    <tr>\n",
       "      <th>2</th>\n",
       "      <td>3667</td>\n",
       "    </tr>\n",
       "    <tr>\n",
       "      <th>3</th>\n",
       "      <td>4771</td>\n",
       "    </tr>\n",
       "    <tr>\n",
       "      <th>4</th>\n",
       "      <td>689</td>\n",
       "    </tr>\n",
       "  </tbody>\n",
       "</table>\n",
       "</div>"
      ],
      "text/plain": [
       "      klient_id\n",
       "ckat           \n",
       "0          6526\n",
       "1          1067\n",
       "2          3667\n",
       "3          4771\n",
       "4           689"
      ]
     },
     "execution_count": 29,
     "metadata": {},
     "output_type": "execute_result"
    }
   ],
   "source": [
    "df_medi[df_medi[\"retro_dt\"] >= dt.date(2015, 9, 1)][[\"klient_id\", \"ckat\"]].groupby('ckat').count()"
   ]
  },
  {
   "cell_type": "code",
   "execution_count": 32,
   "metadata": {
    "collapsed": false
   },
   "outputs": [
    {
     "data": {
      "text/html": [
       "<div>\n",
       "<table border=\"1\" class=\"dataframe\">\n",
       "  <thead>\n",
       "    <tr style=\"text-align: right;\">\n",
       "      <th></th>\n",
       "      <th>klient_id</th>\n",
       "    </tr>\n",
       "    <tr>\n",
       "      <th>category</th>\n",
       "      <th></th>\n",
       "    </tr>\n",
       "  </thead>\n",
       "  <tbody>\n",
       "    <tr>\n",
       "      <th>1</th>\n",
       "      <td>6526</td>\n",
       "    </tr>\n",
       "    <tr>\n",
       "      <th>2</th>\n",
       "      <td>4734</td>\n",
       "    </tr>\n",
       "    <tr>\n",
       "      <th>3</th>\n",
       "      <td>5460</td>\n",
       "    </tr>\n",
       "  </tbody>\n",
       "</table>\n",
       "</div>"
      ],
      "text/plain": [
       "          klient_id\n",
       "category           \n",
       "1              6526\n",
       "2              4734\n",
       "3              5460"
      ]
     },
     "execution_count": 32,
     "metadata": {},
     "output_type": "execute_result"
    }
   ],
   "source": [
    "df_medi[\"category\"] = df_medi.ckat.map(lambda c: 1 if c == 0 else (2 if c == 1 or c == 2 else 3))\n",
    "df_medi[df_medi[\"retro_dt\"] >= dt.date(2015, 9, 1)][[\"klient_id\", \"category\"]].groupby('category').count()"
   ]
  },
  {
   "cell_type": "code",
   "execution_count": 33,
   "metadata": {
    "collapsed": true
   },
   "outputs": [],
   "source": [
    "USER_PATTERN = '{\"vid\":\"%s\",\"okid\":%s,\"email\":%s,\"vkid\":%s,\"category\":{\"int\":%s},\"start\":{\"long\":%d},\"end\":{\"long\":%d}}'\n",
    "STRING_PATTERN = '{\"string\":\"%s\"}'\n",
    "MONTH_SECONDS = 31 * 24 * 60 * 60"
   ]
  },
  {
   "cell_type": "code",
   "execution_count": 34,
   "metadata": {
    "collapsed": true
   },
   "outputs": [],
   "source": [
    "OUT_PATH_MEDIC = '/Users/anokhin/Desktop/profi_medic.la.jss'"
   ]
  },
  {
   "cell_type": "code",
   "execution_count": 36,
   "metadata": {
    "collapsed": false
   },
   "outputs": [],
   "source": [
    "with open(OUT_PATH_MEDIC, \"w\") as out_file_medic:    \n",
    "        for i, row in df_medi.iterrows():\n",
    "            end_ts = int(row[\"retro_dt\"].strftime(\"%s\"))\n",
    "            start_ts = end_ts - MONTH_SECONDS\n",
    "\n",
    "            emails = row[\"emails\"].split(\",\") if pd.notnull(row[\"emails\"]) else [\"\"]\n",
    "            okids = row[\"okids\"].split(\",\") if pd.notnull(row[\"okids\"]) else [\"\"]\n",
    "            vkids = row[\"vkids\"].split(\",\") if pd.notnull(row[\"vkids\"]) else [\"\"]           \n",
    "            \n",
    "            category = row[\"category\"]\n",
    "\n",
    "            for email in emails:\n",
    "                for okid in okids:\n",
    "                    for vkid in vkids:\n",
    "                        em = STRING_PATTERN % email if email else \"null\"\n",
    "                        ok = STRING_PATTERN % okid if okid else \"null\"\n",
    "                        vk = STRING_PATTERN % vkid if vkid else \"null\"                       \n",
    "                            \n",
    "                        if category:\n",
    "                            print >> out_file_medic, USER_PATTERN % (\"\", ok, em, vk, int(category), start_ts, end_ts)"
   ]
  },
  {
   "cell_type": "code",
   "execution_count": 19,
   "metadata": {
    "collapsed": false
   },
   "outputs": [],
   "source": [
    "USER_PATTERN = '{\"vid\":\"%s\",\"okid\":%s,\"email\":%s,\"vkid\":null,\"category\":{\"int\":%d},\"start\":{\"long\":%d},\"end\":{\"long\":%d}}'\n",
    "with open(\"/Users/anokhin/Desktop/active_emails.jss\", \"w\") as out_file:\n",
    "    with open(\"/Users/anokhin/Desktop/active_emails_1\") as ae:\n",
    "        for line in ae:\n",
    "            print >> out_file, USER_PATTERN % (\"\", \"null\", STRING_PATTERN % line.strip(), 6, 1446163200, 1448841600)"
   ]
  },
  {
   "cell_type": "code",
   "execution_count": 37,
   "metadata": {
    "collapsed": false
   },
   "outputs": [
    {
     "name": "stdout",
     "output_type": "stream",
     "text": [
      "{\"vid\":\"\",\"okid\":{\"string\":\"522413589455\"},\"email\":null,\"vkid\":{\"string\":\"156068915\"},\"category\":{\"int\":1},\"start\":{\"long\":1423256400},\"end\":{\"long\":1425934800}}\n",
      "{\"vid\":\"\",\"okid\":{\"string\":\"125060320539\"},\"email\":{\"string\":\"ONSXhR6O/xRwR/51RnKmt+TVEQ6hCvVL\"},\"vkid\":{\"string\":\"62975440\"},\"category\":{\"int\":1},\"start\":{\"long\":1442523600},\"end\":{\"long\":1445202000}}\n",
      "{\"vid\":\"\",\"okid\":{\"string\":\"572477698068\"},\"email\":null,\"vkid\":{\"string\":\"52687177\"},\"category\":{\"int\":2},\"start\":{\"long\":1427230800},\"end\":{\"long\":1429909200}}\n",
      "{\"vid\":\"\",\"okid\":{\"string\":\"278028932\"},\"email\":null,\"vkid\":null,\"category\":{\"int\":2},\"start\":{\"long\":1431637200},\"end\":{\"long\":1434315600}}\n",
      "{\"vid\":\"\",\"okid\":{\"string\":\"462761439119\"},\"email\":null,\"vkid\":{\"string\":\"182540015\"},\"category\":{\"int\":3},\"start\":{\"long\":1419195600},\"end\":{\"long\":1421874000}}\n",
      "{\"vid\":\"\",\"okid\":{\"string\":\"137915545610\"},\"email\":null,\"vkid\":null,\"category\":{\"int\":1},\"start\":{\"long\":1436994000},\"end\":{\"long\":1439672400}}\n",
      "{\"vid\":\"\",\"okid\":{\"string\":\"562274663044\"},\"email\":null,\"vkid\":null,\"category\":{\"int\":1},\"start\":{\"long\":1448917200},\"end\":{\"long\":1451595600}}\n",
      "{\"vid\":\"\",\"okid\":null,\"email\":{\"string\":\"uZNqA8UfgW3UNBdSwhgwXw==\"},\"vkid\":{\"string\":\"133961589\"},\"category\":{\"int\":3},\"start\":{\"long\":1417899600},\"end\":{\"long\":1420578000}}\n",
      "{\"vid\":\"\",\"okid\":{\"string\":\"779226483\"},\"email\":null,\"vkid\":{\"string\":\"1079839\"},\"category\":{\"int\":2},\"start\":{\"long\":1442610000},\"end\":{\"long\":1445288400}}\n",
      "{\"vid\":\"\",\"okid\":{\"string\":\"779226483\"},\"email\":null,\"vkid\":{\"string\":\"361715564\"},\"category\":{\"int\":2},\"start\":{\"long\":1442610000},\"end\":{\"long\":1445288400}}\n"
     ]
    }
   ],
   "source": [
    "%%bash\n",
    "head /Users/anokhin/Desktop/profi_medic.la.jss"
   ]
  },
  {
   "cell_type": "code",
   "execution_count": null,
   "metadata": {
    "collapsed": true
   },
   "outputs": [],
   "source": []
  }
 ],
 "metadata": {
  "kernelspec": {
   "display_name": "Python 2",
   "language": "python",
   "name": "python2"
  },
  "language_info": {
   "codemirror_mode": {
    "name": "ipython",
    "version": 2
   },
   "file_extension": ".py",
   "mimetype": "text/x-python",
   "name": "python",
   "nbconvert_exporter": "python",
   "pygments_lexer": "ipython2",
   "version": "2.7.9"
  }
 },
 "nbformat": 4,
 "nbformat_minor": 0
}
