{
 "cells": [
  {
   "cell_type": "code",
   "execution_count": 13,
   "metadata": {
    "collapsed": false
   },
   "outputs": [
    {
     "name": "stdout",
     "output_type": "stream",
     "text": [
      "Populating the interactive namespace from numpy and matplotlib\n"
     ]
    },
    {
     "name": "stderr",
     "output_type": "stream",
     "text": [
      "/usr/local/lib/python2.7/site-packages/matplotlib/__init__.py:872: UserWarning: axes.color_cycle is deprecated and replaced with axes.prop_cycle; please use the latter.\n",
      "  warnings.warn(self.msg_depr % (key, alt_key))\n"
     ]
    }
   ],
   "source": [
    "import pandas as pd\n",
    "import datetime as dt\n",
    "import numpy as np\n",
    "\n",
    "import pylab as pl\n",
    "import seaborn as sns\n",
    "\n",
    "%pylab inline"
   ]
  },
  {
   "cell_type": "code",
   "execution_count": 14,
   "metadata": {
    "collapsed": true
   },
   "outputs": [],
   "source": [
    "IN_PATH = '/Users/anokhin/Desktop/bm_la_sample-train'\n",
    "OUT_PATH = '/Users/anokhin/Desktop/bm.la.jss'"
   ]
  },
  {
   "cell_type": "code",
   "execution_count": 15,
   "metadata": {
    "collapsed": false
   },
   "outputs": [
    {
     "name": "stdout",
     "output_type": "stream",
     "text": [
      "2015-12-01 00:00:00\n"
     ]
    },
    {
     "data": {
      "text/html": [
       "<div>\n",
       "<table border=\"1\" class=\"dataframe\">\n",
       "  <thead>\n",
       "    <tr style=\"text-align: right;\">\n",
       "      <th></th>\n",
       "      <th>cuid</th>\n",
       "      <th>match</th>\n",
       "      <th>emails</th>\n",
       "      <th>okids</th>\n",
       "      <th>vkids</th>\n",
       "      <th>age</th>\n",
       "      <th>sex</th>\n",
       "      <th>retro_dt</th>\n",
       "    </tr>\n",
       "  </thead>\n",
       "  <tbody>\n",
       "    <tr>\n",
       "      <th>0</th>\n",
       "      <td>0</td>\n",
       "      <td>5</td>\n",
       "      <td>NaN</td>\n",
       "      <td>526805357962</td>\n",
       "      <td>2263056</td>\n",
       "      <td>0.187744</td>\n",
       "      <td>0</td>\n",
       "      <td>2016-01-08</td>\n",
       "    </tr>\n",
       "    <tr>\n",
       "      <th>1</th>\n",
       "      <td>0</td>\n",
       "      <td>3</td>\n",
       "      <td>NaN</td>\n",
       "      <td>496341696958</td>\n",
       "      <td>NaN</td>\n",
       "      <td>0.187744</td>\n",
       "      <td>0</td>\n",
       "      <td>2016-01-08</td>\n",
       "    </tr>\n",
       "    <tr>\n",
       "      <th>2</th>\n",
       "      <td>0</td>\n",
       "      <td>0</td>\n",
       "      <td>ANGPtNVrXigPXPTqOkX6p4FZ5jAGYw5E</td>\n",
       "      <td>NaN</td>\n",
       "      <td>NaN</td>\n",
       "      <td>0.187744</td>\n",
       "      <td>0</td>\n",
       "      <td>2016-01-08</td>\n",
       "    </tr>\n",
       "    <tr>\n",
       "      <th>3</th>\n",
       "      <td>1000</td>\n",
       "      <td>5</td>\n",
       "      <td>4Fv4Jr8qLLciEfCZIeR7FQ==</td>\n",
       "      <td>NaN</td>\n",
       "      <td>271607623</td>\n",
       "      <td>0.557621</td>\n",
       "      <td>0</td>\n",
       "      <td>2016-01-25</td>\n",
       "    </tr>\n",
       "    <tr>\n",
       "      <th>4</th>\n",
       "      <td>1000</td>\n",
       "      <td>3</td>\n",
       "      <td>RtKRiIQeRWBdFUnVqQg5bE9WhNM9oR5n</td>\n",
       "      <td>NaN</td>\n",
       "      <td>NaN</td>\n",
       "      <td>0.557621</td>\n",
       "      <td>0</td>\n",
       "      <td>2016-01-25</td>\n",
       "    </tr>\n",
       "  </tbody>\n",
       "</table>\n",
       "</div>"
      ],
      "text/plain": [
       "   cuid  match                            emails         okids      vkids  \\\n",
       "0     0      5                               NaN  526805357962    2263056   \n",
       "1     0      3                               NaN  496341696958        NaN   \n",
       "2     0      0  ANGPtNVrXigPXPTqOkX6p4FZ5jAGYw5E           NaN        NaN   \n",
       "3  1000      5          4Fv4Jr8qLLciEfCZIeR7FQ==           NaN  271607623   \n",
       "4  1000      3  RtKRiIQeRWBdFUnVqQg5bE9WhNM9oR5n           NaN        NaN   \n",
       "\n",
       "        age  sex   retro_dt  \n",
       "0  0.187744    0 2016-01-08  \n",
       "1  0.187744    0 2016-01-08  \n",
       "2  0.187744    0 2016-01-08  \n",
       "3  0.557621    0 2016-01-25  \n",
       "4  0.557621    0 2016-01-25  "
      ]
     },
     "execution_count": 15,
     "metadata": {},
     "output_type": "execute_result"
    }
   ],
   "source": [
    "ts_parser = lambda ts: dt.datetime.strptime(ts, \"%Y%m%d\")\n",
    "df1 = pd.read_csv(\n",
    "    IN_PATH, sep=\"\\t\", \n",
    "    header=None, names=['cuid', 'match', 'emails', 'okids', 'vkids', 'age', 'sex', 'retro_dt'],\n",
    "    converters={'retro_dt': ts_parser},\n",
    "    dtype={\"okids\": str, \"vkids\": str}\n",
    ")\n",
    "print df1[\"retro_dt\"].min()\n",
    "df1.head()"
   ]
  },
  {
   "cell_type": "code",
   "execution_count": 20,
   "metadata": {
    "collapsed": false
   },
   "outputs": [
    {
     "data": {
      "image/png": "[encoded data removed]",
      "text/plain": [
       "<matplotlib.figure.Figure at 0x111b8d350>"
      ]
     },
     "metadata": {},
     "output_type": "display_data"
    }
   ],
   "source": [
    "df1['retro_dt'].hist(bins=100)\n",
    "pl.show()"
   ]
  },
  {
   "cell_type": "code",
   "execution_count": 21,
   "metadata": {
    "collapsed": true
   },
   "outputs": [],
   "source": [
    "USER_PATTERN = '{\"vid\":\"%s\",\"okid\":%s,\"email\":%s,\"vkid\":%s,\"category\":{\"int\":%d},\"start\":{\"long\":%d},\"end\":{\"long\":%d}}'\n",
    "STRING_PATTERN = '{\"string\":\"%s\"}'\n",
    "MONTH_SECONDS = 31 * 24 * 60 * 60"
   ]
  },
  {
   "cell_type": "code",
   "execution_count": 22,
   "metadata": {
    "collapsed": false
   },
   "outputs": [],
   "source": [
    "with open(OUT_PATH, \"w\") as out_file:\n",
    "    for i, row in df1.iterrows():\n",
    "        end_ts = int(row[\"retro_dt\"].strftime(\"%s\"))\n",
    "        start_ts = end_ts - MONTH_SECONDS        \n",
    "        \n",
    "        emails = row[\"emails\"].split(\",\") if pd.notnull(row[\"emails\"]) else [\"\"]\n",
    "        okids = row[\"okids\"].split(\",\") if pd.notnull(row[\"okids\"]) else [\"\"]\n",
    "        vkids = row[\"vkids\"].split(\",\") if pd.notnull(row[\"vkids\"]) else [\"\"]\n",
    "        \n",
    "        for email in emails:\n",
    "            for okid in okids:\n",
    "                for vkid in vkids:\n",
    "                    em = STRING_PATTERN % email if email else \"null\"\n",
    "                    ok = STRING_PATTERN % okid if okid else \"null\"\n",
    "                    vk = STRING_PATTERN % vkid if vkid else \"null\"\n",
    "                    print >> out_file, USER_PATTERN % (\"\", ok, em, vk, 1, start_ts, end_ts)"
   ]
  },
  {
   "cell_type": "code",
   "execution_count": 23,
   "metadata": {
    "collapsed": false
   },
   "outputs": [
    {
     "name": "stdout",
     "output_type": "stream",
     "text": [
      "0\t5\t\t526805357962\t2263056\t0.187744\t0.00\t20160108\n",
      "0\t3\t\t496341696958\t\t0.187744\t0.00\t20160108\n",
      "0\t0\tANGPtNVrXigPXPTqOkX6p4FZ5jAGYw5E\t\t\t0.187744\t0.00\t20160108\n",
      "1000\t5\t4Fv4Jr8qLLciEfCZIeR7FQ==\t\t271607623\t0.557621\t0.00\t20160125\n",
      "1000\t3\tRtKRiIQeRWBdFUnVqQg5bE9WhNM9oR5n\t\t\t0.557621\t0.00\t20160125\n",
      "10000\t5\tvZvtU/ulX8FsR8ntNYhJ/Q==\t80015611556\t\t0.422278\t1.00\t20151216\n",
      "10000\t3\tp1gS06yUlLyAJnwSl2pkaeTVEQ6hCvVL\t362658009098\t\t0.422278\t1.00\t20151216\n",
      "10000\t0\t\t564566061214\t\t0.422278\t1.00\t20151216\n",
      "10013\t5\tPJMslTaqgddbdVjEZu7YSE9WhNM9oR5n\t55955286856\t\t0.478166\t0.00\t20160129\n",
      "10013\t0\tJaXpA2IiUSxP5avb8JSpj/FhfUbIPc55\t478754510791\t\t0.478166\t0.00\t20160129\n",
      "{\"vid\":\"\",\"okid\":{\"string\":\"526805357962\"},\"email\":null,\"vkid\":{\"string\":\"2263056\"},\"category\":{\"int\":1},\"start\":{\"long\":1449522000},\"end\":{\"long\":1452200400}}\n",
      "{\"vid\":\"\",\"okid\":{\"string\":\"496341696958\"},\"email\":null,\"vkid\":null,\"category\":{\"int\":1},\"start\":{\"long\":1449522000},\"end\":{\"long\":1452200400}}\n",
      "{\"vid\":\"\",\"okid\":null,\"email\":{\"string\":\"ANGPtNVrXigPXPTqOkX6p4FZ5jAGYw5E\"},\"vkid\":null,\"category\":{\"int\":1},\"start\":{\"long\":1449522000},\"end\":{\"long\":1452200400}}\n",
      "{\"vid\":\"\",\"okid\":null,\"email\":{\"string\":\"4Fv4Jr8qLLciEfCZIeR7FQ==\"},\"vkid\":{\"string\":\"271607623\"},\"category\":{\"int\":1},\"start\":{\"long\":1450990800},\"end\":{\"long\":1453669200}}\n",
      "{\"vid\":\"\",\"okid\":null,\"email\":{\"string\":\"RtKRiIQeRWBdFUnVqQg5bE9WhNM9oR5n\"},\"vkid\":null,\"category\":{\"int\":1},\"start\":{\"long\":1450990800},\"end\":{\"long\":1453669200}}\n",
      "{\"vid\":\"\",\"okid\":{\"string\":\"80015611556\"},\"email\":{\"string\":\"vZvtU/ulX8FsR8ntNYhJ/Q==\"},\"vkid\":null,\"category\":{\"int\":1},\"start\":{\"long\":1447534800},\"end\":{\"long\":1450213200}}\n",
      "{\"vid\":\"\",\"okid\":{\"string\":\"362658009098\"},\"email\":{\"string\":\"p1gS06yUlLyAJnwSl2pkaeTVEQ6hCvVL\"},\"vkid\":null,\"category\":{\"int\":1},\"start\":{\"long\":1447534800},\"end\":{\"long\":1450213200}}\n",
      "{\"vid\":\"\",\"okid\":{\"string\":\"564566061214\"},\"email\":null,\"vkid\":null,\"category\":{\"int\":1},\"start\":{\"long\":1447534800},\"end\":{\"long\":1450213200}}\n",
      "{\"vid\":\"\",\"okid\":{\"string\":\"55955286856\"},\"email\":{\"string\":\"PJMslTaqgddbdVjEZu7YSE9WhNM9oR5n\"},\"vkid\":null,\"category\":{\"int\":1},\"start\":{\"long\":1451336400},\"end\":{\"long\":1454014800}}\n",
      "{\"vid\":\"\",\"okid\":{\"string\":\"478754510791\"},\"email\":{\"string\":\"JaXpA2IiUSxP5avb8JSpj/FhfUbIPc55\"},\"vkid\":null,\"category\":{\"int\":1},\"start\":{\"long\":1451336400},\"end\":{\"long\":1454014800}}\n"
     ]
    }
   ],
   "source": [
    "%%bash\n",
    "head /Users/anokhin/Desktop/bm_la_sample-train\n",
    "head /Users/anokhin/Desktop/bm.la.jss"
   ]
  },
  {
   "cell_type": "code",
   "execution_count": null,
   "metadata": {
    "collapsed": true
   },
   "outputs": [],
   "source": []
  }
 ],
 "metadata": {
  "kernelspec": {
   "display_name": "Python 2",
   "language": "python",
   "name": "python2"
  },
  "language_info": {
   "codemirror_mode": {
    "name": "ipython",
    "version": 2
   },
   "file_extension": ".py",
   "mimetype": "text/x-python",
   "name": "python",
   "nbconvert_exporter": "python",
   "pygments_lexer": "ipython2",
   "version": "2.7.9"
  }
 },
 "nbformat": 4,
 "nbformat_minor": 0
}
