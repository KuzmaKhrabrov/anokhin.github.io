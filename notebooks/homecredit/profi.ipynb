{
 "cells": [
  {
   "cell_type": "code",
   "execution_count": 7,
   "metadata": {
    "collapsed": true
   },
   "outputs": [],
   "source": [
    "import pandas as pd\n",
    "import datetime as dt\n",
    "import numpy as np"
   ]
  },
  {
   "cell_type": "code",
   "execution_count": 8,
   "metadata": {
    "collapsed": true
   },
   "outputs": [],
   "source": [
    "IN_PATH = '/Users/anokhin/Desktop/sample_mail_ok_vk_profi_raw_1120.tsv'\n",
    "OUT_PATH_LEVELS = '/Users/anokhin/Desktop/profi_levels.la.jss'\n",
    "OUT_PATH_COSTS = '/Users/anokhin/Desktop/profi_costs.la.jss'"
   ]
  },
  {
   "cell_type": "code",
   "execution_count": 9,
   "metadata": {
    "collapsed": false,
    "scrolled": true
   },
   "outputs": [
    {
     "name": "stdout",
     "output_type": "stream",
     "text": [
      "2015-08-01 00:00:00 2015-12-31 00:00:00\n"
     ]
    },
    {
     "data": {
      "text/html": [
       "<div>\n",
       "<table border=\"1\" class=\"dataframe\">\n",
       "  <thead>\n",
       "    <tr style=\"text-align: right;\">\n",
       "      <th></th>\n",
       "      <th>cuid</th>\n",
       "      <th>emails</th>\n",
       "      <th>okids</th>\n",
       "      <th>vkids</th>\n",
       "      <th>retro_dt</th>\n",
       "      <th>level</th>\n",
       "      <th>cost</th>\n",
       "    </tr>\n",
       "  </thead>\n",
       "  <tbody>\n",
       "    <tr>\n",
       "      <th>0</th>\n",
       "      <td>5003848</td>\n",
       "      <td>NaN</td>\n",
       "      <td>NaN</td>\n",
       "      <td>252551709</td>\n",
       "      <td>2015-11-20</td>\n",
       "      <td>1</td>\n",
       "      <td>-</td>\n",
       "    </tr>\n",
       "    <tr>\n",
       "      <th>1</th>\n",
       "      <td>5052798</td>\n",
       "      <td>NaN</td>\n",
       "      <td>NaN</td>\n",
       "      <td>323508874</td>\n",
       "      <td>2015-11-29</td>\n",
       "      <td>3</td>\n",
       "      <td>1</td>\n",
       "    </tr>\n",
       "    <tr>\n",
       "      <th>2</th>\n",
       "      <td>4794538</td>\n",
       "      <td>NaN</td>\n",
       "      <td>NaN</td>\n",
       "      <td>160637104</td>\n",
       "      <td>2015-10-17</td>\n",
       "      <td>3</td>\n",
       "      <td>-</td>\n",
       "    </tr>\n",
       "    <tr>\n",
       "      <th>3</th>\n",
       "      <td>4704168</td>\n",
       "      <td>NaN</td>\n",
       "      <td>NaN</td>\n",
       "      <td>205539126</td>\n",
       "      <td>2015-10-04</td>\n",
       "      <td>5</td>\n",
       "      <td>4</td>\n",
       "    </tr>\n",
       "    <tr>\n",
       "      <th>4</th>\n",
       "      <td>4855914</td>\n",
       "      <td>NaN</td>\n",
       "      <td>391794827</td>\n",
       "      <td>246475336</td>\n",
       "      <td>2015-10-27</td>\n",
       "      <td>3</td>\n",
       "      <td>2</td>\n",
       "    </tr>\n",
       "  </tbody>\n",
       "</table>\n",
       "</div>"
      ],
      "text/plain": [
       "      cuid emails      okids      vkids   retro_dt level cost\n",
       "0  5003848    NaN        NaN  252551709 2015-11-20     1    -\n",
       "1  5052798    NaN        NaN  323508874 2015-11-29     3    1\n",
       "2  4794538    NaN        NaN  160637104 2015-10-17     3    -\n",
       "3  4704168    NaN        NaN  205539126 2015-10-04     5    4\n",
       "4  4855914    NaN  391794827  246475336 2015-10-27     3    2"
      ]
     },
     "execution_count": 9,
     "metadata": {},
     "output_type": "execute_result"
    }
   ],
   "source": [
    "ts_parser = lambda ts: dt.datetime.strptime(ts, \"%Y%m%d\")\n",
    "df1 = pd.read_csv(\n",
    "    IN_PATH, sep=\"\\t\", \n",
    "    header=None, names=['cuid', 'emails', 'okids', 'vkids', 'retro_dt', 'level', 'cost'],\n",
    "    converters={'retro_dt': ts_parser},\n",
    "    dtype={\"okids\": str, \"vkids\": str}\n",
    ")\n",
    "print df1[\"retro_dt\"].min(), df1[\"retro_dt\"].max()\n",
    "\n",
    "df1.head()"
   ]
  },
  {
   "cell_type": "code",
   "execution_count": 17,
   "metadata": {
    "collapsed": true
   },
   "outputs": [],
   "source": [
    "USER_PATTERN = '{\"vid\":\"%s\",\"okid\":%s,\"email\":%s,\"vkid\":%s,\"category\":{\"int\":%s},\"start\":{\"long\":%d},\"end\":{\"long\":%d}}'\n",
    "STRING_PATTERN = '{\"string\":\"%s\"}'\n",
    "MONTH_SECONDS = 31 * 24 * 60 * 60"
   ]
  },
  {
   "cell_type": "code",
   "execution_count": 18,
   "metadata": {
    "collapsed": false
   },
   "outputs": [],
   "source": [
    "with open(OUT_PATH_LEVELS, \"w\") as out_file_levels:\n",
    "    with open(OUT_PATH_COSTS, \"w\") as out_file_costs:\n",
    "        for i, row in df1.iterrows():\n",
    "            end_ts = int(row[\"retro_dt\"].strftime(\"%s\"))\n",
    "            start_ts = end_ts - MONTH_SECONDS        \n",
    "\n",
    "            emails = row[\"emails\"].split(\",\") if pd.notnull(row[\"emails\"]) else [\"\"]\n",
    "            okids = row[\"okids\"].split(\",\") if pd.notnull(row[\"okids\"]) else [\"\"]\n",
    "            vkids = row[\"vkids\"].split(\",\") if pd.notnull(row[\"vkids\"]) else [\"\"]\n",
    "            \n",
    "            level = row[\"level\"]\n",
    "            cost = row[\"cost\"]\n",
    "\n",
    "            for email in emails:\n",
    "                for okid in okids:\n",
    "                    for vkid in vkids:\n",
    "                        em = STRING_PATTERN % email if email else \"null\"\n",
    "                        ok = STRING_PATTERN % okid if okid else \"null\"\n",
    "                        vk = STRING_PATTERN % vkid if vkid else \"null\"                        \n",
    "                        \n",
    "                        if level != \"-\":\n",
    "                            print >> out_file_levels, USER_PATTERN % (\"\", ok, em, vk, int(level), start_ts, end_ts)\n",
    "                            \n",
    "                        if cost != \"-\":\n",
    "                            print >> out_file_costs, USER_PATTERN % (\"\", ok, em, vk, int(cost), start_ts, end_ts)"
   ]
  },
  {
   "cell_type": "code",
   "execution_count": 19,
   "metadata": {
    "collapsed": false
   },
   "outputs": [],
   "source": [
    "USER_PATTERN = '{\"vid\":\"%s\",\"okid\":%s,\"email\":%s,\"vkid\":null,\"category\":{\"int\":%d},\"start\":{\"long\":%d},\"end\":{\"long\":%d}}'\n",
    "with open(\"/Users/anokhin/Desktop/active_emails.jss\", \"w\") as out_file:\n",
    "    with open(\"/Users/anokhin/Desktop/active_emails_1\") as ae:\n",
    "        for line in ae:\n",
    "            print >> out_file, USER_PATTERN % (\"\", \"null\", STRING_PATTERN % line.strip(), 6, 1446163200, 1448841600)"
   ]
  },
  {
   "cell_type": "code",
   "execution_count": null,
   "metadata": {
    "collapsed": true
   },
   "outputs": [],
   "source": []
  }
 ],
 "metadata": {
  "kernelspec": {
   "display_name": "Python 2",
   "language": "python",
   "name": "python2"
  },
  "language_info": {
   "codemirror_mode": {
    "name": "ipython",
    "version": 2
   },
   "file_extension": ".py",
   "mimetype": "text/x-python",
   "name": "python",
   "nbconvert_exporter": "python",
   "pygments_lexer": "ipython2",
   "version": "2.7.9"
  }
 },
 "nbformat": 4,
 "nbformat_minor": 0
}
