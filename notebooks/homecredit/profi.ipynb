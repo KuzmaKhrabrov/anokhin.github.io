{
 "cells": [
  {
   "cell_type": "code",
   "execution_count": 1,
   "metadata": {
    "collapsed": false
   },
   "outputs": [
    {
     "name": "stdout",
     "output_type": "stream",
     "text": [
      "Populating the interactive namespace from numpy and matplotlib\n"
     ]
    },
    {
     "name": "stderr",
     "output_type": "stream",
     "text": [
      "/usr/local/lib/python2.7/site-packages/matplotlib/__init__.py:872: UserWarning: axes.color_cycle is deprecated and replaced with axes.prop_cycle; please use the latter.\n",
      "  warnings.warn(self.msg_depr % (key, alt_key))\n"
     ]
    }
   ],
   "source": [
    "import pandas as pd\n",
    "import datetime as dt\n",
    "import numpy as np\n",
    "\n",
    "import pylab as pl\n",
    "import seaborn as sns\n",
    "import datetime as dt\n",
    "\n",
    "%pylab inline"
   ]
  },
  {
   "cell_type": "code",
   "execution_count": 2,
   "metadata": {
    "collapsed": true
   },
   "outputs": [],
   "source": [
    "IN_PATH = '/Users/anokhin/Desktop/profi_ckat_matched'\n",
    "SAMPLE_PATH = '/Users/anokhin/Desktop/profi_ckat_sample'\n",
    "LOC_PATH = '/Users/anokhin/Desktop/mailru_km_orders_data_clean_NEW.xlsx'"
   ]
  },
  {
   "cell_type": "code",
   "execution_count": 3,
   "metadata": {
    "collapsed": false,
    "scrolled": true
   },
   "outputs": [
    {
     "data": {
      "text/html": [
       "<div>\n",
       "<table border=\"1\" class=\"dataframe\">\n",
       "  <thead>\n",
       "    <tr style=\"text-align: right;\">\n",
       "      <th></th>\n",
       "      <th>klient_id</th>\n",
       "      <th>mb</th>\n",
       "      <th>emails</th>\n",
       "      <th>okids</th>\n",
       "      <th>vkids</th>\n",
       "      <th>age</th>\n",
       "      <th>gender</th>\n",
       "      <th>retro_dt</th>\n",
       "    </tr>\n",
       "  </thead>\n",
       "  <tbody>\n",
       "    <tr>\n",
       "      <th>0</th>\n",
       "      <td>beau=1000487</td>\n",
       "      <td>0</td>\n",
       "      <td>NaN</td>\n",
       "      <td>NaN</td>\n",
       "      <td>219933780</td>\n",
       "      <td>0.500000</td>\n",
       "      <td>0</td>\n",
       "      <td>2015-05-18</td>\n",
       "    </tr>\n",
       "    <tr>\n",
       "      <th>1</th>\n",
       "      <td>beau=1000560</td>\n",
       "      <td>3</td>\n",
       "      <td>NaN</td>\n",
       "      <td>519958602210</td>\n",
       "      <td>190613242</td>\n",
       "      <td>0.660178</td>\n",
       "      <td>0</td>\n",
       "      <td>2015-10-20</td>\n",
       "    </tr>\n",
       "    <tr>\n",
       "      <th>2</th>\n",
       "      <td>beau=1000560</td>\n",
       "      <td>0</td>\n",
       "      <td>X2V+XsytIeOY1xOsN7CCvvFhfUbIPc55</td>\n",
       "      <td>NaN</td>\n",
       "      <td>NaN</td>\n",
       "      <td>0.660178</td>\n",
       "      <td>0</td>\n",
       "      <td>2015-10-20</td>\n",
       "    </tr>\n",
       "    <tr>\n",
       "      <th>3</th>\n",
       "      <td>beau=1000982</td>\n",
       "      <td>3</td>\n",
       "      <td>rHMWdqV/aetBXSei8YqlI+TVEQ6hCvVL,2ELOi1eCH/CqZ...</td>\n",
       "      <td>58949664152</td>\n",
       "      <td>3272478</td>\n",
       "      <td>0.695453</td>\n",
       "      <td>0</td>\n",
       "      <td>2015-06-04</td>\n",
       "    </tr>\n",
       "    <tr>\n",
       "      <th>4</th>\n",
       "      <td>beau=1000982</td>\n",
       "      <td>0</td>\n",
       "      <td>GLN3hTnOyKMszF1+n0AMxoFZ5jAGYw5E,+HIaTnxgt0oM+...</td>\n",
       "      <td>NaN</td>\n",
       "      <td>NaN</td>\n",
       "      <td>0.695453</td>\n",
       "      <td>0</td>\n",
       "      <td>2015-06-04</td>\n",
       "    </tr>\n",
       "  </tbody>\n",
       "</table>\n",
       "</div>"
      ],
      "text/plain": [
       "      klient_id  mb                                             emails  \\\n",
       "0  beau=1000487   0                                                NaN   \n",
       "1  beau=1000560   3                                                NaN   \n",
       "2  beau=1000560   0                   X2V+XsytIeOY1xOsN7CCvvFhfUbIPc55   \n",
       "3  beau=1000982   3  rHMWdqV/aetBXSei8YqlI+TVEQ6hCvVL,2ELOi1eCH/CqZ...   \n",
       "4  beau=1000982   0  GLN3hTnOyKMszF1+n0AMxoFZ5jAGYw5E,+HIaTnxgt0oM+...   \n",
       "\n",
       "          okids      vkids       age  gender   retro_dt  \n",
       "0           NaN  219933780  0.500000       0 2015-05-18  \n",
       "1  519958602210  190613242  0.660178       0 2015-10-20  \n",
       "2           NaN        NaN  0.660178       0 2015-10-20  \n",
       "3   58949664152    3272478  0.695453       0 2015-06-04  \n",
       "4           NaN        NaN  0.695453       0 2015-06-04  "
      ]
     },
     "execution_count": 3,
     "metadata": {},
     "output_type": "execute_result"
    }
   ],
   "source": [
    "ts_parser = lambda ts: dt.datetime.strptime(ts, \"%Y%m%d\")\n",
    "df1 = pd.read_csv(\n",
    "    IN_PATH, sep=\"\\t\", \n",
    "    header=None, names=['klient_id', 'mb', 'emails', 'okids', 'vkids', 'age', 'gender', 'retro_dt'],\n",
    "    converters={'retro_dt': ts_parser},\n",
    "    dtype={\"okids\": str, \"vkids\": str}\n",
    ")\n",
    "\n",
    "df1.head()"
   ]
  },
  {
   "cell_type": "code",
   "execution_count": 4,
   "metadata": {
    "collapsed": false
   },
   "outputs": [
    {
     "data": {
      "text/html": [
       "<div>\n",
       "<table border=\"1\" class=\"dataframe\">\n",
       "  <thead>\n",
       "    <tr style=\"text-align: right;\">\n",
       "      <th></th>\n",
       "      <th>klient_id</th>\n",
       "      <th>phone</th>\n",
       "      <th>birth_dt</th>\n",
       "      <th>klient_gender</th>\n",
       "      <th>retro_dt</th>\n",
       "      <th>ckat</th>\n",
       "      <th>email</th>\n",
       "    </tr>\n",
       "  </thead>\n",
       "  <tbody>\n",
       "    <tr>\n",
       "      <th>0</th>\n",
       "      <td>medi=1197904</td>\n",
       "      <td>9651956276</td>\n",
       "      <td>XNA</td>\n",
       "      <td>0</td>\n",
       "      <td>2015-01-01</td>\n",
       "      <td>3</td>\n",
       "      <td>XNA</td>\n",
       "    </tr>\n",
       "    <tr>\n",
       "      <th>1</th>\n",
       "      <td>medi=1742854</td>\n",
       "      <td>9104461011</td>\n",
       "      <td>XNA</td>\n",
       "      <td>0</td>\n",
       "      <td>2015-01-01</td>\n",
       "      <td>2</td>\n",
       "      <td>XNA</td>\n",
       "    </tr>\n",
       "    <tr>\n",
       "      <th>2</th>\n",
       "      <td>medi=1995689</td>\n",
       "      <td>9262705909</td>\n",
       "      <td>XNA</td>\n",
       "      <td>1</td>\n",
       "      <td>2015-01-01</td>\n",
       "      <td>4</td>\n",
       "      <td>XNA</td>\n",
       "    </tr>\n",
       "    <tr>\n",
       "      <th>3</th>\n",
       "      <td>medi=2004118</td>\n",
       "      <td>9253780732</td>\n",
       "      <td>XNA</td>\n",
       "      <td>0</td>\n",
       "      <td>2015-01-01</td>\n",
       "      <td>3</td>\n",
       "      <td>XNA</td>\n",
       "    </tr>\n",
       "    <tr>\n",
       "      <th>4</th>\n",
       "      <td>medi=2226403</td>\n",
       "      <td>9150914705</td>\n",
       "      <td>XNA</td>\n",
       "      <td>0</td>\n",
       "      <td>2015-01-01</td>\n",
       "      <td>2</td>\n",
       "      <td>XNA</td>\n",
       "    </tr>\n",
       "  </tbody>\n",
       "</table>\n",
       "</div>"
      ],
      "text/plain": [
       "      klient_id       phone birth_dt klient_gender   retro_dt  ckat email\n",
       "0  medi=1197904  9651956276      XNA             0 2015-01-01     3   XNA\n",
       "1  medi=1742854  9104461011      XNA             0 2015-01-01     2   XNA\n",
       "2  medi=1995689  9262705909      XNA             1 2015-01-01     4   XNA\n",
       "3  medi=2004118  9253780732      XNA             0 2015-01-01     3   XNA\n",
       "4  medi=2226403  9150914705      XNA             0 2015-01-01     2   XNA"
      ]
     },
     "execution_count": 4,
     "metadata": {},
     "output_type": "execute_result"
    }
   ],
   "source": [
    "ts_parser = lambda ts: dt.datetime.strptime(ts, \"%Y%m%d\")\n",
    "df_ckat = pd.read_csv(\n",
    "    SAMPLE_PATH, sep=\"\\t\", \n",
    "    header=0, names=['klient_id', 'phone', 'birth_dt', 'klient_gender', 'retro_dt', 'ckat', 'email'],\n",
    "    converters={'retro_dt': ts_parser},\n",
    "    dtype={\"okids\": str, \"vkids\": str}\n",
    ")\n",
    "\n",
    "df_ckat.head()"
   ]
  },
  {
   "cell_type": "code",
   "execution_count": 5,
   "metadata": {
    "collapsed": false
   },
   "outputs": [],
   "source": [
    "df_loc = pd.ExcelFile(LOC_PATH).parse(0).set_index(\"klient_id\")\n",
    "\n",
    "def location(klient_id):\n",
    "    mapping = {u\"У мастера\": 1, u\"У клиента\": 2, u\"Не принципиально\": 3}\n",
    "    kid = klient_id.strip(\"beau=\")\n",
    "    if int(kid) not in df_loc.index:\n",
    "        return None\n",
    "    locs = np.unique(df_loc.loc[int(kid)][\"location\"])\n",
    "    if len(locs) != 1 or pd.isnull(locs[0]):\n",
    "        return None\n",
    "    else:        \n",
    "        return mapping[locs[0]]"
   ]
  },
  {
   "cell_type": "code",
   "execution_count": 6,
   "metadata": {
    "collapsed": false
   },
   "outputs": [
    {
     "data": {
      "text/html": [
       "<div>\n",
       "<table border=\"1\" class=\"dataframe\">\n",
       "  <thead>\n",
       "    <tr style=\"text-align: right;\">\n",
       "      <th></th>\n",
       "      <th>klient_id</th>\n",
       "      <th>mb</th>\n",
       "      <th>emails</th>\n",
       "      <th>okids</th>\n",
       "      <th>vkids</th>\n",
       "      <th>age</th>\n",
       "      <th>gender</th>\n",
       "      <th>retro_dt</th>\n",
       "      <th>phone</th>\n",
       "      <th>birth_dt</th>\n",
       "      <th>klient_gender</th>\n",
       "      <th>ckat</th>\n",
       "      <th>email</th>\n",
       "    </tr>\n",
       "  </thead>\n",
       "  <tbody>\n",
       "    <tr>\n",
       "      <th>0</th>\n",
       "      <td>beau=1000487</td>\n",
       "      <td>0</td>\n",
       "      <td>NaN</td>\n",
       "      <td>NaN</td>\n",
       "      <td>219933780</td>\n",
       "      <td>0.500000</td>\n",
       "      <td>0</td>\n",
       "      <td>2015-05-18</td>\n",
       "      <td>9165134515</td>\n",
       "      <td>XNA</td>\n",
       "      <td>0</td>\n",
       "      <td>1</td>\n",
       "      <td>XNA</td>\n",
       "    </tr>\n",
       "    <tr>\n",
       "      <th>1</th>\n",
       "      <td>beau=1000560</td>\n",
       "      <td>3</td>\n",
       "      <td>NaN</td>\n",
       "      <td>519958602210</td>\n",
       "      <td>190613242</td>\n",
       "      <td>0.660178</td>\n",
       "      <td>0</td>\n",
       "      <td>2015-10-20</td>\n",
       "      <td>9167389282</td>\n",
       "      <td>XNA</td>\n",
       "      <td>0</td>\n",
       "      <td>2</td>\n",
       "      <td>XNA</td>\n",
       "    </tr>\n",
       "    <tr>\n",
       "      <th>2</th>\n",
       "      <td>beau=1000560</td>\n",
       "      <td>0</td>\n",
       "      <td>X2V+XsytIeOY1xOsN7CCvvFhfUbIPc55</td>\n",
       "      <td>NaN</td>\n",
       "      <td>NaN</td>\n",
       "      <td>0.660178</td>\n",
       "      <td>0</td>\n",
       "      <td>2015-10-20</td>\n",
       "      <td>9167389282</td>\n",
       "      <td>XNA</td>\n",
       "      <td>0</td>\n",
       "      <td>2</td>\n",
       "      <td>XNA</td>\n",
       "    </tr>\n",
       "    <tr>\n",
       "      <th>3</th>\n",
       "      <td>beau=1000982</td>\n",
       "      <td>3</td>\n",
       "      <td>rHMWdqV/aetBXSei8YqlI+TVEQ6hCvVL,2ELOi1eCH/CqZ...</td>\n",
       "      <td>58949664152</td>\n",
       "      <td>3272478</td>\n",
       "      <td>0.695453</td>\n",
       "      <td>0</td>\n",
       "      <td>2015-06-04</td>\n",
       "      <td>9037614667</td>\n",
       "      <td>XNA</td>\n",
       "      <td>0</td>\n",
       "      <td>1</td>\n",
       "      <td>XNA</td>\n",
       "    </tr>\n",
       "    <tr>\n",
       "      <th>4</th>\n",
       "      <td>beau=1000982</td>\n",
       "      <td>0</td>\n",
       "      <td>GLN3hTnOyKMszF1+n0AMxoFZ5jAGYw5E,+HIaTnxgt0oM+...</td>\n",
       "      <td>NaN</td>\n",
       "      <td>NaN</td>\n",
       "      <td>0.695453</td>\n",
       "      <td>0</td>\n",
       "      <td>2015-06-04</td>\n",
       "      <td>9037614667</td>\n",
       "      <td>XNA</td>\n",
       "      <td>0</td>\n",
       "      <td>1</td>\n",
       "      <td>XNA</td>\n",
       "    </tr>\n",
       "  </tbody>\n",
       "</table>\n",
       "</div>"
      ],
      "text/plain": [
       "      klient_id  mb                                             emails  \\\n",
       "0  beau=1000487   0                                                NaN   \n",
       "1  beau=1000560   3                                                NaN   \n",
       "2  beau=1000560   0                   X2V+XsytIeOY1xOsN7CCvvFhfUbIPc55   \n",
       "3  beau=1000982   3  rHMWdqV/aetBXSei8YqlI+TVEQ6hCvVL,2ELOi1eCH/CqZ...   \n",
       "4  beau=1000982   0  GLN3hTnOyKMszF1+n0AMxoFZ5jAGYw5E,+HIaTnxgt0oM+...   \n",
       "\n",
       "          okids      vkids       age  gender   retro_dt       phone birth_dt  \\\n",
       "0           NaN  219933780  0.500000       0 2015-05-18  9165134515      XNA   \n",
       "1  519958602210  190613242  0.660178       0 2015-10-20  9167389282      XNA   \n",
       "2           NaN        NaN  0.660178       0 2015-10-20  9167389282      XNA   \n",
       "3   58949664152    3272478  0.695453       0 2015-06-04  9037614667      XNA   \n",
       "4           NaN        NaN  0.695453       0 2015-06-04  9037614667      XNA   \n",
       "\n",
       "  klient_gender  ckat email  \n",
       "0             0     1   XNA  \n",
       "1             0     2   XNA  \n",
       "2             0     2   XNA  \n",
       "3             0     1   XNA  \n",
       "4             0     1   XNA  "
      ]
     },
     "execution_count": 6,
     "metadata": {},
     "output_type": "execute_result"
    }
   ],
   "source": [
    "df = pd.merge(df1, df_ckat, how='inner', on=['klient_id', 'retro_dt'])\n",
    "df_m = df#[df.mb == 3]\n",
    "df_m.head()"
   ]
  },
  {
   "cell_type": "code",
   "execution_count": 7,
   "metadata": {
    "collapsed": false
   },
   "outputs": [
    {
     "name": "stdout",
     "output_type": "stream",
     "text": [
      "Found data MEDI=(56748, 13), BEAU=(46680, 13)\n"
     ]
    }
   ],
   "source": [
    "df_medi = df_m[df_m.klient_id.map(lambda i: i.startswith(\"medi=\"))].copy()\n",
    "df_beau = df_m[df_m.klient_id.map(lambda i: i.startswith(\"beau=\"))].copy()\n",
    "print \"Found data MEDI=%s, BEAU=%s\" % (df_medi.shape, df_beau.shape)"
   ]
  },
  {
   "cell_type": "code",
   "execution_count": 8,
   "metadata": {
    "collapsed": false
   },
   "outputs": [
    {
     "data": {
      "image/png": "[encoded data removed]",
      "text/plain": [
       "<matplotlib.figure.Figure at 0x104037c50>"
      ]
     },
     "metadata": {},
     "output_type": "display_data"
    }
   ],
   "source": [
    "pl.figure(figsize=(12, 6))\n",
    "\n",
    "df_medi.retro_dt.hist(bins=14, label=\"medics\", alpha=0.5)\n",
    "df_beau.retro_dt.hist(bins=14, label=\"doctors\", alpha=0.5)\n",
    "pl.title(\"Retro date\")\n",
    "pl.legend()\n",
    "\n",
    "pl.show()"
   ]
  },
  {
   "cell_type": "code",
   "execution_count": 9,
   "metadata": {
    "collapsed": true
   },
   "outputs": [],
   "source": [
    "OUT_PATH_MEDIC = '/Users/anokhin/Desktop/profi_medic.jss'\n",
    "OUT_PATH_BEAUTY = '/Users/anokhin/Desktop/profi_beauty.jss'"
   ]
  },
  {
   "cell_type": "markdown",
   "metadata": {},
   "source": [
    "## Медики"
   ]
  },
  {
   "cell_type": "code",
   "execution_count": 10,
   "metadata": {
    "collapsed": false
   },
   "outputs": [
    {
     "data": {
      "text/html": [
       "<div>\n",
       "<table border=\"1\" class=\"dataframe\">\n",
       "  <thead>\n",
       "    <tr style=\"text-align: right;\">\n",
       "      <th></th>\n",
       "      <th>klient_id</th>\n",
       "    </tr>\n",
       "    <tr>\n",
       "      <th>ckat</th>\n",
       "      <th></th>\n",
       "    </tr>\n",
       "  </thead>\n",
       "  <tbody>\n",
       "    <tr>\n",
       "      <th>0</th>\n",
       "      <td>11318</td>\n",
       "    </tr>\n",
       "    <tr>\n",
       "      <th>1</th>\n",
       "      <td>1761</td>\n",
       "    </tr>\n",
       "    <tr>\n",
       "      <th>2</th>\n",
       "      <td>6102</td>\n",
       "    </tr>\n",
       "    <tr>\n",
       "      <th>3</th>\n",
       "      <td>7553</td>\n",
       "    </tr>\n",
       "    <tr>\n",
       "      <th>4</th>\n",
       "      <td>1145</td>\n",
       "    </tr>\n",
       "  </tbody>\n",
       "</table>\n",
       "</div>"
      ],
      "text/plain": [
       "      klient_id\n",
       "ckat           \n",
       "0         11318\n",
       "1          1761\n",
       "2          6102\n",
       "3          7553\n",
       "4          1145"
      ]
     },
     "execution_count": 10,
     "metadata": {},
     "output_type": "execute_result"
    }
   ],
   "source": [
    "df_medi[df_medi[\"retro_dt\"] >= dt.date(2015, 9, 1)][[\"klient_id\", \"ckat\"]].groupby('ckat').count()"
   ]
  },
  {
   "cell_type": "code",
   "execution_count": 11,
   "metadata": {
    "collapsed": false
   },
   "outputs": [
    {
     "data": {
      "text/html": [
       "<div>\n",
       "<table border=\"1\" class=\"dataframe\">\n",
       "  <thead>\n",
       "    <tr style=\"text-align: right;\">\n",
       "      <th></th>\n",
       "      <th>klient_id</th>\n",
       "    </tr>\n",
       "    <tr>\n",
       "      <th>category</th>\n",
       "      <th></th>\n",
       "    </tr>\n",
       "  </thead>\n",
       "  <tbody>\n",
       "    <tr>\n",
       "      <th>1</th>\n",
       "      <td>11318</td>\n",
       "    </tr>\n",
       "    <tr>\n",
       "      <th>2</th>\n",
       "      <td>7863</td>\n",
       "    </tr>\n",
       "    <tr>\n",
       "      <th>3</th>\n",
       "      <td>8698</td>\n",
       "    </tr>\n",
       "  </tbody>\n",
       "</table>\n",
       "</div>"
      ],
      "text/plain": [
       "          klient_id\n",
       "category           \n",
       "1             11318\n",
       "2              7863\n",
       "3              8698"
      ]
     },
     "execution_count": 11,
     "metadata": {},
     "output_type": "execute_result"
    }
   ],
   "source": [
    "df_medi[\"category\"] = df_medi.ckat.map(lambda c: 1 if c == 0 else (2 if c == 1 or c == 2 else 3))\n",
    "df_medi[df_medi[\"retro_dt\"] >= dt.date(2015, 9, 1)][[\"klient_id\", \"category\"]].groupby('category').count()"
   ]
  },
  {
   "cell_type": "code",
   "execution_count": 12,
   "metadata": {
    "collapsed": true
   },
   "outputs": [],
   "source": [
    "USER_PATTERN = '{\"vid\":\"%s\",\"okid\":%s,\"email\":%s,\"vkid\":%s,\"category\":{\"int\":%s},\"start\":{\"long\":%d},\"end\":{\"long\":%d}}'\n",
    "STRING_PATTERN = '{\"string\":\"%s\"}'\n",
    "MONTH_SECONDS = 31 * 24 * 60 * 60"
   ]
  },
  {
   "cell_type": "code",
   "execution_count": 13,
   "metadata": {
    "collapsed": false
   },
   "outputs": [],
   "source": [
    "with open(OUT_PATH_MEDIC, \"w\") as out_file_medic:    \n",
    "        for i, row in df_medi.iterrows():\n",
    "            end_ts = int(row[\"retro_dt\"].strftime(\"%s\"))\n",
    "            start_ts = end_ts - MONTH_SECONDS\n",
    "\n",
    "            emails = row[\"emails\"].split(\",\") if pd.notnull(row[\"emails\"]) else [\"\"]\n",
    "            okids = row[\"okids\"].split(\",\") if pd.notnull(row[\"okids\"]) else [\"\"]\n",
    "            vkids = row[\"vkids\"].split(\",\") if pd.notnull(row[\"vkids\"]) else [\"\"]           \n",
    "            \n",
    "            category = row[\"category\"]\n",
    "\n",
    "            for email in emails:\n",
    "                for okid in okids:\n",
    "                    for vkid in vkids:\n",
    "                        em = STRING_PATTERN % email if email else \"null\"\n",
    "                        ok = STRING_PATTERN % okid if okid else \"null\"\n",
    "                        vk = STRING_PATTERN % vkid if vkid else \"null\"                       \n",
    "                            \n",
    "                        if category:\n",
    "                            print >> out_file_medic, USER_PATTERN % (\"\", ok, em, vk, int(category), start_ts, end_ts)"
   ]
  },
  {
   "cell_type": "code",
   "execution_count": 14,
   "metadata": {
    "collapsed": false
   },
   "outputs": [
    {
     "name": "stdout",
     "output_type": "stream",
     "text": [
      "   86159 /Users/anokhin/Desktop/profi_medic.jss\n",
      "{\"vid\":\"\",\"okid\":{\"string\":\"522413589455\"},\"email\":null,\"vkid\":{\"string\":\"156068915\"},\"category\":{\"int\":1},\"start\":{\"long\":1423256400},\"end\":{\"long\":1425934800}}\n",
      "{\"vid\":\"\",\"okid\":{\"string\":\"228275964505\"},\"email\":{\"string\":\"y0SQVhfhZyEin5JzKuGQKA==\"},\"vkid\":null,\"category\":{\"int\":1},\"start\":{\"long\":1423256400},\"end\":{\"long\":1425934800}}\n",
      "{\"vid\":\"\",\"okid\":{\"string\":\"228275964505\"},\"email\":{\"string\":\"L9ksK4NmRMVNyNMbmrGTgIFZ5jAGYw5E\"},\"vkid\":null,\"category\":{\"int\":1},\"start\":{\"long\":1423256400},\"end\":{\"long\":1425934800}}\n",
      "{\"vid\":\"\",\"okid\":{\"string\":\"125060320539\"},\"email\":{\"string\":\"ONSXhR6O/xRwR/51RnKmt+TVEQ6hCvVL\"},\"vkid\":{\"string\":\"62975440\"},\"category\":{\"int\":1},\"start\":{\"long\":1442523600},\"end\":{\"long\":1445202000}}\n",
      "{\"vid\":\"\",\"okid\":{\"string\":\"572477698068\"},\"email\":null,\"vkid\":{\"string\":\"52687177\"},\"category\":{\"int\":2},\"start\":{\"long\":1427230800},\"end\":{\"long\":1429909200}}\n",
      "{\"vid\":\"\",\"okid\":{\"string\":\"513910877517\"},\"email\":{\"string\":\"FnMU403kpRvUNBdSwhgwXw==\"},\"vkid\":null,\"category\":{\"int\":2},\"start\":{\"long\":1427230800},\"end\":{\"long\":1429909200}}\n",
      "{\"vid\":\"\",\"okid\":{\"string\":\"278028932\"},\"email\":null,\"vkid\":null,\"category\":{\"int\":2},\"start\":{\"long\":1431637200},\"end\":{\"long\":1434315600}}\n",
      "{\"vid\":\"\",\"okid\":null,\"email\":{\"string\":\"g8OyiF1BaMnCudl6DdqAKSIR8Jkh5HsV\"},\"vkid\":{\"string\":\"47958895\"},\"category\":{\"int\":2},\"start\":{\"long\":1431637200},\"end\":{\"long\":1434315600}}\n",
      "{\"vid\":\"\",\"okid\":null,\"email\":{\"string\":\"XClYfA27LQOp2nIdKsh04oFZ5jAGYw5E\"},\"vkid\":{\"string\":\"47958895\"},\"category\":{\"int\":2},\"start\":{\"long\":1431637200},\"end\":{\"long\":1434315600}}\n",
      "{\"vid\":\"\",\"okid\":null,\"email\":{\"string\":\"Sey42Moj8IxLbMZ4Wa2pnuTVEQ6hCvVL\"},\"vkid\":{\"string\":\"47958895\"},\"category\":{\"int\":2},\"start\":{\"long\":1431637200},\"end\":{\"long\":1434315600}}\n"
     ]
    }
   ],
   "source": [
    "%%bash\n",
    "wc -l /Users/anokhin/Desktop/profi_medic.jss \n",
    "head /Users/anokhin/Desktop/profi_medic.jss"
   ]
  },
  {
   "cell_type": "markdown",
   "metadata": {},
   "source": [
    "## Красота"
   ]
  },
  {
   "cell_type": "code",
   "execution_count": 15,
   "metadata": {
    "collapsed": false
   },
   "outputs": [
    {
     "name": "stderr",
     "output_type": "stream",
     "text": [
      "/usr/local/lib/python2.7/site-packages/numpy/lib/arraysetops.py:200: FutureWarning: numpy not_equal will not check object identity in the future. The comparison did not return the same result as suggested by the identity (`is`)) and will change.\n",
      "  flag = np.concatenate(([True], aux[1:] != aux[:-1]))\n"
     ]
    },
    {
     "data": {
      "text/html": [
       "<div>\n",
       "<table border=\"1\" class=\"dataframe\">\n",
       "  <thead>\n",
       "    <tr style=\"text-align: right;\">\n",
       "      <th></th>\n",
       "      <th>klient_id</th>\n",
       "      <th>mb</th>\n",
       "      <th>emails</th>\n",
       "      <th>okids</th>\n",
       "      <th>vkids</th>\n",
       "      <th>age</th>\n",
       "      <th>gender</th>\n",
       "      <th>retro_dt</th>\n",
       "      <th>phone</th>\n",
       "      <th>birth_dt</th>\n",
       "      <th>klient_gender</th>\n",
       "      <th>ckat</th>\n",
       "      <th>email</th>\n",
       "      <th>category</th>\n",
       "    </tr>\n",
       "  </thead>\n",
       "  <tbody>\n",
       "    <tr>\n",
       "      <th>0</th>\n",
       "      <td>beau=1000487</td>\n",
       "      <td>0</td>\n",
       "      <td>NaN</td>\n",
       "      <td>NaN</td>\n",
       "      <td>219933780</td>\n",
       "      <td>0.500000</td>\n",
       "      <td>0</td>\n",
       "      <td>2015-05-18</td>\n",
       "      <td>9165134515</td>\n",
       "      <td>XNA</td>\n",
       "      <td>0</td>\n",
       "      <td>1</td>\n",
       "      <td>XNA</td>\n",
       "      <td>NaN</td>\n",
       "    </tr>\n",
       "    <tr>\n",
       "      <th>1</th>\n",
       "      <td>beau=1000560</td>\n",
       "      <td>3</td>\n",
       "      <td>NaN</td>\n",
       "      <td>519958602210</td>\n",
       "      <td>190613242</td>\n",
       "      <td>0.660178</td>\n",
       "      <td>0</td>\n",
       "      <td>2015-10-20</td>\n",
       "      <td>9167389282</td>\n",
       "      <td>XNA</td>\n",
       "      <td>0</td>\n",
       "      <td>2</td>\n",
       "      <td>XNA</td>\n",
       "      <td>2</td>\n",
       "    </tr>\n",
       "    <tr>\n",
       "      <th>2</th>\n",
       "      <td>beau=1000560</td>\n",
       "      <td>0</td>\n",
       "      <td>X2V+XsytIeOY1xOsN7CCvvFhfUbIPc55</td>\n",
       "      <td>NaN</td>\n",
       "      <td>NaN</td>\n",
       "      <td>0.660178</td>\n",
       "      <td>0</td>\n",
       "      <td>2015-10-20</td>\n",
       "      <td>9167389282</td>\n",
       "      <td>XNA</td>\n",
       "      <td>0</td>\n",
       "      <td>2</td>\n",
       "      <td>XNA</td>\n",
       "      <td>2</td>\n",
       "    </tr>\n",
       "    <tr>\n",
       "      <th>3</th>\n",
       "      <td>beau=1000982</td>\n",
       "      <td>3</td>\n",
       "      <td>rHMWdqV/aetBXSei8YqlI+TVEQ6hCvVL,2ELOi1eCH/CqZ...</td>\n",
       "      <td>58949664152</td>\n",
       "      <td>3272478</td>\n",
       "      <td>0.695453</td>\n",
       "      <td>0</td>\n",
       "      <td>2015-06-04</td>\n",
       "      <td>9037614667</td>\n",
       "      <td>XNA</td>\n",
       "      <td>0</td>\n",
       "      <td>1</td>\n",
       "      <td>XNA</td>\n",
       "      <td>2</td>\n",
       "    </tr>\n",
       "    <tr>\n",
       "      <th>4</th>\n",
       "      <td>beau=1000982</td>\n",
       "      <td>0</td>\n",
       "      <td>GLN3hTnOyKMszF1+n0AMxoFZ5jAGYw5E,+HIaTnxgt0oM+...</td>\n",
       "      <td>NaN</td>\n",
       "      <td>NaN</td>\n",
       "      <td>0.695453</td>\n",
       "      <td>0</td>\n",
       "      <td>2015-06-04</td>\n",
       "      <td>9037614667</td>\n",
       "      <td>XNA</td>\n",
       "      <td>0</td>\n",
       "      <td>1</td>\n",
       "      <td>XNA</td>\n",
       "      <td>2</td>\n",
       "    </tr>\n",
       "  </tbody>\n",
       "</table>\n",
       "</div>"
      ],
      "text/plain": [
       "      klient_id  mb                                             emails  \\\n",
       "0  beau=1000487   0                                                NaN   \n",
       "1  beau=1000560   3                                                NaN   \n",
       "2  beau=1000560   0                   X2V+XsytIeOY1xOsN7CCvvFhfUbIPc55   \n",
       "3  beau=1000982   3  rHMWdqV/aetBXSei8YqlI+TVEQ6hCvVL,2ELOi1eCH/CqZ...   \n",
       "4  beau=1000982   0  GLN3hTnOyKMszF1+n0AMxoFZ5jAGYw5E,+HIaTnxgt0oM+...   \n",
       "\n",
       "          okids      vkids       age  gender   retro_dt       phone birth_dt  \\\n",
       "0           NaN  219933780  0.500000       0 2015-05-18  9165134515      XNA   \n",
       "1  519958602210  190613242  0.660178       0 2015-10-20  9167389282      XNA   \n",
       "2           NaN        NaN  0.660178       0 2015-10-20  9167389282      XNA   \n",
       "3   58949664152    3272478  0.695453       0 2015-06-04  9037614667      XNA   \n",
       "4           NaN        NaN  0.695453       0 2015-06-04  9037614667      XNA   \n",
       "\n",
       "  klient_gender  ckat email  category  \n",
       "0             0     1   XNA       NaN  \n",
       "1             0     2   XNA         2  \n",
       "2             0     2   XNA         2  \n",
       "3             0     1   XNA         2  \n",
       "4             0     1   XNA         2  "
      ]
     },
     "execution_count": 15,
     "metadata": {},
     "output_type": "execute_result"
    }
   ],
   "source": [
    "df_beau[\"category\"] = map(location, df_beau.klient_id)\n",
    "df_beau.head()"
   ]
  },
  {
   "cell_type": "code",
   "execution_count": 16,
   "metadata": {
    "collapsed": false
   },
   "outputs": [
    {
     "data": {
      "text/html": [
       "<div>\n",
       "<table border=\"1\" class=\"dataframe\">\n",
       "  <thead>\n",
       "    <tr style=\"text-align: right;\">\n",
       "      <th></th>\n",
       "      <th>klient_id</th>\n",
       "    </tr>\n",
       "    <tr>\n",
       "      <th>category</th>\n",
       "      <th></th>\n",
       "    </tr>\n",
       "  </thead>\n",
       "  <tbody>\n",
       "    <tr>\n",
       "      <th>1</th>\n",
       "      <td>12374</td>\n",
       "    </tr>\n",
       "    <tr>\n",
       "      <th>2</th>\n",
       "      <td>6487</td>\n",
       "    </tr>\n",
       "    <tr>\n",
       "      <th>3</th>\n",
       "      <td>3089</td>\n",
       "    </tr>\n",
       "  </tbody>\n",
       "</table>\n",
       "</div>"
      ],
      "text/plain": [
       "          klient_id\n",
       "category           \n",
       "1             12374\n",
       "2              6487\n",
       "3              3089"
      ]
     },
     "execution_count": 16,
     "metadata": {},
     "output_type": "execute_result"
    }
   ],
   "source": [
    "df_beau[df_beau[\"retro_dt\"] >= dt.date(2015, 9, 1)][[\"klient_id\", \"category\"]].groupby('category').count()"
   ]
  },
  {
   "cell_type": "code",
   "execution_count": 17,
   "metadata": {
    "collapsed": false
   },
   "outputs": [],
   "source": [
    "with open(OUT_PATH_BEAUTY, \"w\") as out_file_beauty:    \n",
    "        for i, row in df_beau.iterrows():\n",
    "            end_ts = int(row[\"retro_dt\"].strftime(\"%s\"))\n",
    "            start_ts = end_ts - MONTH_SECONDS\n",
    "\n",
    "            emails = row[\"emails\"].split(\",\") if pd.notnull(row[\"emails\"]) else [\"\"]\n",
    "            okids = row[\"okids\"].split(\",\") if pd.notnull(row[\"okids\"]) else [\"\"]\n",
    "            vkids = row[\"vkids\"].split(\",\") if pd.notnull(row[\"vkids\"]) else [\"\"]           \n",
    "            \n",
    "            category = row[\"category\"]\n",
    "            if pd.isnull(category):\n",
    "                continue\n",
    "\n",
    "            for email in emails:\n",
    "                for okid in okids:\n",
    "                    for vkid in vkids:\n",
    "                        em = STRING_PATTERN % email if email else \"null\"\n",
    "                        ok = STRING_PATTERN % okid if okid else \"null\"\n",
    "                        vk = STRING_PATTERN % vkid if vkid else \"null\"                       \n",
    "                            \n",
    "                        if category:\n",
    "                            print >> out_file_beauty, USER_PATTERN % (\"\", ok, em, vk, int(category), start_ts, end_ts)"
   ]
  },
  {
   "cell_type": "code",
   "execution_count": 18,
   "metadata": {
    "collapsed": false
   },
   "outputs": [
    {
     "name": "stdout",
     "output_type": "stream",
     "text": [
      "   59871 /Users/anokhin/Desktop/profi_beauty.jss\n",
      "{\"vid\":\"\",\"okid\":{\"string\":\"519958602210\"},\"email\":null,\"vkid\":{\"string\":\"190613242\"},\"category\":{\"int\":2},\"start\":{\"long\":1442610000},\"end\":{\"long\":1445288400}}\n",
      "{\"vid\":\"\",\"okid\":null,\"email\":{\"string\":\"X2V+XsytIeOY1xOsN7CCvvFhfUbIPc55\"},\"vkid\":null,\"category\":{\"int\":2},\"start\":{\"long\":1442610000},\"end\":{\"long\":1445288400}}\n",
      "{\"vid\":\"\",\"okid\":{\"string\":\"58949664152\"},\"email\":{\"string\":\"rHMWdqV/aetBXSei8YqlI+TVEQ6hCvVL\"},\"vkid\":{\"string\":\"3272478\"},\"category\":{\"int\":2},\"start\":{\"long\":1430686800},\"end\":{\"long\":1433365200}}\n",
      "{\"vid\":\"\",\"okid\":{\"string\":\"58949664152\"},\"email\":{\"string\":\"2ELOi1eCH/CqZvCXMTuf5g==\"},\"vkid\":{\"string\":\"3272478\"},\"category\":{\"int\":2},\"start\":{\"long\":1430686800},\"end\":{\"long\":1433365200}}\n",
      "{\"vid\":\"\",\"okid\":null,\"email\":{\"string\":\"GLN3hTnOyKMszF1+n0AMxoFZ5jAGYw5E\"},\"vkid\":null,\"category\":{\"int\":2},\"start\":{\"long\":1430686800},\"end\":{\"long\":1433365200}}\n",
      "{\"vid\":\"\",\"okid\":null,\"email\":{\"string\":\"+HIaTnxgt0oM+ndML7LnnOTVEQ6hCvVL\"},\"vkid\":null,\"category\":{\"int\":2},\"start\":{\"long\":1430686800},\"end\":{\"long\":1433365200}}\n",
      "{\"vid\":\"\",\"okid\":null,\"email\":{\"string\":\"A6/6PGMQe+4IdRTBIZDg7+TVEQ6hCvVL\"},\"vkid\":null,\"category\":{\"int\":2},\"start\":{\"long\":1430686800},\"end\":{\"long\":1433365200}}\n",
      "{\"vid\":\"\",\"okid\":{\"string\":\"412876980\"},\"email\":null,\"vkid\":{\"string\":\"112225908\"},\"category\":{\"int\":2},\"start\":{\"long\":1434574800},\"end\":{\"long\":1437253200}}\n",
      "{\"vid\":\"\",\"okid\":{\"string\":\"531716672876\"},\"email\":null,\"vkid\":{\"string\":\"112225908\"},\"category\":{\"int\":2},\"start\":{\"long\":1434574800},\"end\":{\"long\":1437253200}}\n",
      "{\"vid\":\"\",\"okid\":null,\"email\":null,\"vkid\":{\"string\":\"2666347\"},\"category\":{\"int\":1},\"start\":{\"long\":1445547600},\"end\":{\"long\":1448226000}}\n"
     ]
    }
   ],
   "source": [
    "%%bash\n",
    "wc -l /Users/anokhin/Desktop/profi_beauty.jss \n",
    "head /Users/anokhin/Desktop/profi_beauty.jss"
   ]
  },
  {
   "cell_type": "code",
   "execution_count": null,
   "metadata": {
    "collapsed": true
   },
   "outputs": [],
   "source": []
  }
 ],
 "metadata": {
  "kernelspec": {
   "display_name": "Python 2",
   "language": "python",
   "name": "python2"
  },
  "language_info": {
   "codemirror_mode": {
    "name": "ipython",
    "version": 2
   },
   "file_extension": ".py",
   "mimetype": "text/x-python",
   "name": "python",
   "nbconvert_exporter": "python",
   "pygments_lexer": "ipython2",
   "version": "2.7.9"
  }
 },
 "nbformat": 4,
 "nbformat_minor": 0
}
