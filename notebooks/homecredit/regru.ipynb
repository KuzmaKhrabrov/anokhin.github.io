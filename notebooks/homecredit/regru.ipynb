{
 "cells": [
  {
   "cell_type": "code",
   "execution_count": 8,
   "metadata": {
    "collapsed": false
   },
   "outputs": [
    {
     "name": "stdout",
     "output_type": "stream",
     "text": [
      "Populating the interactive namespace from numpy and matplotlib\n"
     ]
    }
   ],
   "source": [
    "import pandas as pd\n",
    "import datetime as dt\n",
    "import numpy as np\n",
    "\n",
    "import pylab as pl\n",
    "import seaborn as sns\n",
    "\n",
    "from Crypto.Cipher import Blowfish\n",
    "import hashlib\n",
    "\n",
    "%pylab inline"
   ]
  },
  {
   "cell_type": "code",
   "execution_count": 9,
   "metadata": {
    "collapsed": true
   },
   "outputs": [],
   "source": [
    "IN_PATH = '/Users/anokhin/Desktop/39154.csv'\n",
    "OUT_PATH = '/Users/anokhin/Desktop/regru.la.jss'"
   ]
  },
  {
   "cell_type": "code",
   "execution_count": 10,
   "metadata": {
    "collapsed": false
   },
   "outputs": [
    {
     "name": "stdout",
     "output_type": "stream",
     "text": [
      "2016-01-05 00:00:00 2016-04-05 00:00:00\n"
     ]
    },
    {
     "data": {
      "text/html": [
       "<div>\n",
       "<table border=\"1\" class=\"dataframe\">\n",
       "  <thead>\n",
       "    <tr style=\"text-align: right;\">\n",
       "      <th></th>\n",
       "      <th>email</th>\n",
       "      <th>phone</th>\n",
       "      <th>retro_dt</th>\n",
       "    </tr>\n",
       "  </thead>\n",
       "  <tbody>\n",
       "    <tr>\n",
       "      <th>0</th>\n",
       "      <td>ostrovskiysv@gmail.com</td>\n",
       "      <td>NaN</td>\n",
       "      <td>2016-01-10</td>\n",
       "    </tr>\n",
       "    <tr>\n",
       "      <th>1</th>\n",
       "      <td>vladimir@53040.ru</td>\n",
       "      <td>+7 922 4529354</td>\n",
       "      <td>2016-01-12</td>\n",
       "    </tr>\n",
       "    <tr>\n",
       "      <th>2</th>\n",
       "      <td>mail.gomel@mail.ru</td>\n",
       "      <td>+375291711308</td>\n",
       "      <td>2016-01-16</td>\n",
       "    </tr>\n",
       "    <tr>\n",
       "      <th>3</th>\n",
       "      <td>denusa1987@mail.ru</td>\n",
       "      <td>+7 9628473656</td>\n",
       "      <td>2016-01-20</td>\n",
       "    </tr>\n",
       "    <tr>\n",
       "      <th>4</th>\n",
       "      <td>gsrtsn@mail.ru</td>\n",
       "      <td>+7 9635992898</td>\n",
       "      <td>2016-01-20</td>\n",
       "    </tr>\n",
       "  </tbody>\n",
       "</table>\n",
       "</div>"
      ],
      "text/plain": [
       "                    email           phone   retro_dt\n",
       "0  ostrovskiysv@gmail.com             NaN 2016-01-10\n",
       "1       vladimir@53040.ru  +7 922 4529354 2016-01-12\n",
       "2      mail.gomel@mail.ru   +375291711308 2016-01-16\n",
       "3      denusa1987@mail.ru   +7 9628473656 2016-01-20\n",
       "4          gsrtsn@mail.ru   +7 9635992898 2016-01-20"
      ]
     },
     "execution_count": 10,
     "metadata": {},
     "output_type": "execute_result"
    }
   ],
   "source": [
    "ts_parser = lambda ts: dt.datetime.strptime(ts, \"%Y-%m-%d\")\n",
    "df1 = pd.read_csv(\n",
    "    IN_PATH, sep=\",\", \n",
    "    header=None, names=['email', 'phone', 'retro_dt'],\n",
    "    converters={'retro_dt': ts_parser}    \n",
    ")\n",
    "print df1[\"retro_dt\"].min(), df1[\"retro_dt\"].max()\n",
    "df1.head()"
   ]
  },
  {
   "cell_type": "code",
   "execution_count": 11,
   "metadata": {
    "collapsed": false
   },
   "outputs": [
    {
     "data": {
      "image/png": "[encoded data removed]",
      "text/plain": [
       "<matplotlib.figure.Figure at 0x1128669d0>"
      ]
     },
     "metadata": {},
     "output_type": "display_data"
    }
   ],
   "source": [
    "pl.figure(figsize=(20, 5))\n",
    "df1['retro_dt'].hist(bins=100)\n",
    "pl.show()"
   ]
  },
  {
   "cell_type": "code",
   "execution_count": 14,
   "metadata": {
    "collapsed": true
   },
   "outputs": [],
   "source": [
    "class Encryptor:\n",
    "    def __init__(self, key):\n",
    "        self.bf = Blowfish.new(key.strip().decode('base64'), Blowfish.MODE_ECB)\n",
    "\n",
    "    def encode(self, email):\n",
    "        padding = ''\n",
    "        if (len(email) % 8  ) != 0:\n",
    "            padding = ' ' * (8-(len(email) % 8))\n",
    "        return '%s' % self.bf.encrypt(email.lower() + padding).encode('base64').replace(\"\\n\",\"\")\n",
    "\n",
    "    def decode(self, email):\n",
    "        content = email.split(':')[1].strip('{}')\n",
    "        res = self.bf.decrypt((content + \"\\n\").decode('base64'))\n",
    "        return res.strip()"
   ]
  },
  {
   "cell_type": "code",
   "execution_count": 16,
   "metadata": {
    "collapsed": false
   },
   "outputs": [
    {
     "data": {
      "text/html": [
       "<div>\n",
       "<table border=\"1\" class=\"dataframe\">\n",
       "  <thead>\n",
       "    <tr style=\"text-align: right;\">\n",
       "      <th></th>\n",
       "      <th>email</th>\n",
       "      <th>phone</th>\n",
       "      <th>retro_dt</th>\n",
       "      <th>email_enc</th>\n",
       "    </tr>\n",
       "  </thead>\n",
       "  <tbody>\n",
       "    <tr>\n",
       "      <th>0</th>\n",
       "      <td>ostrovskiysv@gmail.com</td>\n",
       "      <td>NaN</td>\n",
       "      <td>2016-01-10</td>\n",
       "      <td>OI7sOsgNe1/zQ2NzQ7nLfYwMuBMORmwH</td>\n",
       "    </tr>\n",
       "    <tr>\n",
       "      <th>1</th>\n",
       "      <td>vladimir@53040.ru</td>\n",
       "      <td>+7 922 4529354</td>\n",
       "      <td>2016-01-12</td>\n",
       "      <td>KO6AFBiXahgnTidhlWhZiOTVEQ6hCvVL</td>\n",
       "    </tr>\n",
       "    <tr>\n",
       "      <th>2</th>\n",
       "      <td>mail.gomel@mail.ru</td>\n",
       "      <td>+375291711308</td>\n",
       "      <td>2016-01-16</td>\n",
       "      <td>DgRYbYpkNNtOJHM4WI7VdYFZ5jAGYw5E</td>\n",
       "    </tr>\n",
       "    <tr>\n",
       "      <th>3</th>\n",
       "      <td>denusa1987@mail.ru</td>\n",
       "      <td>+7 9628473656</td>\n",
       "      <td>2016-01-20</td>\n",
       "      <td>/6kQ4tUn0Yk+si5bUEGoloFZ5jAGYw5E</td>\n",
       "    </tr>\n",
       "    <tr>\n",
       "      <th>4</th>\n",
       "      <td>gsrtsn@mail.ru</td>\n",
       "      <td>+7 9635992898</td>\n",
       "      <td>2016-01-20</td>\n",
       "      <td>aImrc1FJLuWEHMkYfWzCSg==</td>\n",
       "    </tr>\n",
       "  </tbody>\n",
       "</table>\n",
       "</div>"
      ],
      "text/plain": [
       "                    email           phone   retro_dt  \\\n",
       "0  ostrovskiysv@gmail.com             NaN 2016-01-10   \n",
       "1       vladimir@53040.ru  +7 922 4529354 2016-01-12   \n",
       "2      mail.gomel@mail.ru   +375291711308 2016-01-16   \n",
       "3      denusa1987@mail.ru   +7 9628473656 2016-01-20   \n",
       "4          gsrtsn@mail.ru   +7 9635992898 2016-01-20   \n",
       "\n",
       "                          email_enc  \n",
       "0  OI7sOsgNe1/zQ2NzQ7nLfYwMuBMORmwH  \n",
       "1  KO6AFBiXahgnTidhlWhZiOTVEQ6hCvVL  \n",
       "2  DgRYbYpkNNtOJHM4WI7VdYFZ5jAGYw5E  \n",
       "3  /6kQ4tUn0Yk+si5bUEGoloFZ5jAGYw5E  \n",
       "4          aImrc1FJLuWEHMkYfWzCSg==  "
      ]
     },
     "execution_count": 16,
     "metadata": {},
     "output_type": "execute_result"
    }
   ],
   "source": [
    "e = Encryptor('')\n",
    "df1[\"email_enc\"] = df1[\"email\"].map(lambda m: e.encode(m))\n",
    "df1.head()"
   ]
  },
  {
   "cell_type": "code",
   "execution_count": 17,
   "metadata": {
    "collapsed": true
   },
   "outputs": [],
   "source": [
    "USER_PATTERN = '{\"vid\":\"%s\",\"okid\":%s,\"email\":%s,\"vkid\":%s,\"category\":{\"int\":%d},\"end\":{\"long\":%d}}'\n",
    "STRING_PATTERN = '{\"string\":\"%s\"}'\n",
    "MONTH_SECONDS = 31 * 24 * 60 * 60"
   ]
  },
  {
   "cell_type": "code",
   "execution_count": 18,
   "metadata": {
    "collapsed": false
   },
   "outputs": [],
   "source": [
    "with open(OUT_PATH, \"w\") as out_file:\n",
    "    for i, row in df1.iterrows():\n",
    "        end_ts = int(row[\"retro_dt\"].strftime(\"%s\")) \n",
    "        \n",
    "        em = STRING_PATTERN % row[\"email_enc\"]\n",
    "        print >> out_file, USER_PATTERN % (\"\", \"null\", em, \"null\", 1, end_ts)"
   ]
  },
  {
   "cell_type": "code",
   "execution_count": 19,
   "metadata": {
    "collapsed": false
   },
   "outputs": [
    {
     "name": "stdout",
     "output_type": "stream",
     "text": [
      "{\"vid\":\"\",\"okid\":null,\"email\":{\"string\":\"OI7sOsgNe1/zQ2NzQ7nLfYwMuBMORmwH\"},\"vkid\":null,\"category\":{\"int\":1},\"end\":{\"long\":1452373200}}\n",
      "{\"vid\":\"\",\"okid\":null,\"email\":{\"string\":\"KO6AFBiXahgnTidhlWhZiOTVEQ6hCvVL\"},\"vkid\":null,\"category\":{\"int\":1},\"end\":{\"long\":1452546000}}\n",
      "{\"vid\":\"\",\"okid\":null,\"email\":{\"string\":\"DgRYbYpkNNtOJHM4WI7VdYFZ5jAGYw5E\"},\"vkid\":null,\"category\":{\"int\":1},\"end\":{\"long\":1452891600}}\n",
      "{\"vid\":\"\",\"okid\":null,\"email\":{\"string\":\"/6kQ4tUn0Yk+si5bUEGoloFZ5jAGYw5E\"},\"vkid\":null,\"category\":{\"int\":1},\"end\":{\"long\":1453237200}}\n",
      "{\"vid\":\"\",\"okid\":null,\"email\":{\"string\":\"aImrc1FJLuWEHMkYfWzCSg==\"},\"vkid\":null,\"category\":{\"int\":1},\"end\":{\"long\":1453237200}}\n",
      "{\"vid\":\"\",\"okid\":null,\"email\":{\"string\":\"DSyw/CtOLKgFWho2BerbZYaYOebnNdbd\"},\"vkid\":null,\"category\":{\"int\":1},\"end\":{\"long\":1453582800}}\n",
      "{\"vid\":\"\",\"okid\":null,\"email\":{\"string\":\"Hi7gBGQwacL9VeyB3KrVLSKfknMq4ZAo\"},\"vkid\":null,\"category\":{\"int\":1},\"end\":{\"long\":1453669200}}\n",
      "{\"vid\":\"\",\"okid\":null,\"email\":{\"string\":\"kptRG5zeKY6ZyhekrIPjtowMuBMORmwH\"},\"vkid\":null,\"category\":{\"int\":1},\"end\":{\"long\":1453669200}}\n",
      "{\"vid\":\"\",\"okid\":null,\"email\":{\"string\":\"/q14TmuD1squN8nIRMGEntru/Yq082mG\"},\"vkid\":null,\"category\":{\"int\":1},\"end\":{\"long\":1453842000}}\n",
      "{\"vid\":\"\",\"okid\":null,\"email\":{\"string\":\"wVtmCy//Jfqy9thYzt9rdIwMuBMORmwH\"},\"vkid\":null,\"category\":{\"int\":1},\"end\":{\"long\":1453842000}}\n"
     ]
    }
   ],
   "source": [
    "%%bash\n",
    "head /Users/anokhin/Desktop/regru.la.jss"
   ]
  },
  {
   "cell_type": "code",
   "execution_count": 21,
   "metadata": {
    "collapsed": false
   },
   "outputs": [
    {
     "data": {
      "text/plain": [
       "'ostrovskiysv@gmail.com'"
      ]
     },
     "execution_count": 21,
     "metadata": {},
     "output_type": "execute_result"
    }
   ],
   "source": [
    "e.decode('{email:OI7sOsgNe1/zQ2NzQ7nLfYwMuBMORmwH}')"
   ]
  },
  {
   "cell_type": "code",
   "execution_count": null,
   "metadata": {
    "collapsed": true
   },
   "outputs": [],
   "source": []
  }
 ],
 "metadata": {
  "kernelspec": {
   "display_name": "Python 2",
   "language": "python",
   "name": "python2"
  },
  "language_info": {
   "codemirror_mode": {
    "name": "ipython",
    "version": 2
   },
   "file_extension": ".py",
   "mimetype": "text/x-python",
   "name": "python",
   "nbconvert_exporter": "python",
   "pygments_lexer": "ipython2",
   "version": "2.7.9"
  }
 },
 "nbformat": 4,
 "nbformat_minor": 0
}
