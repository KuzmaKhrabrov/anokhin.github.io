{
 "cells": [
  {
   "cell_type": "code",
   "execution_count": 4,
   "metadata": {
    "collapsed": false
   },
   "outputs": [
    {
     "name": "stdout",
     "output_type": "stream",
     "text": [
      "Populating the interactive namespace from numpy and matplotlib\n"
     ]
    },
    {
     "name": "stderr",
     "output_type": "stream",
     "text": [
      "/usr/local/lib/python2.7/site-packages/matplotlib/__init__.py:872: UserWarning: axes.color_cycle is deprecated and replaced with axes.prop_cycle; please use the latter.\n",
      "  warnings.warn(self.msg_depr % (key, alt_key))\n"
     ]
    }
   ],
   "source": [
    "import pandas as pd\n",
    "import datetime as dt\n",
    "import numpy as np\n",
    "import json\n",
    "\n",
    "import seaborn as sns\n",
    "import pylab as pl\n",
    "\n",
    "%pylab inline"
   ]
  },
  {
   "cell_type": "code",
   "execution_count": 1,
   "metadata": {
    "collapsed": true
   },
   "outputs": [],
   "source": [
    "IN_PATH = '/Users/anokhin/Desktop/sample_SALARY.txt'\n",
    "OUT_PATH = '/Users/anokhin/Desktop/personal_income_salary.jss'"
   ]
  },
  {
   "cell_type": "code",
   "execution_count": 2,
   "metadata": {
    "collapsed": true
   },
   "outputs": [],
   "source": [
    "USER_PATTERN = '{\"vid\":\"\",\"okid\":%s,\"email\":%s,\"vkid\":%s,\"category\":{\"int\":%d}}'\n",
    "STRING_PATTERN = '{\"string\":\"%s\"}'\n",
    "MONTH_SECONDS = 31 * 24 * 60 * 60"
   ]
  },
  {
   "cell_type": "code",
   "execution_count": 15,
   "metadata": {
    "collapsed": false
   },
   "outputs": [
    {
     "data": {
      "text/html": [
       "<div>\n",
       "<table border=\"1\" class=\"dataframe\">\n",
       "  <thead>\n",
       "    <tr style=\"text-align: right;\">\n",
       "      <th></th>\n",
       "      <th>hh_id</th>\n",
       "      <th>email</th>\n",
       "      <th>okid</th>\n",
       "      <th>vkid</th>\n",
       "      <th>cat</th>\n",
       "    </tr>\n",
       "  </thead>\n",
       "  <tbody>\n",
       "    <tr>\n",
       "      <th>0</th>\n",
       "      <td>23666466</td>\n",
       "      <td>None</td>\n",
       "      <td>None</td>\n",
       "      <td>39469849</td>\n",
       "      <td>32</td>\n",
       "    </tr>\n",
       "    <tr>\n",
       "      <th>1</th>\n",
       "      <td>45109419</td>\n",
       "      <td>AKNlWzzxEyLfmPR6t6ul3CIR8Jkh5HsV</td>\n",
       "      <td>None</td>\n",
       "      <td>61414726</td>\n",
       "      <td>34</td>\n",
       "    </tr>\n",
       "    <tr>\n",
       "      <th>2</th>\n",
       "      <td>45854482</td>\n",
       "      <td>None</td>\n",
       "      <td>None</td>\n",
       "      <td>227568564</td>\n",
       "      <td>35</td>\n",
       "    </tr>\n",
       "    <tr>\n",
       "      <th>3</th>\n",
       "      <td>44076491</td>\n",
       "      <td>yHqxCcVDxrvUNBdSwhgwXw==</td>\n",
       "      <td>None</td>\n",
       "      <td>34885941</td>\n",
       "      <td>32</td>\n",
       "    </tr>\n",
       "    <tr>\n",
       "      <th>4</th>\n",
       "      <td>40708834</td>\n",
       "      <td>UJWyzb4FUt+cANK/ok64JeTVEQ6hCvVL</td>\n",
       "      <td>None</td>\n",
       "      <td>None</td>\n",
       "      <td>41</td>\n",
       "    </tr>\n",
       "  </tbody>\n",
       "</table>\n",
       "</div>"
      ],
      "text/plain": [
       "      hh_id                             email  okid       vkid  cat\n",
       "0  23666466                              None  None   39469849   32\n",
       "1  45109419  AKNlWzzxEyLfmPR6t6ul3CIR8Jkh5HsV  None   61414726   34\n",
       "2  45854482                              None  None  227568564   35\n",
       "3  44076491          yHqxCcVDxrvUNBdSwhgwXw==  None   34885941   32\n",
       "4  40708834  UJWyzb4FUt+cANK/ok64JeTVEQ6hCvVL  None       None   41"
      ]
     },
     "execution_count": 15,
     "metadata": {},
     "output_type": "execute_result"
    }
   ],
   "source": [
    "lines = []\n",
    "with open(IN_PATH, \"r\") as in_file:\n",
    "    for i, line in enumerate(in_file):\n",
    "        if i == 0:\n",
    "            continue\n",
    "            \n",
    "        hh_id, abcde, match_str = line.strip().split(\"\\t\")        \n",
    "        \n",
    "        match = json.loads(match_str)\n",
    "        vkids = match.get(\"vkids\", [\"None\"])\n",
    "        okids = match.get(\"okids\", [\"None\"])\n",
    "        emails = match.get(\"mails\", [\"None\"])\n",
    "        \n",
    "        for vkid in vkids:\n",
    "            for okid in okids:\n",
    "                for email in emails:\n",
    "                    data = {\"hh_id\": int(hh_id), \"cat\": int(np.log1p(int(abcde) / 1000) * 10), \"email\": str(email), \"okid\": str(okid), \"vkid\": str(vkid)}\n",
    "                    lines.append(data)\n",
    "        \n",
    "df = pd.DataFrame(lines, columns=['hh_id', 'email', 'okid', 'vkid', 'cat'])\n",
    "df.head()"
   ]
  },
  {
   "cell_type": "code",
   "execution_count": 16,
   "metadata": {
    "collapsed": false
   },
   "outputs": [
    {
     "data": {
      "text/plain": [
       "<matplotlib.axes._subplots.AxesSubplot at 0x12cc6ae10>"
      ]
     },
     "execution_count": 16,
     "metadata": {},
     "output_type": "execute_result"
    },
    {
     "data": {
      "image/png": "[encoded data removed]",
      "text/plain": [
       "<matplotlib.figure.Figure at 0x12ce86fd0>"
      ]
     },
     "metadata": {},
     "output_type": "display_data"
    }
   ],
   "source": [
    "sns.distplot(df[\"cat\"])"
   ]
  },
  {
   "cell_type": "code",
   "execution_count": 17,
   "metadata": {
    "collapsed": true
   },
   "outputs": [],
   "source": [
    "with open(OUT_PATH, \"w\") as out_file:\n",
    "    for i, row in df.iterrows():\n",
    "        print >> out_file, USER_PATTERN % (\n",
    "            (STRING_PATTERN % row[\"okid\"]) if row[\"okid\"] != \"None\" else \"null\",\n",
    "            (STRING_PATTERN % row[\"email\"]) if row[\"email\"] != \"None\" else \"null\",\n",
    "            (STRING_PATTERN % row[\"vkid\"]) if row[\"vkid\"] != \"None\" else \"null\",\n",
    "            row[\"cat\"]\n",
    "        )"
   ]
  },
  {
   "cell_type": "code",
   "execution_count": 18,
   "metadata": {
    "collapsed": false
   },
   "outputs": [
    {
     "name": "stdout",
     "output_type": "stream",
     "text": [
      "{\"vid\":\"\",\"okid\":null,\"email\":null,\"vkid\":{\"string\":\"39469849\"},\"category\":{\"int\":32}}\n",
      "{\"vid\":\"\",\"okid\":null,\"email\":{\"string\":\"AKNlWzzxEyLfmPR6t6ul3CIR8Jkh5HsV\"},\"vkid\":{\"string\":\"61414726\"},\"category\":{\"int\":34}}\n",
      "{\"vid\":\"\",\"okid\":null,\"email\":null,\"vkid\":{\"string\":\"227568564\"},\"category\":{\"int\":35}}\n",
      "{\"vid\":\"\",\"okid\":null,\"email\":{\"string\":\"yHqxCcVDxrvUNBdSwhgwXw==\"},\"vkid\":{\"string\":\"34885941\"},\"category\":{\"int\":32}}\n",
      "{\"vid\":\"\",\"okid\":null,\"email\":{\"string\":\"UJWyzb4FUt+cANK/ok64JeTVEQ6hCvVL\"},\"vkid\":null,\"category\":{\"int\":41}}\n",
      "{\"vid\":\"\",\"okid\":null,\"email\":{\"string\":\"oiuqr0uSW0win5JzKuGQKA==\"},\"vkid\":null,\"category\":{\"int\":35}}\n",
      "{\"vid\":\"\",\"okid\":{\"string\":\"518930322032\"},\"email\":{\"string\":\"QS1MkV+94qiEHMkYfWzCSg==\"},\"vkid\":null,\"category\":{\"int\":39}}\n",
      "{\"vid\":\"\",\"okid\":null,\"email\":null,\"vkid\":{\"string\":\"8010258\"},\"category\":{\"int\":32}}\n",
      "{\"vid\":\"\",\"okid\":null,\"email\":{\"string\":\"gNq7kqCVGpnUNBdSwhgwXw==\"},\"vkid\":{\"string\":\"51956605\"},\"category\":{\"int\":38}}\n",
      "{\"vid\":\"\",\"okid\":null,\"email\":null,\"vkid\":{\"string\":\"147011296\"},\"category\":{\"int\":38}}\n"
     ]
    }
   ],
   "source": [
    "%%bash\n",
    "head /Users/anokhin/Desktop/personal_income_salary.jss"
   ]
  },
  {
   "cell_type": "code",
   "execution_count": null,
   "metadata": {
    "collapsed": true
   },
   "outputs": [],
   "source": []
  }
 ],
 "metadata": {
  "kernelspec": {
   "display_name": "Python 2",
   "language": "python",
   "name": "python2"
  },
  "language_info": {
   "codemirror_mode": {
    "name": "ipython",
    "version": 2
   },
   "file_extension": ".py",
   "mimetype": "text/x-python",
   "name": "python",
   "nbconvert_exporter": "python",
   "pygments_lexer": "ipython2",
   "version": "2.7.9"
  }
 },
 "nbformat": 4,
 "nbformat_minor": 0
}
