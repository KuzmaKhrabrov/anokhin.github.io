{
 "cells": [
  {
   "cell_type": "code",
   "execution_count": 2,
   "metadata": {
    "collapsed": false
   },
   "outputs": [
    {
     "name": "stdout",
     "output_type": "stream",
     "text": [
      "Populating the interactive namespace from numpy and matplotlib\n"
     ]
    }
   ],
   "source": [
    "import pandas as pd\n",
    "import datetime as dt\n",
    "import numpy as np\n",
    "\n",
    "import pylab as pl\n",
    "import seaborn as sns\n",
    "\n",
    "%pylab inline"
   ]
  },
  {
   "cell_type": "code",
   "execution_count": 3,
   "metadata": {
    "collapsed": true
   },
   "outputs": [],
   "source": [
    "IN_PATH = '/Users/anokhin/Desktop/vtb24.txt'\n",
    "OUT_PATH = '/Users/anokhin/Desktop/vtb24.la.jss'"
   ]
  },
  {
   "cell_type": "code",
   "execution_count": 12,
   "metadata": {
    "collapsed": false
   },
   "outputs": [
    {
     "name": "stdout",
     "output_type": "stream",
     "text": [
      "2015-09-01 00:00:00\n"
     ]
    },
    {
     "data": {
      "text/html": [
       "<div>\n",
       "<table border=\"1\" class=\"dataframe\">\n",
       "  <thead>\n",
       "    <tr style=\"text-align: right;\">\n",
       "      <th></th>\n",
       "      <th>cuid</th>\n",
       "      <th>emails</th>\n",
       "      <th>okids</th>\n",
       "      <th>vkids</th>\n",
       "      <th>other_dt</th>\n",
       "      <th>retro_dt</th>\n",
       "      <th>age</th>\n",
       "      <th>sex</th>\n",
       "    </tr>\n",
       "  </thead>\n",
       "  <tbody>\n",
       "    <tr>\n",
       "      <th>0</th>\n",
       "      <td>10002014</td>\n",
       "      <td>HvVnT8/3LQmkYmuPwTbCNoFZ5jAGYw5E</td>\n",
       "      <td>NaN</td>\n",
       "      <td>600666</td>\n",
       "      <td>2015-07-23</td>\n",
       "      <td>2015-09-21</td>\n",
       "      <td>0.280299</td>\n",
       "      <td>1</td>\n",
       "    </tr>\n",
       "    <tr>\n",
       "      <th>1</th>\n",
       "      <td>10004696</td>\n",
       "      <td>NaN</td>\n",
       "      <td>573569434121</td>\n",
       "      <td>NaN</td>\n",
       "      <td>2015-07-12</td>\n",
       "      <td>2015-09-10</td>\n",
       "      <td>0.432597</td>\n",
       "      <td>1</td>\n",
       "    </tr>\n",
       "    <tr>\n",
       "      <th>2</th>\n",
       "      <td>10005044</td>\n",
       "      <td>UN8OFAXyr5XUNBdSwhgwXw==</td>\n",
       "      <td>562634023038</td>\n",
       "      <td>11521256</td>\n",
       "      <td>2015-08-07</td>\n",
       "      <td>2015-10-06</td>\n",
       "      <td>0.306450</td>\n",
       "      <td>0</td>\n",
       "    </tr>\n",
       "    <tr>\n",
       "      <th>3</th>\n",
       "      <td>10007037</td>\n",
       "      <td>NaN</td>\n",
       "      <td>551402823926</td>\n",
       "      <td>202663427</td>\n",
       "      <td>2015-08-16</td>\n",
       "      <td>2015-10-15</td>\n",
       "      <td>0.747317</td>\n",
       "      <td>1</td>\n",
       "    </tr>\n",
       "    <tr>\n",
       "      <th>4</th>\n",
       "      <td>10009571</td>\n",
       "      <td>RXrYkp9VO5HVhutiFtV6lU9WhNM9oR5n,99SOpKG2ldDUN...</td>\n",
       "      <td>NaN</td>\n",
       "      <td>58982929</td>\n",
       "      <td>2015-08-19</td>\n",
       "      <td>2015-10-18</td>\n",
       "      <td>0.404469</td>\n",
       "      <td>1</td>\n",
       "    </tr>\n",
       "  </tbody>\n",
       "</table>\n",
       "</div>"
      ],
      "text/plain": [
       "       cuid                                             emails         okids  \\\n",
       "0  10002014                   HvVnT8/3LQmkYmuPwTbCNoFZ5jAGYw5E           NaN   \n",
       "1  10004696                                                NaN  573569434121   \n",
       "2  10005044                           UN8OFAXyr5XUNBdSwhgwXw==  562634023038   \n",
       "3  10007037                                                NaN  551402823926   \n",
       "4  10009571  RXrYkp9VO5HVhutiFtV6lU9WhNM9oR5n,99SOpKG2ldDUN...           NaN   \n",
       "\n",
       "       vkids   other_dt   retro_dt       age  sex  \n",
       "0     600666 2015-07-23 2015-09-21  0.280299    1  \n",
       "1        NaN 2015-07-12 2015-09-10  0.432597    1  \n",
       "2   11521256 2015-08-07 2015-10-06  0.306450    0  \n",
       "3  202663427 2015-08-16 2015-10-15  0.747317    1  \n",
       "4   58982929 2015-08-19 2015-10-18  0.404469    1  "
      ]
     },
     "execution_count": 12,
     "metadata": {},
     "output_type": "execute_result"
    }
   ],
   "source": [
    "ts_parser = lambda ts: dt.datetime.strptime(ts, \"%Y%m%d\")\n",
    "df1 = pd.read_csv(\n",
    "    IN_PATH, sep=\"\\t\", \n",
    "    header=None, names=['cuid', 'emails', 'okids', 'vkids', 'other_dt', 'retro_dt', 'age', 'sex'],\n",
    "    converters={'retro_dt': ts_parser, 'other_dt': ts_parser},\n",
    "    dtype={\"okids\": str, \"vkids\": str}\n",
    ")\n",
    "print df1[\"retro_dt\"].min()\n",
    "df1.head()"
   ]
  },
  {
   "cell_type": "code",
   "execution_count": 7,
   "metadata": {
    "collapsed": false
   },
   "outputs": [
    {
     "data": {
      "image/png": "[encoded data removed]",
      "text/plain": [
       "<matplotlib.figure.Figure at 0x1106784d0>"
      ]
     },
     "metadata": {},
     "output_type": "display_data"
    }
   ],
   "source": [
    "pl.figure(figsize=(20, 5))\n",
    "df1['retro_dt'].hist(bins=100)\n",
    "pl.show()"
   ]
  },
  {
   "cell_type": "code",
   "execution_count": 8,
   "metadata": {
    "collapsed": true
   },
   "outputs": [],
   "source": [
    "USER_PATTERN = '{\"vid\":\"%s\",\"okid\":%s,\"email\":%s,\"vkid\":%s,\"category\":{\"int\":%d},\"start\":{\"long\":%d},\"end\":{\"long\":%d}}'\n",
    "STRING_PATTERN = '{\"string\":\"%s\"}'\n",
    "MONTH_SECONDS = 31 * 24 * 60 * 60"
   ]
  },
  {
   "cell_type": "code",
   "execution_count": 9,
   "metadata": {
    "collapsed": false
   },
   "outputs": [],
   "source": [
    "with open(OUT_PATH, \"w\") as out_file:\n",
    "    for i, row in df1.iterrows():\n",
    "        end_ts = int(row[\"retro_dt\"].strftime(\"%s\"))\n",
    "        start_ts = end_ts - MONTH_SECONDS        \n",
    "        \n",
    "        emails = row[\"emails\"].split(\",\") if pd.notnull(row[\"emails\"]) else [\"\"]\n",
    "        okids = row[\"okids\"].split(\",\") if pd.notnull(row[\"okids\"]) else [\"\"]\n",
    "        vkids = row[\"vkids\"].split(\",\") if pd.notnull(row[\"vkids\"]) else [\"\"]\n",
    "        \n",
    "        for email in emails:\n",
    "            for okid in okids:\n",
    "                for vkid in vkids:\n",
    "                    em = STRING_PATTERN % email if email else \"null\"\n",
    "                    ok = STRING_PATTERN % okid if okid else \"null\"\n",
    "                    vk = STRING_PATTERN % vkid if vkid else \"null\"\n",
    "                    print >> out_file, USER_PATTERN % (\"\", ok, em, vk, 1, start_ts, end_ts)"
   ]
  },
  {
   "cell_type": "code",
   "execution_count": 11,
   "metadata": {
    "collapsed": false
   },
   "outputs": [
    {
     "name": "stdout",
     "output_type": "stream",
     "text": [
      "10002014\tHvVnT8/3LQmkYmuPwTbCNoFZ5jAGYw5E\t\t600666\t20150723\t20150921\t0.280299\t1.00\n",
      "10004696\t\t573569434121\t\t20150712\t20150910\t0.432597\t1.00\n",
      "10005044\tUN8OFAXyr5XUNBdSwhgwXw==\t562634023038\t11521256\t20150807\t20151006\t0.306450\t0.00\n",
      "10007037\t\t551402823926\t202663427\t20150816\t20151015\t0.747317\t1.00\n",
      "10009571\tRXrYkp9VO5HVhutiFtV6lU9WhNM9oR5n,99SOpKG2ldDUNBdSwhgwXw==\t\t58982929\t20150819\t20151018\t0.404469\t1.00\n",
      "10010925\tZznj1JuFpqyLm7aODoRcrk9WhNM9oR5n\t165129391446\t23423678\t20150809\t20151008\t0.370145\t0.00\n",
      "10011668\t\t546522875917\t\t20150718\t20150916\t0.559573\t1.00\n",
      "10013169\t\t\t186686954\t20150709\t20150907\t0.614144\t1.00\n",
      "10016488\t\t185029211903\t23793394\t20150815\t20151014\t0.268247\t1.00\n",
      "10022571\t\t166192176340\t\t20150730\t20150928\t0.381196\t1.00\n",
      "{\"vid\":\"\",\"okid\":null,\"email\":{\"string\":\"HvVnT8/3LQmkYmuPwTbCNoFZ5jAGYw5E\"},\"vkid\":{\"string\":\"600666\"},\"category\":{\"int\":1},\"start\":{\"long\":1440104400},\"end\":{\"long\":1442782800}}\n",
      "{\"vid\":\"\",\"okid\":{\"string\":\"573569434121\"},\"email\":null,\"vkid\":null,\"category\":{\"int\":1},\"start\":{\"long\":1439154000},\"end\":{\"long\":1441832400}}\n",
      "{\"vid\":\"\",\"okid\":{\"string\":\"562634023038\"},\"email\":{\"string\":\"UN8OFAXyr5XUNBdSwhgwXw==\"},\"vkid\":{\"string\":\"11521256\"},\"category\":{\"int\":1},\"start\":{\"long\":1441400400},\"end\":{\"long\":1444078800}}\n",
      "{\"vid\":\"\",\"okid\":{\"string\":\"551402823926\"},\"email\":null,\"vkid\":{\"string\":\"202663427\"},\"category\":{\"int\":1},\"start\":{\"long\":1442178000},\"end\":{\"long\":1444856400}}\n",
      "{\"vid\":\"\",\"okid\":null,\"email\":{\"string\":\"RXrYkp9VO5HVhutiFtV6lU9WhNM9oR5n\"},\"vkid\":{\"string\":\"58982929\"},\"category\":{\"int\":1},\"start\":{\"long\":1442437200},\"end\":{\"long\":1445115600}}\n",
      "{\"vid\":\"\",\"okid\":null,\"email\":{\"string\":\"99SOpKG2ldDUNBdSwhgwXw==\"},\"vkid\":{\"string\":\"58982929\"},\"category\":{\"int\":1},\"start\":{\"long\":1442437200},\"end\":{\"long\":1445115600}}\n",
      "{\"vid\":\"\",\"okid\":{\"string\":\"165129391446\"},\"email\":{\"string\":\"Zznj1JuFpqyLm7aODoRcrk9WhNM9oR5n\"},\"vkid\":{\"string\":\"23423678\"},\"category\":{\"int\":1},\"start\":{\"long\":1441573200},\"end\":{\"long\":1444251600}}\n",
      "{\"vid\":\"\",\"okid\":{\"string\":\"546522875917\"},\"email\":null,\"vkid\":null,\"category\":{\"int\":1},\"start\":{\"long\":1439672400},\"end\":{\"long\":1442350800}}\n",
      "{\"vid\":\"\",\"okid\":null,\"email\":null,\"vkid\":{\"string\":\"186686954\"},\"category\":{\"int\":1},\"start\":{\"long\":1438894800},\"end\":{\"long\":1441573200}}\n",
      "{\"vid\":\"\",\"okid\":{\"string\":\"185029211903\"},\"email\":null,\"vkid\":{\"string\":\"23793394\"},\"category\":{\"int\":1},\"start\":{\"long\":1442091600},\"end\":{\"long\":1444770000}}\n"
     ]
    }
   ],
   "source": [
    "%%bash\n",
    "head /Users/anokhin/Desktop/vtb24.txt\n",
    "head /Users/anokhin/Desktop/vtb24.la.jss"
   ]
  },
  {
   "cell_type": "code",
   "execution_count": 14,
   "metadata": {
    "collapsed": false
   },
   "outputs": [],
   "source": [
    "USER_PATTERN = '{\"vid\":\"%s\",\"okid\":%s,\"email\":%s,\"vkid\":null,\"category\":{\"int\":%d},\"start\":{\"long\":%d},\"end\":{\"long\":%d}}'\n",
    "with open(\"/Users/anokhin/Desktop/active_emails.la.jss\", \"w\") as out_file:\n",
    "    with open(\"/Users/anokhin/Desktop/active_emails\") as ae:\n",
    "        for line in ae:\n",
    "            print >> out_file, USER_PATTERN % (\"\", \"null\", STRING_PATTERN % line.strip(), 2, 1438376400, 1446325200)"
   ]
  },
  {
   "cell_type": "code",
   "execution_count": 15,
   "metadata": {
    "collapsed": false
   },
   "outputs": [
    {
     "name": "stdout",
     "output_type": "stream",
     "text": [
      "{\"vid\":\"\",\"okid\":null,\"email\":{\"string\":\"0005VV5bqiN9oAJnsMvgdg==\"},\"vkid\":null,\"category\":{\"int\":2},\"start\":{\"long\":1438376400},\"end\":{\"long\":1446325200}}\n",
      "{\"vid\":\"\",\"okid\":null,\"email\":{\"string\":\"000COj9vqyBR/Lpbr/DkTaMQBF2FyZE1\"},\"vkid\":null,\"category\":{\"int\":2},\"start\":{\"long\":1438376400},\"end\":{\"long\":1446325200}}\n",
      "{\"vid\":\"\",\"okid\":null,\"email\":{\"string\":\"000COj9vqyCPD1BJq3VfZU9WhNM9oR5n\"},\"vkid\":null,\"category\":{\"int\":2},\"start\":{\"long\":1438376400},\"end\":{\"long\":1446325200}}\n",
      "{\"vid\":\"\",\"okid\":null,\"email\":{\"string\":\"000L+gxPs3Fy7WA4AcTPUYFZ5jAGYw5E\"},\"vkid\":null,\"category\":{\"int\":2},\"start\":{\"long\":1438376400},\"end\":{\"long\":1446325200}}\n",
      "{\"vid\":\"\",\"okid\":null,\"email\":{\"string\":\"0014OAhSp94szF1+n0AMxoFZ5jAGYw5E\"},\"vkid\":null,\"category\":{\"int\":2},\"start\":{\"long\":1438376400},\"end\":{\"long\":1446325200}}\n",
      "{\"vid\":\"\",\"okid\":null,\"email\":{\"string\":\"001DU6rzm2HUNBdSwhgwXw==\"},\"vkid\":null,\"category\":{\"int\":2},\"start\":{\"long\":1438376400},\"end\":{\"long\":1446325200}}\n",
      "{\"vid\":\"\",\"okid\":null,\"email\":{\"string\":\"001HVnCVM0oin5JzKuGQKA==\"},\"vkid\":null,\"category\":{\"int\":2},\"start\":{\"long\":1438376400},\"end\":{\"long\":1446325200}}\n",
      "{\"vid\":\"\",\"okid\":null,\"email\":{\"string\":\"001IxDY5NAsa/jsaKy7smA==\"},\"vkid\":null,\"category\":{\"int\":2},\"start\":{\"long\":1438376400},\"end\":{\"long\":1446325200}}\n",
      "{\"vid\":\"\",\"okid\":null,\"email\":{\"string\":\"001KnYv8VKNPVoTTPaEeZw==\"},\"vkid\":null,\"category\":{\"int\":2},\"start\":{\"long\":1438376400},\"end\":{\"long\":1446325200}}\n",
      "{\"vid\":\"\",\"okid\":null,\"email\":{\"string\":\"0022yAjBlLOeuCVGkolwj4FZ5jAGYw5E\"},\"vkid\":null,\"category\":{\"int\":2},\"start\":{\"long\":1438376400},\"end\":{\"long\":1446325200}}\n"
     ]
    }
   ],
   "source": [
    "%%bash\n",
    "\n",
    "head /Users/anokhin/Desktop/active_emails.la.jss"
   ]
  },
  {
   "cell_type": "code",
   "execution_count": null,
   "metadata": {
    "collapsed": true
   },
   "outputs": [],
   "source": []
  }
 ],
 "metadata": {
  "kernelspec": {
   "display_name": "Python 2",
   "language": "python",
   "name": "python2"
  },
  "language_info": {
   "codemirror_mode": {
    "name": "ipython",
    "version": 2
   },
   "file_extension": ".py",
   "mimetype": "text/x-python",
   "name": "python",
   "nbconvert_exporter": "python",
   "pygments_lexer": "ipython2",
   "version": "2.7.9"
  }
 },
 "nbformat": 4,
 "nbformat_minor": 0
}
