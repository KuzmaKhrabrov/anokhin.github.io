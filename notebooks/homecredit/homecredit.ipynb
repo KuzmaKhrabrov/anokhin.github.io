{
 "cells": [
  {
   "cell_type": "code",
   "execution_count": 9,
   "metadata": {
    "collapsed": false
   },
   "outputs": [
    {
     "name": "stdout",
     "output_type": "stream",
     "text": [
      "Populating the interactive namespace from numpy and matplotlib\n"
     ]
    },
    {
     "name": "stderr",
     "output_type": "stream",
     "text": [
      "/usr/local/lib/python2.7/site-packages/matplotlib/__init__.py:872: UserWarning: axes.color_cycle is deprecated and replaced with axes.prop_cycle; please use the latter.\n",
      "  warnings.warn(self.msg_depr % (key, alt_key))\n"
     ]
    }
   ],
   "source": [
    "import pandas as pd\n",
    "import datetime as dt\n",
    "import numpy as np\n",
    "\n",
    "import pylab as pl\n",
    "import seaborn as sns\n",
    "\n",
    "%pylab inline"
   ]
  },
  {
   "cell_type": "code",
   "execution_count": 10,
   "metadata": {
    "collapsed": true
   },
   "outputs": [],
   "source": [
    "IN_PATH = '/Users/anokhin/Desktop/hmc.txt'\n",
    "OUT_PATH = '/Users/anokhin/Desktop/hmc.la.jss'"
   ]
  },
  {
   "cell_type": "code",
   "execution_count": 11,
   "metadata": {
    "collapsed": false
   },
   "outputs": [
    {
     "name": "stdout",
     "output_type": "stream",
     "text": [
      "2015-11-01 00:00:00\n"
     ]
    },
    {
     "data": {
      "text/html": [
       "<div>\n",
       "<table border=\"1\" class=\"dataframe\">\n",
       "  <thead>\n",
       "    <tr style=\"text-align: right;\">\n",
       "      <th></th>\n",
       "      <th>cuid</th>\n",
       "      <th>emails</th>\n",
       "      <th>okids</th>\n",
       "      <th>vkids</th>\n",
       "      <th>other_dt</th>\n",
       "      <th>retro_dt</th>\n",
       "      <th>age</th>\n",
       "      <th>sex</th>\n",
       "    </tr>\n",
       "  </thead>\n",
       "  <tbody>\n",
       "    <tr>\n",
       "      <th>0</th>\n",
       "      <td>12814383</td>\n",
       "      <td>NaN</td>\n",
       "      <td>476098459883</td>\n",
       "      <td>89428298</td>\n",
       "      <td>2015-11-01</td>\n",
       "      <td>2015-12-31</td>\n",
       "      <td>0.267833</td>\n",
       "      <td>0</td>\n",
       "    </tr>\n",
       "    <tr>\n",
       "      <th>1</th>\n",
       "      <td>12815295</td>\n",
       "      <td>N23tR0U3XbEin5JzKuGQKA==</td>\n",
       "      <td>NaN</td>\n",
       "      <td>NaN</td>\n",
       "      <td>2015-11-01</td>\n",
       "      <td>2015-12-31</td>\n",
       "      <td>0.610265</td>\n",
       "      <td>0</td>\n",
       "    </tr>\n",
       "    <tr>\n",
       "      <th>2</th>\n",
       "      <td>13303284</td>\n",
       "      <td>NaN</td>\n",
       "      <td>465082598247</td>\n",
       "      <td>NaN</td>\n",
       "      <td>2015-09-02</td>\n",
       "      <td>2015-11-01</td>\n",
       "      <td>0.606655</td>\n",
       "      <td>0</td>\n",
       "    </tr>\n",
       "    <tr>\n",
       "      <th>3</th>\n",
       "      <td>13303286</td>\n",
       "      <td>b+mdLYlLe5OSRsObJpC49IFZ5jAGYw5E</td>\n",
       "      <td>473059158253</td>\n",
       "      <td>90066070</td>\n",
       "      <td>2015-09-02</td>\n",
       "      <td>2015-11-01</td>\n",
       "      <td>0.214993</td>\n",
       "      <td>1</td>\n",
       "    </tr>\n",
       "    <tr>\n",
       "      <th>4</th>\n",
       "      <td>13303291</td>\n",
       "      <td>Wzlsi11u0tR/jXICnxPoAKMQBF2FyZE1</td>\n",
       "      <td>573322029087,571518239702</td>\n",
       "      <td>NaN</td>\n",
       "      <td>2015-09-02</td>\n",
       "      <td>2015-11-01</td>\n",
       "      <td>0.570502</td>\n",
       "      <td>0</td>\n",
       "    </tr>\n",
       "  </tbody>\n",
       "</table>\n",
       "</div>"
      ],
      "text/plain": [
       "       cuid                            emails                      okids  \\\n",
       "0  12814383                               NaN               476098459883   \n",
       "1  12815295          N23tR0U3XbEin5JzKuGQKA==                        NaN   \n",
       "2  13303284                               NaN               465082598247   \n",
       "3  13303286  b+mdLYlLe5OSRsObJpC49IFZ5jAGYw5E               473059158253   \n",
       "4  13303291  Wzlsi11u0tR/jXICnxPoAKMQBF2FyZE1  573322029087,571518239702   \n",
       "\n",
       "      vkids   other_dt   retro_dt       age  sex  \n",
       "0  89428298 2015-11-01 2015-12-31  0.267833    0  \n",
       "1       NaN 2015-11-01 2015-12-31  0.610265    0  \n",
       "2       NaN 2015-09-02 2015-11-01  0.606655    0  \n",
       "3  90066070 2015-09-02 2015-11-01  0.214993    1  \n",
       "4       NaN 2015-09-02 2015-11-01  0.570502    0  "
      ]
     },
     "execution_count": 11,
     "metadata": {},
     "output_type": "execute_result"
    }
   ],
   "source": [
    "ts_parser = lambda ts: dt.datetime.strptime(ts, \"%Y%m%d\")\n",
    "df1 = pd.read_csv(\n",
    "    IN_PATH, sep=\"\\t\", \n",
    "    header=None, names=['cuid', 'emails', 'okids', 'vkids', 'other_dt', 'retro_dt', 'age', 'sex'],\n",
    "    converters={'retro_dt': ts_parser, 'other_dt': ts_parser},\n",
    "    dtype={\"okids\": str, \"vkids\": str}\n",
    ")\n",
    "print df1[\"retro_dt\"].min()\n",
    "df1.head()"
   ]
  },
  {
   "cell_type": "code",
   "execution_count": 13,
   "metadata": {
    "collapsed": false
   },
   "outputs": [
    {
     "name": "stdout",
     "output_type": "stream",
     "text": [
      "(97164, 8)\n"
     ]
    },
    {
     "data": {
      "image/png": "[encoded data removed]",
      "text/plain": [
       "<matplotlib.figure.Figure at 0x108c49450>"
      ]
     },
     "metadata": {},
     "output_type": "display_data"
    }
   ],
   "source": [
    "print df1.shape\n",
    "pl.figure(figsize=(20, 5))\n",
    "df1['retro_dt'].hist(bins=100)\n",
    "pl.show()"
   ]
  },
  {
   "cell_type": "code",
   "execution_count": 16,
   "metadata": {
    "collapsed": true
   },
   "outputs": [],
   "source": [
    "USER_PATTERN = '{\"vid\":\"%s\",\"okid\":%s,\"email\":%s,\"vkid\":%s,\"category\":{\"int\":%d},\"start\":{\"long\":%d},\"end\":{\"long\":%d}}'\n",
    "STRING_PATTERN = '{\"string\":\"%s\"}'\n",
    "MONTH_SECONDS = 31 * 24 * 60 * 60"
   ]
  },
  {
   "cell_type": "code",
   "execution_count": 17,
   "metadata": {
    "collapsed": false
   },
   "outputs": [],
   "source": [
    "with open(OUT_PATH, \"w\") as out_file:\n",
    "    for i, row in df1.iterrows():\n",
    "        end_ts = int(row[\"retro_dt\"].strftime(\"%s\"))\n",
    "        start_ts = end_ts - MONTH_SECONDS        \n",
    "        \n",
    "        emails = row[\"emails\"].split(\",\") if pd.notnull(row[\"emails\"]) else [\"\"]\n",
    "        okids = row[\"okids\"].split(\",\") if pd.notnull(row[\"okids\"]) else [\"\"]\n",
    "        vkids = row[\"vkids\"].split(\",\") if pd.notnull(row[\"vkids\"]) else [\"\"]\n",
    "        \n",
    "        for email in emails:\n",
    "            for okid in okids:\n",
    "                for vkid in vkids:\n",
    "                    em = STRING_PATTERN % email if email else \"null\"\n",
    "                    ok = STRING_PATTERN % okid if okid else \"null\"\n",
    "                    vk = STRING_PATTERN % vkid if vkid else \"null\"\n",
    "                    print >> out_file, USER_PATTERN % (\"\", ok, em, vk, 1, start_ts, end_ts)"
   ]
  },
  {
   "cell_type": "code",
   "execution_count": 18,
   "metadata": {
    "collapsed": false
   },
   "outputs": [],
   "source": [
    "# USER_PATTERN = '{\"vid\":\"%s\",\"okid\":%s,\"email\":%s,\"vkid\":null,\"category\":{\"int\":%d},\"start\":{\"long\":%d},\"end\":{\"long\":%d}}'\n",
    "# with open(\"active_emails.jss\", \"w\") as out_file:\n",
    "#     with open(\"active_emails\") as ae:\n",
    "#         for line in ae:\n",
    "#             print >> out_file, USER_PATTERN % (\"\", \"null\", STRING_PATTERN % line.strip(), 2, 1435708800, 1446336000)"
   ]
  },
  {
   "cell_type": "code",
   "execution_count": 19,
   "metadata": {
    "collapsed": false
   },
   "outputs": [
    {
     "name": "stdout",
     "output_type": "stream",
     "text": [
      "12814383\t\t476098459883\t89428298\t20151101\t20151231\t0.267833\t0.00\n",
      "12815295\tN23tR0U3XbEin5JzKuGQKA==\t\t\t20151101\t20151231\t0.610265\t0.00\n",
      "13303284\t\t465082598247\t\t20150902\t20151101\t0.606655\t0.00\n",
      "13303286\tb+mdLYlLe5OSRsObJpC49IFZ5jAGYw5E\t473059158253\t90066070\t20150902\t20151101\t0.214993\t1.00\n",
      "13303291\tWzlsi11u0tR/jXICnxPoAKMQBF2FyZE1\t573322029087,571518239702\t\t20150902\t20151101\t0.570502\t0.00\n",
      "13303315\tow3dve31Q0qYe+57H3VoTCIR8Jkh5HsV\t\t\t20150902\t20151101\t0.226190\t1.00\n",
      "13303343\titED97i7/BAoFWHdH59TqaMQBF2FyZE1\t281309792837\t26969391\t20150902\t20151101\t0.246487\t0.00\n",
      "13303351\tKndRC40WvISEHMkYfWzCSg==,5jXu+rcpwWpBQAItoSjXYOTVEQ6hCvVL\t\t10370432\t20150902\t20151101\t0.628196\t1.00\n",
      "13303372\t\t454284163657\t108844038\t20150902\t20151101\t0.258294\t1.00\n",
      "13303377\t\t480188308011,473842891018\t\t20150902\t20151101\t0.523810\t1.00\n",
      "{\"vid\":\"\",\"okid\":{\"string\":\"476098459883\"},\"email\":null,\"vkid\":{\"string\":\"89428298\"},\"category\":{\"int\":1},\"start\":{\"long\":1448830800},\"end\":{\"long\":1451509200}}\n",
      "{\"vid\":\"\",\"okid\":null,\"email\":{\"string\":\"N23tR0U3XbEin5JzKuGQKA==\"},\"vkid\":null,\"category\":{\"int\":1},\"start\":{\"long\":1448830800},\"end\":{\"long\":1451509200}}\n",
      "{\"vid\":\"\",\"okid\":{\"string\":\"465082598247\"},\"email\":null,\"vkid\":null,\"category\":{\"int\":1},\"start\":{\"long\":1443646800},\"end\":{\"long\":1446325200}}\n",
      "{\"vid\":\"\",\"okid\":{\"string\":\"473059158253\"},\"email\":{\"string\":\"b+mdLYlLe5OSRsObJpC49IFZ5jAGYw5E\"},\"vkid\":{\"string\":\"90066070\"},\"category\":{\"int\":1},\"start\":{\"long\":1443646800},\"end\":{\"long\":1446325200}}\n",
      "{\"vid\":\"\",\"okid\":{\"string\":\"573322029087\"},\"email\":{\"string\":\"Wzlsi11u0tR/jXICnxPoAKMQBF2FyZE1\"},\"vkid\":null,\"category\":{\"int\":1},\"start\":{\"long\":1443646800},\"end\":{\"long\":1446325200}}\n",
      "{\"vid\":\"\",\"okid\":{\"string\":\"571518239702\"},\"email\":{\"string\":\"Wzlsi11u0tR/jXICnxPoAKMQBF2FyZE1\"},\"vkid\":null,\"category\":{\"int\":1},\"start\":{\"long\":1443646800},\"end\":{\"long\":1446325200}}\n",
      "{\"vid\":\"\",\"okid\":null,\"email\":{\"string\":\"ow3dve31Q0qYe+57H3VoTCIR8Jkh5HsV\"},\"vkid\":null,\"category\":{\"int\":1},\"start\":{\"long\":1443646800},\"end\":{\"long\":1446325200}}\n",
      "{\"vid\":\"\",\"okid\":{\"string\":\"281309792837\"},\"email\":{\"string\":\"itED97i7/BAoFWHdH59TqaMQBF2FyZE1\"},\"vkid\":{\"string\":\"26969391\"},\"category\":{\"int\":1},\"start\":{\"long\":1443646800},\"end\":{\"long\":1446325200}}\n",
      "{\"vid\":\"\",\"okid\":null,\"email\":{\"string\":\"KndRC40WvISEHMkYfWzCSg==\"},\"vkid\":{\"string\":\"10370432\"},\"category\":{\"int\":1},\"start\":{\"long\":1443646800},\"end\":{\"long\":1446325200}}\n",
      "{\"vid\":\"\",\"okid\":null,\"email\":{\"string\":\"5jXu+rcpwWpBQAItoSjXYOTVEQ6hCvVL\"},\"vkid\":{\"string\":\"10370432\"},\"category\":{\"int\":1},\"start\":{\"long\":1443646800},\"end\":{\"long\":1446325200}}\n"
     ]
    }
   ],
   "source": [
    "%%bash\n",
    "head /Users/anokhin/Desktop/hmc.txt\n",
    "head /Users/anokhin/Desktop/hmc.la.jss"
   ]
  },
  {
   "cell_type": "code",
   "execution_count": null,
   "metadata": {
    "collapsed": true
   },
   "outputs": [],
   "source": []
  }
 ],
 "metadata": {
  "kernelspec": {
   "display_name": "Python 2",
   "language": "python",
   "name": "python2"
  },
  "language_info": {
   "codemirror_mode": {
    "name": "ipython",
    "version": 2
   },
   "file_extension": ".py",
   "mimetype": "text/x-python",
   "name": "python",
   "nbconvert_exporter": "python",
   "pygments_lexer": "ipython2",
   "version": "2.7.9"
  }
 },
 "nbformat": 4,
 "nbformat_minor": 0
}
