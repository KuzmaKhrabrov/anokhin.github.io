{
 "cells": [
  {
   "cell_type": "code",
   "execution_count": 1,
   "metadata": {
    "collapsed": false
   },
   "outputs": [
    {
     "name": "stdout",
     "output_type": "stream",
     "text": [
      "Populating the interactive namespace from numpy and matplotlib\n"
     ]
    }
   ],
   "source": [
    "import networkx as nx\n",
    "import pprint as pp\n",
    "import json\n",
    "import pylab as pl\n",
    "import seaborn as sns\n",
    "\n",
    "%pylab inline"
   ]
  },
  {
   "cell_type": "code",
   "execution_count": 3,
   "metadata": {
    "collapsed": false
   },
   "outputs": [
    {
     "name": "stdout",
     "output_type": "stream",
     "text": [
      "Found 64 non-trivial graphs\n"
     ]
    }
   ],
   "source": [
    "graphs = []\n",
    "\n",
    "with open(\"/Users/anokhin/Desktop/graphs.txt\", \"r\") as gf:\n",
    "    for i, line in enumerate(gf):\n",
    "        graph = nx.MultiGraph()\n",
    "        \n",
    "        js = json.loads(line)\n",
    "        for ed in js[\"value\"].get(\"edges\", []):                \n",
    "            v1 = ed.get(\"vertex1\")\n",
    "            if v1 is None:\n",
    "                raise ValueError(\"vertex1 not found JSON!\")\n",
    "            if v1 not in graph:\n",
    "                graph.add_node(v1[\"uid\"], uid_type=v1[\"uid_type\"])           \n",
    "            \n",
    "            v2 = ed.get(\"vertex2\")\n",
    "            if v2 is None:\n",
    "                raise ValueError(\"vertex2 not found JSON!\")\n",
    "            if v2 not in graph:\n",
    "                graph.add_node(v2[\"uid\"], uid_type=v2[\"uid_type\"])\n",
    "                \n",
    "            if v1 == v2:\n",
    "                current_hit_count = graph.node.get(v1[\"uid\"]).get('hit_count', 0)\n",
    "                graph.add_node(\n",
    "                    v1[\"uid\"], \n",
    "                    uid_type=v2[\"uid_type\"], \n",
    "                    hit_count=current_hit_count+ed.get(\"hit_count\", {}).get(\"int\", 0))\n",
    "            else:\n",
    "                graph.add_edge(\n",
    "                    v1[\"uid\"], \n",
    "                    v2[\"uid\"], \n",
    "                    gender = ed.get(\"gender\").get(\"boolean\") if ed.get(\"gender\") is not None else \"-\", \n",
    "                    age = ed.get(\"age\").get(\"int\") if ed.get(\"age\") is not None else \"-\", \n",
    "                    hit_count = ed.get(\"hit_count\").get(\"int\") if ed.get(\"hit_count\") is not None else \"-\"\n",
    "                )\n",
    "        \n",
    "        if len(graph.nodes()) > 10:\n",
    "            graphs.append(graph)      \n",
    "                \n",
    "        if i >= 1000:\n",
    "            break\n",
    "            \n",
    "print \"Found %d non-trivial graphs\" % len(graphs)"
   ]
  },
  {
   "cell_type": "code",
   "execution_count": null,
   "metadata": {
    "collapsed": false
   },
   "outputs": [
    {
     "name": "stderr",
     "output_type": "stream",
     "text": [
      "/usr/local/lib/python2.7/site-packages/matplotlib/collections.py:650: FutureWarning: elementwise comparison failed; returning scalar instead, but in the future will perform elementwise comparison\n",
      "  if self._edgecolors_original != str('face'):\n",
      "/usr/local/lib/python2.7/site-packages/matplotlib/collections.py:590: FutureWarning: elementwise comparison failed; returning scalar instead, but in the future will perform elementwise comparison\n",
      "  if self._edgecolors == str('face'):\n"
     ]
    }
   ],
   "source": [
    "MAX_BAR_HEIGHT = 50\n",
    "BAR_WIDTH = 0.8\n",
    "\n",
    "for k, graph in enumerate(graphs):    \n",
    "    pl.figure(figsize=(20, 8))\n",
    "    \n",
    "    pl.subplot(1, 2, 1)    \n",
    "    \n",
    "    uid_colors = {'vid': '#9900CC', 'email': '#006600', 'okid': '#FF6600', 'vkid': '#0033CC'}\n",
    "    node_colors = [uid_colors[d['uid_type']] for n, d in graph.nodes(data=True)]\n",
    "    node_sizes = [20 + d.get('hit_count', 10) for n, d in graph.nodes(data=True)]\n",
    "    \n",
    "    gender_colors = {True: 'blue', False: 'red', '-': 'black'}\n",
    "    edge_colors = [gender_colors[d['gender']] for a, b, d in graph.edges(data=True)]    \n",
    "    edge_labels = dict(((a, b), str(d['age'])) for a, b, d in graph.edges(data=True))\n",
    "\n",
    "    pos = nx.spring_layout(graph, weight='hit_count', k=5, iterations=50)\n",
    "    nx.draw(graph, pos=pos, node_color=node_colors, edge_color=edge_colors, node_size=node_sizes)\n",
    "    nx.draw_networkx_edge_labels(graph, pos, edge_labels)\n",
    "#     nx.draw_networkx_labels(graph, dict((n, (p1*1.1, p2)) for n, (p1, p2) in pos.items()), dict((n, n) for n in graph.nodes()))\n",
    "    \n",
    "    pl.subplot(1, 2, 2)\n",
    "    \n",
    "    counts = [len(clique) for clique in nx.find_cliques(graph)]\n",
    "    bc = np.bincount(counts)    \n",
    "    pl.bar(np.arange(2, len(bc)) - BAR_WIDTH / 2, bc[2:], width=BAR_WIDTH)\n",
    "    for i, cnt in enumerate(bc):\n",
    "        if cnt > MAX_BAR_HEIGHT:\n",
    "            pl.annotate('+ %d' % (cnt - MAX_BAR_HEIGHT), xy=(i, MAX_BAR_HEIGHT - 3), color='r', size='x-large')\n",
    "    \n",
    "    pl.ylim(0, MAX_BAR_HEIGHT)\n",
    "    pl.xlim(1.5, max(5, len(bc)) - 0.5)\n",
    "    pl.xticks(range(2, max(4, len(bc))))\n",
    "\n",
    "    pl.savefig(\"img/graph_%s.png\" % k)\n",
    "#     nx.write_gexf(graph, \"img/graph_%s.gexf\" % k)"
   ]
  },
  {
   "cell_type": "code",
   "execution_count": null,
   "metadata": {
    "collapsed": false
   },
   "outputs": [],
   "source": [
    "g = nx.MultiGraph()\n",
    "for graph in graphs:\n",
    "    g = nx.compose(g, graph)\n",
    "    \n",
    "nx.write_gexf(g, \"img/all.gexf\")"
   ]
  },
  {
   "cell_type": "code",
   "execution_count": null,
   "metadata": {
    "collapsed": true
   },
   "outputs": [],
   "source": []
  }
 ],
 "metadata": {
  "kernelspec": {
   "display_name": "Python 2",
   "language": "python",
   "name": "python2"
  },
  "language_info": {
   "codemirror_mode": {
    "name": "ipython",
    "version": 2
   },
   "file_extension": ".py",
   "mimetype": "text/x-python",
   "name": "python",
   "nbconvert_exporter": "python",
   "pygments_lexer": "ipython2",
   "version": "2.7.9"
  }
 },
 "nbformat": 4,
 "nbformat_minor": 0
}
