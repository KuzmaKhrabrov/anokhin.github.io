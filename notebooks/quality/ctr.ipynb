{
 "cells": [
  {
   "cell_type": "code",
   "execution_count": 1,
   "metadata": {
    "collapsed": true
   },
   "outputs": [],
   "source": [
    "import pandas as pd"
   ]
  },
  {
   "cell_type": "code",
   "execution_count": 6,
   "metadata": {
    "collapsed": false
   },
   "outputs": [
    {
     "data": {
      "text/html": [
       "<div>\n",
       "<table border=\"1\" class=\"dataframe\">\n",
       "  <thead>\n",
       "    <tr style=\"text-align: right;\">\n",
       "      <th></th>\n",
       "      <th>clicks_random_email</th>\n",
       "      <th>clicks_random_okid</th>\n",
       "      <th>clicks_random_vid</th>\n",
       "      <th>clicks_random_vkid</th>\n",
       "      <th>clicks_regular_email</th>\n",
       "      <th>clicks_regular_okid</th>\n",
       "      <th>clicks_regular_vid</th>\n",
       "      <th>clicks_regular_vkid</th>\n",
       "      <th>displays_random_email</th>\n",
       "      <th>displays_random_okid</th>\n",
       "      <th>displays_random_vid</th>\n",
       "      <th>displays_random_vkid</th>\n",
       "      <th>displays_regular_email</th>\n",
       "      <th>displays_regular_okid</th>\n",
       "      <th>displays_regular_vid</th>\n",
       "      <th>displays_regular_vkid</th>\n",
       "    </tr>\n",
       "    <tr>\n",
       "      <th>campaign_id</th>\n",
       "      <th></th>\n",
       "      <th></th>\n",
       "      <th></th>\n",
       "      <th></th>\n",
       "      <th></th>\n",
       "      <th></th>\n",
       "      <th></th>\n",
       "      <th></th>\n",
       "      <th></th>\n",
       "      <th></th>\n",
       "      <th></th>\n",
       "      <th></th>\n",
       "      <th></th>\n",
       "      <th></th>\n",
       "      <th></th>\n",
       "      <th></th>\n",
       "    </tr>\n",
       "  </thead>\n",
       "  <tbody>\n",
       "    <tr>\n",
       "      <th>5478833</th>\n",
       "      <td>0</td>\n",
       "      <td>0</td>\n",
       "      <td>0</td>\n",
       "      <td>0</td>\n",
       "      <td>0</td>\n",
       "      <td>0</td>\n",
       "      <td>0</td>\n",
       "      <td>0</td>\n",
       "      <td>0</td>\n",
       "      <td>0</td>\n",
       "      <td>4</td>\n",
       "      <td>0</td>\n",
       "      <td>64</td>\n",
       "      <td>64</td>\n",
       "      <td>713</td>\n",
       "      <td>0</td>\n",
       "    </tr>\n",
       "    <tr>\n",
       "      <th>5478834</th>\n",
       "      <td>0</td>\n",
       "      <td>0</td>\n",
       "      <td>0</td>\n",
       "      <td>0</td>\n",
       "      <td>5</td>\n",
       "      <td>5</td>\n",
       "      <td>22</td>\n",
       "      <td>0</td>\n",
       "      <td>0</td>\n",
       "      <td>0</td>\n",
       "      <td>851</td>\n",
       "      <td>0</td>\n",
       "      <td>11110</td>\n",
       "      <td>11110</td>\n",
       "      <td>24620</td>\n",
       "      <td>0</td>\n",
       "    </tr>\n",
       "    <tr>\n",
       "      <th>5478835</th>\n",
       "      <td>0</td>\n",
       "      <td>0</td>\n",
       "      <td>2</td>\n",
       "      <td>0</td>\n",
       "      <td>4</td>\n",
       "      <td>4</td>\n",
       "      <td>66</td>\n",
       "      <td>0</td>\n",
       "      <td>182</td>\n",
       "      <td>182</td>\n",
       "      <td>3600</td>\n",
       "      <td>0</td>\n",
       "      <td>12275</td>\n",
       "      <td>12275</td>\n",
       "      <td>130129</td>\n",
       "      <td>0</td>\n",
       "    </tr>\n",
       "    <tr>\n",
       "      <th>5543578</th>\n",
       "      <td>0</td>\n",
       "      <td>0</td>\n",
       "      <td>0</td>\n",
       "      <td>0</td>\n",
       "      <td>0</td>\n",
       "      <td>0</td>\n",
       "      <td>1</td>\n",
       "      <td>0</td>\n",
       "      <td>0</td>\n",
       "      <td>0</td>\n",
       "      <td>31</td>\n",
       "      <td>0</td>\n",
       "      <td>228</td>\n",
       "      <td>228</td>\n",
       "      <td>1919</td>\n",
       "      <td>0</td>\n",
       "    </tr>\n",
       "    <tr>\n",
       "      <th>5543581</th>\n",
       "      <td>0</td>\n",
       "      <td>0</td>\n",
       "      <td>0</td>\n",
       "      <td>0</td>\n",
       "      <td>0</td>\n",
       "      <td>0</td>\n",
       "      <td>1</td>\n",
       "      <td>0</td>\n",
       "      <td>20</td>\n",
       "      <td>20</td>\n",
       "      <td>284</td>\n",
       "      <td>0</td>\n",
       "      <td>964</td>\n",
       "      <td>964</td>\n",
       "      <td>7447</td>\n",
       "      <td>0</td>\n",
       "    </tr>\n",
       "  </tbody>\n",
       "</table>\n",
       "</div>"
      ],
      "text/plain": [
       "             clicks_random_email  clicks_random_okid  clicks_random_vid  \\\n",
       "campaign_id                                                               \n",
       "5478833                        0                   0                  0   \n",
       "5478834                        0                   0                  0   \n",
       "5478835                        0                   0                  2   \n",
       "5543578                        0                   0                  0   \n",
       "5543581                        0                   0                  0   \n",
       "\n",
       "             clicks_random_vkid  clicks_regular_email  clicks_regular_okid  \\\n",
       "campaign_id                                                                  \n",
       "5478833                       0                     0                    0   \n",
       "5478834                       0                     5                    5   \n",
       "5478835                       0                     4                    4   \n",
       "5543578                       0                     0                    0   \n",
       "5543581                       0                     0                    0   \n",
       "\n",
       "             clicks_regular_vid  clicks_regular_vkid  displays_random_email  \\\n",
       "campaign_id                                                                   \n",
       "5478833                       0                    0                      0   \n",
       "5478834                      22                    0                      0   \n",
       "5478835                      66                    0                    182   \n",
       "5543578                       1                    0                      0   \n",
       "5543581                       1                    0                     20   \n",
       "\n",
       "             displays_random_okid  displays_random_vid  displays_random_vkid  \\\n",
       "campaign_id                                                                    \n",
       "5478833                         0                    4                     0   \n",
       "5478834                         0                  851                     0   \n",
       "5478835                       182                 3600                     0   \n",
       "5543578                         0                   31                     0   \n",
       "5543581                        20                  284                     0   \n",
       "\n",
       "             displays_regular_email  displays_regular_okid  \\\n",
       "campaign_id                                                  \n",
       "5478833                          64                     64   \n",
       "5478834                       11110                  11110   \n",
       "5478835                       12275                  12275   \n",
       "5543578                         228                    228   \n",
       "5543581                         964                    964   \n",
       "\n",
       "             displays_regular_vid  displays_regular_vkid  \n",
       "campaign_id                                               \n",
       "5478833                       713                      0  \n",
       "5478834                     24620                      0  \n",
       "5478835                    130129                      0  \n",
       "5543578                      1919                      0  \n",
       "5543581                      7447                      0  "
      ]
     },
     "execution_count": 6,
     "metadata": {},
     "output_type": "execute_result"
    }
   ],
   "source": [
    "df = pd.read_json('/Users/anokhin/Desktop/20160710-2016-07-19_report.json').set_index(\"campaign_id\")\n",
    "df.head()"
   ]
  },
  {
   "cell_type": "code",
   "execution_count": 24,
   "metadata": {
    "collapsed": false
   },
   "outputs": [
    {
     "data": {
      "text/html": [
       "<div>\n",
       "<table border=\"1\" class=\"dataframe\">\n",
       "  <thead>\n",
       "    <tr style=\"text-align: right;\">\n",
       "      <th></th>\n",
       "      <th>clicks_random_email</th>\n",
       "      <th>clicks_random_okid</th>\n",
       "      <th>clicks_random_vid</th>\n",
       "      <th>clicks_random_vkid</th>\n",
       "      <th>clicks_regular_email</th>\n",
       "      <th>clicks_regular_okid</th>\n",
       "      <th>clicks_regular_vid</th>\n",
       "      <th>clicks_regular_vkid</th>\n",
       "      <th>displays_random_email</th>\n",
       "      <th>displays_random_okid</th>\n",
       "      <th>displays_random_vid</th>\n",
       "      <th>displays_random_vkid</th>\n",
       "      <th>displays_regular_email</th>\n",
       "      <th>displays_regular_okid</th>\n",
       "      <th>displays_regular_vid</th>\n",
       "      <th>displays_regular_vkid</th>\n",
       "    </tr>\n",
       "  </thead>\n",
       "  <tbody>\n",
       "    <tr>\n",
       "      <th>count</th>\n",
       "      <td>85.000000</td>\n",
       "      <td>85.000000</td>\n",
       "      <td>85.000000</td>\n",
       "      <td>85.000000</td>\n",
       "      <td>85.000000</td>\n",
       "      <td>85.000000</td>\n",
       "      <td>85.000000</td>\n",
       "      <td>85.000000</td>\n",
       "      <td>85.000000</td>\n",
       "      <td>85.000000</td>\n",
       "      <td>85.000000</td>\n",
       "      <td>85.000000</td>\n",
       "      <td>8.500000e+01</td>\n",
       "      <td>8.500000e+01</td>\n",
       "      <td>8.500000e+01</td>\n",
       "      <td>85.000000</td>\n",
       "    </tr>\n",
       "    <tr>\n",
       "      <th>mean</th>\n",
       "      <td>5.847059</td>\n",
       "      <td>5.847059</td>\n",
       "      <td>28.058824</td>\n",
       "      <td>0.835294</td>\n",
       "      <td>545.694118</td>\n",
       "      <td>545.694118</td>\n",
       "      <td>896.952941</td>\n",
       "      <td>81.035294</td>\n",
       "      <td>3785.729412</td>\n",
       "      <td>3785.729412</td>\n",
       "      <td>16669.400000</td>\n",
       "      <td>108.870588</td>\n",
       "      <td>3.247313e+05</td>\n",
       "      <td>3.247313e+05</td>\n",
       "      <td>5.407590e+05</td>\n",
       "      <td>10602.470588</td>\n",
       "    </tr>\n",
       "    <tr>\n",
       "      <th>std</th>\n",
       "      <td>12.497148</td>\n",
       "      <td>12.497148</td>\n",
       "      <td>54.857467</td>\n",
       "      <td>6.193020</td>\n",
       "      <td>1187.479554</td>\n",
       "      <td>1187.479554</td>\n",
       "      <td>1896.660122</td>\n",
       "      <td>624.715163</td>\n",
       "      <td>10960.132104</td>\n",
       "      <td>10960.132104</td>\n",
       "      <td>37724.587766</td>\n",
       "      <td>856.124070</td>\n",
       "      <td>1.009884e+06</td>\n",
       "      <td>1.009884e+06</td>\n",
       "      <td>1.219144e+06</td>\n",
       "      <td>83230.952989</td>\n",
       "    </tr>\n",
       "    <tr>\n",
       "      <th>min</th>\n",
       "      <td>0.000000</td>\n",
       "      <td>0.000000</td>\n",
       "      <td>0.000000</td>\n",
       "      <td>0.000000</td>\n",
       "      <td>0.000000</td>\n",
       "      <td>0.000000</td>\n",
       "      <td>0.000000</td>\n",
       "      <td>0.000000</td>\n",
       "      <td>0.000000</td>\n",
       "      <td>0.000000</td>\n",
       "      <td>0.000000</td>\n",
       "      <td>0.000000</td>\n",
       "      <td>0.000000e+00</td>\n",
       "      <td>0.000000e+00</td>\n",
       "      <td>1.000000e+00</td>\n",
       "      <td>0.000000</td>\n",
       "    </tr>\n",
       "    <tr>\n",
       "      <th>25%</th>\n",
       "      <td>0.000000</td>\n",
       "      <td>0.000000</td>\n",
       "      <td>3.000000</td>\n",
       "      <td>0.000000</td>\n",
       "      <td>38.000000</td>\n",
       "      <td>38.000000</td>\n",
       "      <td>83.000000</td>\n",
       "      <td>0.000000</td>\n",
       "      <td>131.000000</td>\n",
       "      <td>131.000000</td>\n",
       "      <td>401.000000</td>\n",
       "      <td>0.000000</td>\n",
       "      <td>1.111000e+04</td>\n",
       "      <td>1.111000e+04</td>\n",
       "      <td>1.199500e+04</td>\n",
       "      <td>0.000000</td>\n",
       "    </tr>\n",
       "    <tr>\n",
       "      <th>50%</th>\n",
       "      <td>1.000000</td>\n",
       "      <td>1.000000</td>\n",
       "      <td>11.000000</td>\n",
       "      <td>0.000000</td>\n",
       "      <td>131.000000</td>\n",
       "      <td>131.000000</td>\n",
       "      <td>304.000000</td>\n",
       "      <td>0.000000</td>\n",
       "      <td>716.000000</td>\n",
       "      <td>716.000000</td>\n",
       "      <td>3256.000000</td>\n",
       "      <td>0.000000</td>\n",
       "      <td>5.611500e+04</td>\n",
       "      <td>5.611500e+04</td>\n",
       "      <td>1.034380e+05</td>\n",
       "      <td>0.000000</td>\n",
       "    </tr>\n",
       "    <tr>\n",
       "      <th>75%</th>\n",
       "      <td>6.000000</td>\n",
       "      <td>6.000000</td>\n",
       "      <td>32.000000</td>\n",
       "      <td>0.000000</td>\n",
       "      <td>494.000000</td>\n",
       "      <td>494.000000</td>\n",
       "      <td>954.000000</td>\n",
       "      <td>0.000000</td>\n",
       "      <td>2834.000000</td>\n",
       "      <td>2834.000000</td>\n",
       "      <td>16876.000000</td>\n",
       "      <td>0.000000</td>\n",
       "      <td>2.570900e+05</td>\n",
       "      <td>2.570900e+05</td>\n",
       "      <td>5.172450e+05</td>\n",
       "      <td>0.000000</td>\n",
       "    </tr>\n",
       "    <tr>\n",
       "      <th>max</th>\n",
       "      <td>79.000000</td>\n",
       "      <td>79.000000</td>\n",
       "      <td>370.000000</td>\n",
       "      <td>55.000000</td>\n",
       "      <td>7740.000000</td>\n",
       "      <td>7740.000000</td>\n",
       "      <td>13239.000000</td>\n",
       "      <td>5637.000000</td>\n",
       "      <td>79322.000000</td>\n",
       "      <td>79322.000000</td>\n",
       "      <td>275721.000000</td>\n",
       "      <td>7770.000000</td>\n",
       "      <td>7.681846e+06</td>\n",
       "      <td>7.681846e+06</td>\n",
       "      <td>8.898002e+06</td>\n",
       "      <td>755044.000000</td>\n",
       "    </tr>\n",
       "  </tbody>\n",
       "</table>\n",
       "</div>"
      ],
      "text/plain": [
       "       clicks_random_email  clicks_random_okid  clicks_random_vid  \\\n",
       "count            85.000000           85.000000          85.000000   \n",
       "mean              5.847059            5.847059          28.058824   \n",
       "std              12.497148           12.497148          54.857467   \n",
       "min               0.000000            0.000000           0.000000   \n",
       "25%               0.000000            0.000000           3.000000   \n",
       "50%               1.000000            1.000000          11.000000   \n",
       "75%               6.000000            6.000000          32.000000   \n",
       "max              79.000000           79.000000         370.000000   \n",
       "\n",
       "       clicks_random_vkid  clicks_regular_email  clicks_regular_okid  \\\n",
       "count           85.000000             85.000000            85.000000   \n",
       "mean             0.835294            545.694118           545.694118   \n",
       "std              6.193020           1187.479554          1187.479554   \n",
       "min              0.000000              0.000000             0.000000   \n",
       "25%              0.000000             38.000000            38.000000   \n",
       "50%              0.000000            131.000000           131.000000   \n",
       "75%              0.000000            494.000000           494.000000   \n",
       "max             55.000000           7740.000000          7740.000000   \n",
       "\n",
       "       clicks_regular_vid  clicks_regular_vkid  displays_random_email  \\\n",
       "count           85.000000            85.000000              85.000000   \n",
       "mean           896.952941            81.035294            3785.729412   \n",
       "std           1896.660122           624.715163           10960.132104   \n",
       "min              0.000000             0.000000               0.000000   \n",
       "25%             83.000000             0.000000             131.000000   \n",
       "50%            304.000000             0.000000             716.000000   \n",
       "75%            954.000000             0.000000            2834.000000   \n",
       "max          13239.000000          5637.000000           79322.000000   \n",
       "\n",
       "       displays_random_okid  displays_random_vid  displays_random_vkid  \\\n",
       "count             85.000000            85.000000             85.000000   \n",
       "mean            3785.729412         16669.400000            108.870588   \n",
       "std            10960.132104         37724.587766            856.124070   \n",
       "min                0.000000             0.000000              0.000000   \n",
       "25%              131.000000           401.000000              0.000000   \n",
       "50%              716.000000          3256.000000              0.000000   \n",
       "75%             2834.000000         16876.000000              0.000000   \n",
       "max            79322.000000        275721.000000           7770.000000   \n",
       "\n",
       "       displays_regular_email  displays_regular_okid  displays_regular_vid  \\\n",
       "count            8.500000e+01           8.500000e+01          8.500000e+01   \n",
       "mean             3.247313e+05           3.247313e+05          5.407590e+05   \n",
       "std              1.009884e+06           1.009884e+06          1.219144e+06   \n",
       "min              0.000000e+00           0.000000e+00          1.000000e+00   \n",
       "25%              1.111000e+04           1.111000e+04          1.199500e+04   \n",
       "50%              5.611500e+04           5.611500e+04          1.034380e+05   \n",
       "75%              2.570900e+05           2.570900e+05          5.172450e+05   \n",
       "max              7.681846e+06           7.681846e+06          8.898002e+06   \n",
       "\n",
       "       displays_regular_vkid  \n",
       "count              85.000000  \n",
       "mean            10602.470588  \n",
       "std             83230.952989  \n",
       "min                 0.000000  \n",
       "25%                 0.000000  \n",
       "50%                 0.000000  \n",
       "75%                 0.000000  \n",
       "max            755044.000000  "
      ]
     },
     "execution_count": 24,
     "metadata": {},
     "output_type": "execute_result"
    }
   ],
   "source": [
    "df.describe()"
   ]
  },
  {
   "cell_type": "code",
   "execution_count": 7,
   "metadata": {
    "collapsed": false
   },
   "outputs": [
    {
     "data": {
      "text/plain": [
       "Index([u'clicks_random_email', u'clicks_random_okid', u'clicks_random_vid',\n",
       "       u'clicks_random_vkid', u'clicks_regular_email', u'clicks_regular_okid',\n",
       "       u'clicks_regular_vid', u'clicks_regular_vkid', u'displays_random_email',\n",
       "       u'displays_random_okid', u'displays_random_vid',\n",
       "       u'displays_random_vkid', u'displays_regular_email',\n",
       "       u'displays_regular_okid', u'displays_regular_vid',\n",
       "       u'displays_regular_vkid'],\n",
       "      dtype='object')"
      ]
     },
     "execution_count": 7,
     "metadata": {},
     "output_type": "execute_result"
    }
   ],
   "source": [
    "df.columns"
   ]
  },
  {
   "cell_type": "code",
   "execution_count": 16,
   "metadata": {
    "collapsed": false
   },
   "outputs": [
    {
     "data": {
      "image/png": "[encoded data removed]",
      "text/plain": [
       "<matplotlib.figure.Figure at 0x109f10350>"
      ]
     },
     "metadata": {},
     "output_type": "display_data"
    }
   ],
   "source": [
    "plt.figure(figsize=(10, 10))\n",
    "plt.boxplot(df.values[:,-4:])\n",
    "plt.ylim(0, 1000000)\n",
    "plt.show()"
   ]
  },
  {
   "cell_type": "code",
   "execution_count": 9,
   "metadata": {
    "collapsed": true
   },
   "outputs": [],
   "source": [
    "import matplotlib.pyplot as plt\n",
    "import numpy as np\n",
    "%matplotlib inline"
   ]
  },
  {
   "cell_type": "code",
   "execution_count": 44,
   "metadata": {
    "collapsed": false
   },
   "outputs": [],
   "source": [
    "x = df['clicks_random_vid'] / (df['displays_random_vid'] + 1e-6)\n",
    "y = df['clicks_regular_vid'] / (df['displays_regular_vid'] + 1e-6)"
   ]
  },
  {
   "cell_type": "code",
   "execution_count": 45,
   "metadata": {
    "collapsed": false
   },
   "outputs": [],
   "source": [
    "not_nan_ind = np.logical_and(~np.isnan(x), ~np.isnan(y))\n",
    "\n",
    "# xx = x[not_nan_ind]\n",
    "# yy = y[not_nan_ind]"
   ]
  },
  {
   "cell_type": "code",
   "execution_count": 47,
   "metadata": {
    "collapsed": false
   },
   "outputs": [
    {
     "data": {
      "image/png": "[encoded data removed]",
      "text/plain": [
       "<matplotlib.figure.Figure at 0x10af8a5d0>"
      ]
     },
     "metadata": {},
     "output_type": "display_data"
    }
   ],
   "source": [
    "cm = plt.get_cmap('jet')\n",
    "\n",
    "plt.figure(figsize=(10, 10))\n",
    "plt.scatter(x, y, color=[cm(int(n / 255)) for n in df['displays_regular_vid']])\n",
    "plt.plot([0, 1], [0, 1], '--b')\n",
    "plt.xlim(0, 0.005)\n",
    "plt.ylim(0, 0.005)\n",
    "plt.show()"
   ]
  },
  {
   "cell_type": "code",
   "execution_count": 48,
   "metadata": {
    "collapsed": false
   },
   "outputs": [
    {
     "data": {
      "text/plain": [
       "39"
      ]
     },
     "execution_count": 48,
     "metadata": {},
     "output_type": "execute_result"
    }
   ],
   "source": [
    "((y > x)).sum()"
   ]
  },
  {
   "cell_type": "code",
   "execution_count": 49,
   "metadata": {
    "collapsed": false
   },
   "outputs": [
    {
     "data": {
      "text/plain": [
       "43"
      ]
     },
     "execution_count": 49,
     "metadata": {},
     "output_type": "execute_result"
    }
   ],
   "source": [
    "((y < x)).sum()"
   ]
  },
  {
   "cell_type": "code",
   "execution_count": 50,
   "metadata": {
    "collapsed": false
   },
   "outputs": [
    {
     "data": {
      "text/plain": [
       "3"
      ]
     },
     "execution_count": 50,
     "metadata": {},
     "output_type": "execute_result"
    }
   ],
   "source": [
    "((y == x)).sum()"
   ]
  },
  {
   "cell_type": "code",
   "execution_count": null,
   "metadata": {
    "collapsed": true
   },
   "outputs": [],
   "source": []
  }
 ],
 "metadata": {
  "kernelspec": {
   "display_name": "Python 2",
   "language": "python",
   "name": "python2"
  },
  "language_info": {
   "codemirror_mode": {
    "name": "ipython",
    "version": 2
   },
   "file_extension": ".py",
   "mimetype": "text/x-python",
   "name": "python",
   "nbconvert_exporter": "python",
   "pygments_lexer": "ipython2",
   "version": "2.7.9"
  }
 },
 "nbformat": 4,
 "nbformat_minor": 0
}
