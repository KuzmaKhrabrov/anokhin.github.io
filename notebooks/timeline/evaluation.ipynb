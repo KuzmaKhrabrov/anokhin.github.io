{
 "cells": [
  {
   "cell_type": "code",
   "execution_count": 3,
   "metadata": {
    "collapsed": false
   },
   "outputs": [
    {
     "name": "stdout",
     "output_type": "stream",
     "text": [
      "Populating the interactive namespace from numpy and matplotlib\n"
     ]
    }
   ],
   "source": [
    "import ujson\n",
    "import datetime as dt\n",
    "import pandas as pd\n",
    "import numpy as np\n",
    "import pylab as pl\n",
    "import seaborn as sns\n",
    "import scipy.fftpack as ff\n",
    "import scipy.stats as ss\n",
    "\n",
    "%pylab inline"
   ]
  },
  {
   "cell_type": "code",
   "execution_count": 4,
   "metadata": {
    "collapsed": true
   },
   "outputs": [],
   "source": [
    "ingnored_dates = set([dt.date(2015, 3, 7), dt.date(2015, 3, 8), dt.date(2015, 2, 13), dt.date(2015, 2, 14), dt.date(2015, 1, 6), dt.date(2015, 1, 7), dt.date(2015, 4, 11), \n",
    "                  dt.date(2015, 4, 12), dt.date(2015, 2, 22), dt.date(2015, 2, 23), dt.date(2015, 5, 8), dt.date(2015, 5, 9), dt.date(2015, 1, 25), dt.date(2015, 1, 18), \n",
    "                  dt.date(2015, 1, 19), dt.date(2015, 3, 31), dt.date(2015, 4, 1), dt.date(2015, 6, 20), dt.date(2015, 6, 21), dt.date(2015, 7, 8), dt.date(2015, 5, 11), \n",
    "                  dt.date(2015, 5, 12), dt.date(2015, 7, 11), dt.date(2015, 1, 13), dt.date(2015, 1, 14), dt.date(2015, 4, 30), dt.date(2015, 5, 1), dt.date(2015, 11, 29), \n",
    "                  dt.date(2015, 2, 20), dt.date(2015, 10, 5), dt.date(2015, 5, 15), dt.date(2015, 3, 26), dt.date(2015, 5, 28), dt.date(2015, 10, 25), dt.date(2015, 1, 1), \n",
    "                  dt.date(2015, 11, 10), dt.date(2015, 11, 21), dt.date(2015, 9, 1), dt.date(2015, 6, 1), dt.date(2015, 7, 25), dt.date(2015, 6, 12), dt.date(2015, 8, 9), \n",
    "                  dt.date(2015, 2, 17), dt.date(2015, 9, 27), dt.date(2015, 7, 31), dt.date(2015, 3, 27), dt.date(2015, 9, 28)])"
   ]
  },
  {
   "cell_type": "code",
   "execution_count": 46,
   "metadata": {
    "collapsed": false
   },
   "outputs": [
    {
     "name": "stdout",
     "output_type": "stream",
     "text": [
      "uid N:574550641061 = date 2015-11-28 --> 101\n"
     ]
    }
   ],
   "source": [
    "lines = []\n",
    "date_set = set()\n",
    "with open(\"/Users/anokhin/Desktop/presents_2015_1x_N_1M.txt\") as tlf:\n",
    "    for line in tlf:\n",
    "        uid, json_str = line.strip().split(\"\\t\")\n",
    "                \n",
    "        json = ujson.loads(json_str)\n",
    "        \n",
    "        data = {\"uid\": uid}\n",
    "        for day, stats in json:\n",
    "            date = dt.datetime.strptime(day, \"%Y%m%d\").date()            \n",
    "            if date in ingnored_dates:\n",
    "                continue\n",
    "            else:                \n",
    "                date_set.add(date)\n",
    "            \n",
    "            data[date] = stats\n",
    "                \n",
    "        lines.append(data)\n",
    "        \n",
    "        if len(lines) >= 100000:\n",
    "            break\n",
    "\n",
    "dates = sorted(date_set)\n",
    "prices = range(1, 101)\n",
    "uids = []\n",
    "\n",
    "price_mat = np.zeros((len(lines), len(dates), len(prices)), dtype=int)\n",
    "\n",
    "for i, line in enumerate(lines):\n",
    "    uids.append(line[\"uid\"])\n",
    "    for j, date in enumerate(dates):\n",
    "        if date in line:\n",
    "            for p, count in line.get(date, {}).iteritems():\n",
    "                if int(p) > 100:\n",
    "                    print \"uid %s = date %s --> %s\" % (line[\"uid\"], date, p)                    \n",
    "                else:\n",
    "                    price_mat[i, j, int(p) - 1] = count"
   ]
  },
  {
   "cell_type": "code",
   "execution_count": 51,
   "metadata": {
    "collapsed": false,
    "scrolled": true
   },
   "outputs": [
    {
     "data": {
      "image/png": "[encoded data removed]",
      "text/plain": [
       "<matplotlib.figure.Figure at 0x12f0fd8d0>"
      ]
     },
     "metadata": {},
     "output_type": "display_data"
    }
   ],
   "source": [
    "uid_sublist = uids\n",
    "sublist_ind = [i for i, uid in enumerate(uids) if uid in uids]\n",
    "\n",
    "sublist_presents = np.sum(price_mat[sublist_ind], axis=0).T\n",
    "\n",
    "pl.figure(figsize=(20, 7))\n",
    "pl.pcolor(np.log10(sublist_presents + 1), cmap='plasma')\n",
    "pl.colorbar()\n",
    "pl.xlim(0, len(dates))\n",
    "pl.xticks([i + 0.5 for i in xrange(len(dates))], dates, rotation='vertical')\n",
    "pl.show()"
   ]
  },
  {
   "cell_type": "code",
   "execution_count": null,
   "metadata": {
    "collapsed": true
   },
   "outputs": [],
   "source": []
  }
 ],
 "metadata": {
  "kernelspec": {
   "display_name": "Python 2",
   "language": "python",
   "name": "python2"
  },
  "language_info": {
   "codemirror_mode": {
    "name": "ipython",
    "version": 2
   },
   "file_extension": ".py",
   "mimetype": "text/x-python",
   "name": "python",
   "nbconvert_exporter": "python",
   "pygments_lexer": "ipython2",
   "version": "2.7.9"
  }
 },
 "nbformat": 4,
 "nbformat_minor": 0
}
