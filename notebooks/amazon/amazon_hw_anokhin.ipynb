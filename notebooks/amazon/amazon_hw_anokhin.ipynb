{
 "cells": [
  {
   "cell_type": "code",
   "execution_count": 1,
   "metadata": {
    "collapsed": true
   },
   "outputs": [],
   "source": [
    "import pandas as pd"
   ]
  },
  {
   "cell_type": "code",
   "execution_count": 10,
   "metadata": {
    "collapsed": false
   },
   "outputs": [
    {
     "data": {
      "text/html": [
       "<div>\n",
       "<table border=\"1\" class=\"dataframe\">\n",
       "  <thead>\n",
       "    <tr style=\"text-align: right;\">\n",
       "      <th></th>\n",
       "      <th>price</th>\n",
       "      <th>date</th>\n",
       "      <th>property_type</th>\n",
       "      <th>lease_duration</th>\n",
       "      <th>town</th>\n",
       "    </tr>\n",
       "    <tr>\n",
       "      <th>tid</th>\n",
       "      <th></th>\n",
       "      <th></th>\n",
       "      <th></th>\n",
       "      <th></th>\n",
       "      <th></th>\n",
       "    </tr>\n",
       "  </thead>\n",
       "  <tbody>\n",
       "    <tr>\n",
       "      <th>{934524F1-8AA6-4597-8E5E-01CC5A8B9475}</th>\n",
       "      <td>46500</td>\n",
       "      <td>1995-12-15</td>\n",
       "      <td>S</td>\n",
       "      <td>F</td>\n",
       "      <td>MARKET HARBOROUGH</td>\n",
       "    </tr>\n",
       "    <tr>\n",
       "      <th>{6F595A64-A6A0-444E-9AEE-01CC6284317A}</th>\n",
       "      <td>20655</td>\n",
       "      <td>1995-10-02</td>\n",
       "      <td>S</td>\n",
       "      <td>F</td>\n",
       "      <td>TAUNTON</td>\n",
       "    </tr>\n",
       "    <tr>\n",
       "      <th>{B8073126-83C5-4041-A78F-01CCC5507370}</th>\n",
       "      <td>37500</td>\n",
       "      <td>1995-09-08</td>\n",
       "      <td>S</td>\n",
       "      <td>F</td>\n",
       "      <td>LOWESTOFT</td>\n",
       "    </tr>\n",
       "    <tr>\n",
       "      <th>{CA4CA19A-4E70-4B1E-8BEA-01CCFDBDB457}</th>\n",
       "      <td>28000</td>\n",
       "      <td>1995-09-01</td>\n",
       "      <td>T</td>\n",
       "      <td>F</td>\n",
       "      <td>NOTTINGHAM</td>\n",
       "    </tr>\n",
       "    <tr>\n",
       "      <th>{42E49D2B-0822-4D92-96A2-01CD4E8E05C5}</th>\n",
       "      <td>45000</td>\n",
       "      <td>1995-03-10</td>\n",
       "      <td>S</td>\n",
       "      <td>F</td>\n",
       "      <td>WORCESTER</td>\n",
       "    </tr>\n",
       "  </tbody>\n",
       "</table>\n",
       "</div>"
      ],
      "text/plain": [
       "                                        price       date property_type  \\\n",
       "tid                                                                      \n",
       "{934524F1-8AA6-4597-8E5E-01CC5A8B9475}  46500 1995-12-15             S   \n",
       "{6F595A64-A6A0-444E-9AEE-01CC6284317A}  20655 1995-10-02             S   \n",
       "{B8073126-83C5-4041-A78F-01CCC5507370}  37500 1995-09-08             S   \n",
       "{CA4CA19A-4E70-4B1E-8BEA-01CCFDBDB457}  28000 1995-09-01             T   \n",
       "{42E49D2B-0822-4D92-96A2-01CD4E8E05C5}  45000 1995-03-10             S   \n",
       "\n",
       "                                       lease_duration               town  \n",
       "tid                                                                       \n",
       "{934524F1-8AA6-4597-8E5E-01CC5A8B9475}              F  MARKET HARBOROUGH  \n",
       "{6F595A64-A6A0-444E-9AEE-01CC6284317A}              F            TAUNTON  \n",
       "{B8073126-83C5-4041-A78F-01CCC5507370}              F          LOWESTOFT  \n",
       "{CA4CA19A-4E70-4B1E-8BEA-01CCFDBDB457}              F         NOTTINGHAM  \n",
       "{42E49D2B-0822-4D92-96A2-01CD4E8E05C5}              F          WORCESTER  "
      ]
     },
     "execution_count": 10,
     "metadata": {},
     "output_type": "execute_result"
    }
   ],
   "source": [
    "column_names = [\n",
    "    \"tid\",\n",
    "    \"price\",\n",
    "    \"date\",\n",
    "    \"postcode\",\n",
    "    \"property_type\",\n",
    "    \"old_new\",\n",
    "    \"lease_duration\",    \n",
    "    \"paon\",\n",
    "    \"saon\",\n",
    "    \"street\", \n",
    "    \"locality\",\n",
    "    \"town\",\n",
    "    \"district\",\n",
    "    \"county\",\n",
    "    \"ppd\",\n",
    "    \"status\"\n",
    "]\n",
    "\n",
    "df_reader = pd.read_csv(\n",
    "    \"/Users/anokhin/Downloads/pp-complete.csv\",\n",
    "    header=None,\n",
    "    names=column_names,\n",
    "    index_col=0,\n",
    "    parse_dates=[\"date\"],\n",
    "    usecols=[\"tid\", \"price\", \"date\", \"property_type\", \"lease_duration\", \"town\"],\n",
    "    chunksize=10\n",
    ")\n",
    "\n",
    "for i, chunk in enumerate(df_reader):\n",
    "    if i == 1:\n",
    "        break\n",
    "    \n",
    "chunk.head()"
   ]
  },
  {
   "cell_type": "code",
   "execution_count": null,
   "metadata": {
    "collapsed": true
   },
   "outputs": [],
   "source": []
  }
 ],
 "metadata": {
  "kernelspec": {
   "display_name": "Python 2",
   "language": "python",
   "name": "python2"
  },
  "language_info": {
   "codemirror_mode": {
    "name": "ipython",
    "version": 2
   },
   "file_extension": ".py",
   "mimetype": "text/x-python",
   "name": "python",
   "nbconvert_exporter": "python",
   "pygments_lexer": "ipython2",
   "version": "2.7.9"
  }
 },
 "nbformat": 4,
 "nbformat_minor": 0
}
